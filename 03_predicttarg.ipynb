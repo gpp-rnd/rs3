{
 "cells": [
  {
   "cell_type": "code",
   "execution_count": null,
   "metadata": {},
   "outputs": [],
   "source": [
    "# default_exp predicttarg"
   ]
  },
  {
   "cell_type": "markdown",
   "metadata": {},
   "source": [
    "# predicttarg\n",
    "\n",
    "> Rule set 3 target-site predictions"
   ]
  },
  {
   "cell_type": "code",
   "execution_count": null,
   "metadata": {},
   "outputs": [],
   "source": [
    "# export\n",
    "from rs3 import targetfeat\n",
    "import joblib\n",
    "import os"
   ]
  },
  {
   "cell_type": "code",
   "execution_count": null,
   "metadata": {},
   "outputs": [],
   "source": [
    "import lightgbm\n",
    "import pandas as pd\n",
    "from rs3 import targetdata\n",
    "from scipy import stats\n",
    "import numpy as np"
   ]
  },
  {
   "cell_type": "code",
   "execution_count": null,
   "metadata": {},
   "outputs": [],
   "source": [
    "__file__ = os.path.abspath('') + '/03_predicttarg.ipynb'\n",
    "import multiprocessing\n",
    "max_n_jobs = multiprocessing.cpu_count()"
   ]
  },
  {
   "cell_type": "code",
   "execution_count": null,
   "metadata": {},
   "outputs": [],
   "source": [
    "# export\n",
    "def load_target_model(lite=False):\n",
    "    \"\"\"Load rule set 3 target model\"\"\"\n",
    "    if lite:\n",
    "        model_name = 'target_lite_model.pkl'\n",
    "    else:\n",
    "        model_name = 'target_model.pkl'\n",
    "    model = joblib.load(os.path.join(os.path.dirname(__file__), model_name))\n",
    "    return model"
   ]
  },
  {
   "cell_type": "code",
   "execution_count": null,
   "metadata": {},
   "outputs": [
    {
     "name": "stderr",
     "output_type": "stream",
     "text": [
      "/Users/pdeweird/opt/anaconda3/envs/rs3/lib/python3.8/site-packages/sklearn/base.py:310: UserWarning: Trying to unpickle estimator SimpleImputer from version 1.0.dev0 when using version 0.24.2. This might lead to breaking code or invalid results. Use at your own risk.\n",
      "  warnings.warn(\n",
      "/Users/pdeweird/opt/anaconda3/envs/rs3/lib/python3.8/site-packages/sklearn/base.py:310: UserWarning: Trying to unpickle estimator Pipeline from version 1.0.dev0 when using version 0.24.2. This might lead to breaking code or invalid results. Use at your own risk.\n",
      "  warnings.warn(\n"
     ]
    }
   ],
   "source": [
    "assert type(load_target_model()['regressor']) == lightgbm.sklearn.LGBMRegressor"
   ]
  },
  {
   "cell_type": "code",
   "execution_count": null,
   "metadata": {},
   "outputs": [],
   "source": [
    "# export\n",
    "def predict_target(design_df, aa_subseq_df, domain_feature_df=None,\n",
    "                   conservation_feature_df=None, id_cols=None):\n",
    "    \"\"\"Make predictions using the Rule Set 3 target model. Note that if the protein_domain_df\n",
    "    or conservation_df are not supplied, then the lite model will be used, otherwise the full model is used.\n",
    "\n",
    "    :param design_df: DataFrame\n",
    "    :param aa_subseq_df: DataFrame\n",
    "    :param domain_feature_df: DataFrame\n",
    "    :param id_cols: list or str\n",
    "    :return: list\n",
    "    \"\"\"\n",
    "    if (domain_feature_df is None) or (conservation_feature_df is None):\n",
    "        lite = True\n",
    "        domain_feature_df = None\n",
    "        conservation_feature_df = None\n",
    "    else:\n",
    "        lite = False\n",
    "    model = load_target_model(lite=lite)\n",
    "    if id_cols is None:\n",
    "        id_cols = ['sgRNA Context Sequence', 'Target Cut Length', 'Target Transcript', 'Orientation']\n",
    "    target_feature_df, target_feature_cols = targetfeat.merge_feature_dfs(design_df,\n",
    "                                                                          aa_subseq_df=aa_subseq_df,\n",
    "                                                                          domain_df=domain_feature_df,\n",
    "                                                                          conservation_df=conservation_feature_df,\n",
    "                                                                          id_cols=id_cols)\n",
    "    X_target = target_feature_df[target_feature_cols]\n",
    "    predictions = model.predict(X_target)\n",
    "    return predictions"
   ]
  },
  {
   "cell_type": "code",
   "execution_count": null,
   "metadata": {},
   "outputs": [],
   "source": [
    "design_df = pd.read_table('test_data/sgrna-designs.txt')\n",
    "design_targ_df = targetfeat.add_target_columns(design_df)\n",
    "id_cols = ['sgRNA Context Sequence', 'Target Cut Length', 'Target Transcript', 'Orientation']"
   ]
  },
  {
   "cell_type": "code",
   "execution_count": null,
   "metadata": {},
   "outputs": [
    {
     "name": "stdout",
     "output_type": "stream",
     "text": [
      "Getting amino acid sequences\n"
     ]
    },
    {
     "name": "stderr",
     "output_type": "stream",
     "text": [
      "100%|██████████| 4/4 [00:04<00:00,  1.04s/it]\n"
     ]
    },
    {
     "data": {
      "text/html": "<div>\n<style scoped>\n    .dataframe tbody tr th:only-of-type {\n        vertical-align: middle;\n    }\n\n    .dataframe tbody tr th {\n        vertical-align: top;\n    }\n\n    .dataframe thead th {\n        text-align: right;\n    }\n</style>\n<table border=\"1\" class=\"dataframe\">\n  <thead>\n    <tr style=\"text-align: right;\">\n      <th></th>\n      <th>Target Transcript</th>\n      <th>Target Total Length</th>\n      <th>Transcript Base</th>\n      <th>desc</th>\n      <th>molecule</th>\n      <th>seq</th>\n      <th>id</th>\n      <th>version</th>\n      <th>AA len</th>\n      <th>sgRNA Context Sequence</th>\n      <th>AA Index</th>\n      <th>Target Cut Length</th>\n      <th>Orientation</th>\n      <th>extended_seq</th>\n      <th>AA 0-Indexed</th>\n      <th>AA 0-Indexed padded</th>\n      <th>seq_start</th>\n      <th>seq_end</th>\n      <th>AA Subsequence</th>\n    </tr>\n  </thead>\n  <tbody>\n    <tr>\n      <th>0</th>\n      <td>ENST00000259457.8</td>\n      <td>834</td>\n      <td>ENST00000259457</td>\n      <td>None</td>\n      <td>protein</td>\n      <td>MAAVSVYAPPVGGFSFDNCRRNAVLEADFAKRGYKLPKVRKTGTTI...</td>\n      <td>ENSP00000259457</td>\n      <td>3</td>\n      <td>277</td>\n      <td>TGGAGCAGATACAAGAGCAACTGAAGGGAT</td>\n      <td>64</td>\n      <td>191</td>\n      <td>sense</td>\n      <td>-----------------MAAVSVYAPPVGGFSFDNCRRNAVLEADF...</td>\n      <td>63</td>\n      <td>80</td>\n      <td>64</td>\n      <td>96</td>\n      <td>GVVYKDGIVLGADTRATEGMVVADKNCSKIHFI</td>\n    </tr>\n    <tr>\n      <th>1</th>\n      <td>ENST00000259457.8</td>\n      <td>834</td>\n      <td>ENST00000259457</td>\n      <td>None</td>\n      <td>protein</td>\n      <td>MAAVSVYAPPVGGFSFDNCRRNAVLEADFAKRGYKLPKVRKTGTTI...</td>\n      <td>ENSP00000259457</td>\n      <td>3</td>\n      <td>277</td>\n      <td>CCGGAAAACTGGCACGACCATCGCTGGGGT</td>\n      <td>46</td>\n      <td>137</td>\n      <td>sense</td>\n      <td>-----------------MAAVSVYAPPVGGFSFDNCRRNAVLEADF...</td>\n      <td>45</td>\n      <td>62</td>\n      <td>46</td>\n      <td>78</td>\n      <td>AKRGYKLPKVRKTGTTIAGVVYKDGIVLGADTR</td>\n    </tr>\n    <tr>\n      <th>2</th>\n      <td>ENST00000394249.8</td>\n      <td>1863</td>\n      <td>ENST00000394249</td>\n      <td>None</td>\n      <td>protein</td>\n      <td>MRRSEVLAEESIVCLQKALNHLREIWELIGIPEDQRLQRTEVVKKH...</td>\n      <td>ENSP00000377793</td>\n      <td>3</td>\n      <td>620</td>\n      <td>TAGAAAAAGATTTGCGCACCCAAGTGGAAT</td>\n      <td>106</td>\n      <td>316</td>\n      <td>sense</td>\n      <td>-----------------MRRSEVLAEESIVCLQKALNHLREIWELI...</td>\n      <td>105</td>\n      <td>122</td>\n      <td>106</td>\n      <td>138</td>\n      <td>EEGETTILQLEKDLRTQVELMRKQKKERKQELK</td>\n    </tr>\n    <tr>\n      <th>3</th>\n      <td>ENST00000394249.8</td>\n      <td>1863</td>\n      <td>ENST00000394249</td>\n      <td>None</td>\n      <td>protein</td>\n      <td>MRRSEVLAEESIVCLQKALNHLREIWELIGIPEDQRLQRTEVVKKH...</td>\n      <td>ENSP00000377793</td>\n      <td>3</td>\n      <td>620</td>\n      <td>TGGCCTTTGACCCAGACATAATGGTGGCCA</td>\n      <td>263</td>\n      <td>787</td>\n      <td>antisense</td>\n      <td>-----------------MRRSEVLAEESIVCLQKALNHLREIWELI...</td>\n      <td>262</td>\n      <td>279</td>\n      <td>263</td>\n      <td>295</td>\n      <td>WDRLQIPEEEREAVATIMSGSKAKVRKALQLEV</td>\n    </tr>\n    <tr>\n      <th>4</th>\n      <td>ENST00000361337.3</td>\n      <td>2298</td>\n      <td>ENST00000361337</td>\n      <td>None</td>\n      <td>protein</td>\n      <td>MSGDHLHNDSQIEADFRLNDSHKHKDKHKDREHRHKEHKKEKDREK...</td>\n      <td>ENSP00000354522</td>\n      <td>2</td>\n      <td>765</td>\n      <td>AAATACTCACTCATCCTCATCTCGAGGTCT</td>\n      <td>140</td>\n      <td>420</td>\n      <td>antisense</td>\n      <td>-----------------MSGDHLHNDSQIEADFRLNDSHKHKDKHK...</td>\n      <td>139</td>\n      <td>156</td>\n      <td>140</td>\n      <td>172</td>\n      <td>GYFVPPKEDIKPLKRPRDEDDADYKPKKIKTED</td>\n    </tr>\n    <tr>\n      <th>...</th>\n      <td>...</td>\n      <td>...</td>\n      <td>...</td>\n      <td>...</td>\n      <td>...</td>\n      <td>...</td>\n      <td>...</td>\n      <td>...</td>\n      <td>...</td>\n      <td>...</td>\n      <td>...</td>\n      <td>...</td>\n      <td>...</td>\n      <td>...</td>\n      <td>...</td>\n      <td>...</td>\n      <td>...</td>\n      <td>...</td>\n      <td>...</td>\n    </tr>\n    <tr>\n      <th>395</th>\n      <td>ENST00000454402.7</td>\n      <td>1023</td>\n      <td>ENST00000454402</td>\n      <td>None</td>\n      <td>protein</td>\n      <td>METSALKQQEQPAATKIRNLPWVEKYRPQTLNDLISHQDILSTIQK...</td>\n      <td>ENSP00000408295</td>\n      <td>2</td>\n      <td>340</td>\n      <td>TGTCTTTATATAGCTGTTTCGCACAGGCTA</td>\n      <td>74</td>\n      <td>220</td>\n      <td>antisense</td>\n      <td>-----------------METSALKQQEQPAATKIRNLPWVEKYRPQ...</td>\n      <td>73</td>\n      <td>90</td>\n      <td>74</td>\n      <td>106</td>\n      <td>LYGPPGTGKTSTILACAKQLYKDKEFGSMVLEL</td>\n    </tr>\n    <tr>\n      <th>396</th>\n      <td>ENST00000254998.3</td>\n      <td>423</td>\n      <td>ENST00000254998</td>\n      <td>None</td>\n      <td>protein</td>\n      <td>MASVDFKTYVDQACRAAEEFVNVYYTTMDKRRRLLSRLYMGTATLV...</td>\n      <td>ENSP00000254998</td>\n      <td>2</td>\n      <td>140</td>\n      <td>TTGTCAATGTCTACTACACCACCATGGATA</td>\n      <td>27</td>\n      <td>79</td>\n      <td>sense</td>\n      <td>-----------------MASVDFKTYVDQACRAAEEFVNVYYTTMD...</td>\n      <td>26</td>\n      <td>43</td>\n      <td>27</td>\n      <td>59</td>\n      <td>DQACRAAEEFVNVYYTTMDKRRRLLSRLYMGTA</td>\n    </tr>\n    <tr>\n      <th>397</th>\n      <td>ENST00000254998.3</td>\n      <td>423</td>\n      <td>ENST00000254998</td>\n      <td>None</td>\n      <td>protein</td>\n      <td>MASVDFKTYVDQACRAAEEFVNVYYTTMDKRRRLLSRLYMGTATLV...</td>\n      <td>ENSP00000254998</td>\n      <td>2</td>\n      <td>140</td>\n      <td>GGCGTTTGCTGTCCCGCCTGTACATGGGCA</td>\n      <td>39</td>\n      <td>115</td>\n      <td>sense</td>\n      <td>-----------------MASVDFKTYVDQACRAAEEFVNVYYTTMD...</td>\n      <td>38</td>\n      <td>55</td>\n      <td>39</td>\n      <td>71</td>\n      <td>VYYTTMDKRRRLLSRLYMGTATLVWNGNAVSGQ</td>\n    </tr>\n    <tr>\n      <th>398</th>\n      <td>ENST00000381685.10</td>\n      <td>2067</td>\n      <td>ENST00000381685</td>\n      <td>None</td>\n      <td>protein</td>\n      <td>MQVSSLNEVKIYSLSCGKSLPEWLSDRKKRALQKKDVDVRRRIELI...</td>\n      <td>ENSP00000371101</td>\n      <td>5</td>\n      <td>688</td>\n      <td>ACTAGCAATGGCTTATCAGATCGAAGGTCA</td>\n      <td>259</td>\n      <td>776</td>\n      <td>antisense</td>\n      <td>-----------------MQVSSLNEVKIYSLSCGKSLPEWLSDRKK...</td>\n      <td>258</td>\n      <td>275</td>\n      <td>259</td>\n      <td>291</td>\n      <td>TMAVGTTTGQVLLYDLRSDKPLLVKDHQYGLPI</td>\n    </tr>\n    <tr>\n      <th>399</th>\n      <td>ENST00000381685.10</td>\n      <td>2067</td>\n      <td>ENST00000381685</td>\n      <td>None</td>\n      <td>protein</td>\n      <td>MQVSSLNEVKIYSLSCGKSLPEWLSDRKKRALQKKDVDVRRRIELI...</td>\n      <td>ENSP00000371101</td>\n      <td>5</td>\n      <td>688</td>\n      <td>AAATTTTGTCTGATGACTACTCAAAGGTAT</td>\n      <td>108</td>\n      <td>322</td>\n      <td>sense</td>\n      <td>-----------------MQVSSLNEVKIYSLSCGKSLPEWLSDRKK...</td>\n      <td>107</td>\n      <td>124</td>\n      <td>108</td>\n      <td>140</td>\n      <td>CLDSEVVTFEILSDDYSKIVFLHNDRYIEFHSQ</td>\n    </tr>\n  </tbody>\n</table>\n<p>400 rows × 19 columns</p>\n</div>",
      "text/plain": "      Target Transcript  Target Total Length  Transcript Base  desc molecule  \\\n0     ENST00000259457.8                  834  ENST00000259457  None  protein   \n1     ENST00000259457.8                  834  ENST00000259457  None  protein   \n2     ENST00000394249.8                 1863  ENST00000394249  None  protein   \n3     ENST00000394249.8                 1863  ENST00000394249  None  protein   \n4     ENST00000361337.3                 2298  ENST00000361337  None  protein   \n..                  ...                  ...              ...   ...      ...   \n395   ENST00000454402.7                 1023  ENST00000454402  None  protein   \n396   ENST00000254998.3                  423  ENST00000254998  None  protein   \n397   ENST00000254998.3                  423  ENST00000254998  None  protein   \n398  ENST00000381685.10                 2067  ENST00000381685  None  protein   \n399  ENST00000381685.10                 2067  ENST00000381685  None  protein   \n\n                                                   seq               id  \\\n0    MAAVSVYAPPVGGFSFDNCRRNAVLEADFAKRGYKLPKVRKTGTTI...  ENSP00000259457   \n1    MAAVSVYAPPVGGFSFDNCRRNAVLEADFAKRGYKLPKVRKTGTTI...  ENSP00000259457   \n2    MRRSEVLAEESIVCLQKALNHLREIWELIGIPEDQRLQRTEVVKKH...  ENSP00000377793   \n3    MRRSEVLAEESIVCLQKALNHLREIWELIGIPEDQRLQRTEVVKKH...  ENSP00000377793   \n4    MSGDHLHNDSQIEADFRLNDSHKHKDKHKDREHRHKEHKKEKDREK...  ENSP00000354522   \n..                                                 ...              ...   \n395  METSALKQQEQPAATKIRNLPWVEKYRPQTLNDLISHQDILSTIQK...  ENSP00000408295   \n396  MASVDFKTYVDQACRAAEEFVNVYYTTMDKRRRLLSRLYMGTATLV...  ENSP00000254998   \n397  MASVDFKTYVDQACRAAEEFVNVYYTTMDKRRRLLSRLYMGTATLV...  ENSP00000254998   \n398  MQVSSLNEVKIYSLSCGKSLPEWLSDRKKRALQKKDVDVRRRIELI...  ENSP00000371101   \n399  MQVSSLNEVKIYSLSCGKSLPEWLSDRKKRALQKKDVDVRRRIELI...  ENSP00000371101   \n\n     version  AA len          sgRNA Context Sequence  AA Index  \\\n0          3     277  TGGAGCAGATACAAGAGCAACTGAAGGGAT        64   \n1          3     277  CCGGAAAACTGGCACGACCATCGCTGGGGT        46   \n2          3     620  TAGAAAAAGATTTGCGCACCCAAGTGGAAT       106   \n3          3     620  TGGCCTTTGACCCAGACATAATGGTGGCCA       263   \n4          2     765  AAATACTCACTCATCCTCATCTCGAGGTCT       140   \n..       ...     ...                             ...       ...   \n395        2     340  TGTCTTTATATAGCTGTTTCGCACAGGCTA        74   \n396        2     140  TTGTCAATGTCTACTACACCACCATGGATA        27   \n397        2     140  GGCGTTTGCTGTCCCGCCTGTACATGGGCA        39   \n398        5     688  ACTAGCAATGGCTTATCAGATCGAAGGTCA       259   \n399        5     688  AAATTTTGTCTGATGACTACTCAAAGGTAT       108   \n\n     Target Cut Length Orientation  \\\n0                  191       sense   \n1                  137       sense   \n2                  316       sense   \n3                  787   antisense   \n4                  420   antisense   \n..                 ...         ...   \n395                220   antisense   \n396                 79       sense   \n397                115       sense   \n398                776   antisense   \n399                322       sense   \n\n                                          extended_seq  AA 0-Indexed  \\\n0    -----------------MAAVSVYAPPVGGFSFDNCRRNAVLEADF...            63   \n1    -----------------MAAVSVYAPPVGGFSFDNCRRNAVLEADF...            45   \n2    -----------------MRRSEVLAEESIVCLQKALNHLREIWELI...           105   \n3    -----------------MRRSEVLAEESIVCLQKALNHLREIWELI...           262   \n4    -----------------MSGDHLHNDSQIEADFRLNDSHKHKDKHK...           139   \n..                                                 ...           ...   \n395  -----------------METSALKQQEQPAATKIRNLPWVEKYRPQ...            73   \n396  -----------------MASVDFKTYVDQACRAAEEFVNVYYTTMD...            26   \n397  -----------------MASVDFKTYVDQACRAAEEFVNVYYTTMD...            38   \n398  -----------------MQVSSLNEVKIYSLSCGKSLPEWLSDRKK...           258   \n399  -----------------MQVSSLNEVKIYSLSCGKSLPEWLSDRKK...           107   \n\n     AA 0-Indexed padded  seq_start  seq_end  \\\n0                     80         64       96   \n1                     62         46       78   \n2                    122        106      138   \n3                    279        263      295   \n4                    156        140      172   \n..                   ...        ...      ...   \n395                   90         74      106   \n396                   43         27       59   \n397                   55         39       71   \n398                  275        259      291   \n399                  124        108      140   \n\n                        AA Subsequence  \n0    GVVYKDGIVLGADTRATEGMVVADKNCSKIHFI  \n1    AKRGYKLPKVRKTGTTIAGVVYKDGIVLGADTR  \n2    EEGETTILQLEKDLRTQVELMRKQKKERKQELK  \n3    WDRLQIPEEEREAVATIMSGSKAKVRKALQLEV  \n4    GYFVPPKEDIKPLKRPRDEDDADYKPKKIKTED  \n..                                 ...  \n395  LYGPPGTGKTSTILACAKQLYKDKEFGSMVLEL  \n396  DQACRAAEEFVNVYYTTMDKRRRLLSRLYMGTA  \n397  VYYTTMDKRRRLLSRLYMGTATLVWNGNAVSGQ  \n398  TMAVGTTTGQVLLYDLRSDKPLLVKDHQYGLPI  \n399  CLDSEVVTFEILSDDYSKIVFLHNDRYIEFHSQ  \n\n[400 rows x 19 columns]"
     },
     "execution_count": null,
     "metadata": {},
     "output_type": "execute_result"
    }
   ],
   "source": [
    "## aa sequences\n",
    "aa_seq_df = targetdata.build_transcript_aa_seq_df(design_df, n_jobs=2)\n",
    "aa_subseq_df = targetfeat.get_aa_subseq_df(sg_designs=design_targ_df, aa_seq_df=aa_seq_df, width=16,\n",
    "                                           id_cols=id_cols)\n",
    "aa_subseq_df"
   ]
  },
  {
   "cell_type": "code",
   "execution_count": null,
   "metadata": {},
   "outputs": [
    {
     "name": "stdout",
     "output_type": "stream",
     "text": [
      "Getting protein domains\n"
     ]
    },
    {
     "name": "stderr",
     "output_type": "stream",
     "text": [
      "100%|██████████| 200/200 [00:48<00:00,  4.12it/s]\n"
     ]
    }
   ],
   "source": [
    "## domains\n",
    "domain_df = targetdata.build_translation_overlap_df(aa_seq_df['id'].unique(), n_jobs=2)\n",
    "domain_feature_df = targetfeat.get_protein_domain_features(design_targ_df, domain_df, sources=None,\n",
    "                                                           id_cols=id_cols)"
   ]
  },
  {
   "cell_type": "code",
   "execution_count": null,
   "metadata": {},
   "outputs": [
    {
     "name": "stdout",
     "output_type": "stream",
     "text": [
      "Getting conservation\n"
     ]
    },
    {
     "name": "stderr",
     "output_type": "stream",
     "text": [
      "100%|██████████| 200/200 [03:53<00:00,  1.17s/it]\n"
     ]
    },
    {
     "data": {
      "text/html": "<div>\n<style scoped>\n    .dataframe tbody tr th:only-of-type {\n        vertical-align: middle;\n    }\n\n    .dataframe tbody tr th {\n        vertical-align: top;\n    }\n\n    .dataframe thead th {\n        text-align: right;\n    }\n</style>\n<table border=\"1\" class=\"dataframe\">\n  <thead>\n    <tr style=\"text-align: right;\">\n      <th></th>\n      <th>sgRNA Context Sequence</th>\n      <th>Target Cut Length</th>\n      <th>Target Transcript</th>\n      <th>Orientation</th>\n      <th>cons_4</th>\n      <th>cons_32</th>\n    </tr>\n  </thead>\n  <tbody>\n    <tr>\n      <th>0</th>\n      <td>AAAAGAATGATGAAAAGACACCACAGGGAG</td>\n      <td>244</td>\n      <td>ENST00000610426.5</td>\n      <td>sense</td>\n      <td>0.218231</td>\n      <td>0.408844</td>\n    </tr>\n    <tr>\n      <th>1</th>\n      <td>AAAAGAGCCATGAATCTAAACATCAGGAAT</td>\n      <td>640</td>\n      <td>ENST00000223073.6</td>\n      <td>sense</td>\n      <td>0.129825</td>\n      <td>0.278180</td>\n    </tr>\n    <tr>\n      <th>2</th>\n      <td>AAAAGCGCCAAATGGCCCGAGAATTGGGAG</td>\n      <td>709</td>\n      <td>ENST00000331923.9</td>\n      <td>sense</td>\n      <td>0.470906</td>\n      <td>0.532305</td>\n    </tr>\n    <tr>\n      <th>3</th>\n      <td>AAACAGAAAAAGTTAAAATCACCAAGGTGT</td>\n      <td>496</td>\n      <td>ENST00000283882.4</td>\n      <td>sense</td>\n      <td>0.580556</td>\n      <td>0.602708</td>\n    </tr>\n    <tr>\n      <th>4</th>\n      <td>AAACAGATGGAAGATGCTTACCGGGGGACC</td>\n      <td>132</td>\n      <td>ENST00000393047.8</td>\n      <td>sense</td>\n      <td>0.283447</td>\n      <td>0.414293</td>\n    </tr>\n    <tr>\n      <th>...</th>\n      <td>...</td>\n      <td>...</td>\n      <td>...</td>\n      <td>...</td>\n      <td>...</td>\n      <td>...</td>\n    </tr>\n    <tr>\n      <th>395</th>\n      <td>TTTGATTGCATTAAGGTTGGACTCTGGATT</td>\n      <td>246</td>\n      <td>ENST00000249269.9</td>\n      <td>sense</td>\n      <td>0.580612</td>\n      <td>0.618707</td>\n    </tr>\n    <tr>\n      <th>396</th>\n      <td>TTTGCCCACAGCTCCAAAGCATCGCGGAGA</td>\n      <td>130</td>\n      <td>ENST00000227618.8</td>\n      <td>sense</td>\n      <td>0.323770</td>\n      <td>0.416368</td>\n    </tr>\n    <tr>\n      <th>397</th>\n      <td>TTTTACAGTGCGATGTATGATGTATGGCTT</td>\n      <td>119</td>\n      <td>ENST00000338366.6</td>\n      <td>sense</td>\n      <td>0.788000</td>\n      <td>0.537417</td>\n    </tr>\n    <tr>\n      <th>398</th>\n      <td>TTTTGGATCTCGTAGTGATTCAAGAGGGAA</td>\n      <td>233</td>\n      <td>ENST00000629496.3</td>\n      <td>sense</td>\n      <td>0.239630</td>\n      <td>0.347615</td>\n    </tr>\n    <tr>\n      <th>399</th>\n      <td>TTTTTGTTACTACAGGTTCGCTGCTGGGAA</td>\n      <td>201</td>\n      <td>ENST00000395840.6</td>\n      <td>sense</td>\n      <td>0.693767</td>\n      <td>0.639044</td>\n    </tr>\n  </tbody>\n</table>\n<p>400 rows × 6 columns</p>\n</div>",
      "text/plain": "             sgRNA Context Sequence  Target Cut Length  Target Transcript  \\\n0    AAAAGAATGATGAAAAGACACCACAGGGAG                244  ENST00000610426.5   \n1    AAAAGAGCCATGAATCTAAACATCAGGAAT                640  ENST00000223073.6   \n2    AAAAGCGCCAAATGGCCCGAGAATTGGGAG                709  ENST00000331923.9   \n3    AAACAGAAAAAGTTAAAATCACCAAGGTGT                496  ENST00000283882.4   \n4    AAACAGATGGAAGATGCTTACCGGGGGACC                132  ENST00000393047.8   \n..                              ...                ...                ...   \n395  TTTGATTGCATTAAGGTTGGACTCTGGATT                246  ENST00000249269.9   \n396  TTTGCCCACAGCTCCAAAGCATCGCGGAGA                130  ENST00000227618.8   \n397  TTTTACAGTGCGATGTATGATGTATGGCTT                119  ENST00000338366.6   \n398  TTTTGGATCTCGTAGTGATTCAAGAGGGAA                233  ENST00000629496.3   \n399  TTTTTGTTACTACAGGTTCGCTGCTGGGAA                201  ENST00000395840.6   \n\n    Orientation    cons_4   cons_32  \n0         sense  0.218231  0.408844  \n1         sense  0.129825  0.278180  \n2         sense  0.470906  0.532305  \n3         sense  0.580556  0.602708  \n4         sense  0.283447  0.414293  \n..          ...       ...       ...  \n395       sense  0.580612  0.618707  \n396       sense  0.323770  0.416368  \n397       sense  0.788000  0.537417  \n398       sense  0.239630  0.347615  \n399       sense  0.693767  0.639044  \n\n[400 rows x 6 columns]"
     },
     "execution_count": null,
     "metadata": {},
     "output_type": "execute_result"
    }
   ],
   "source": [
    "## conservation\n",
    "conservation_df = targetdata.build_conservation_df(design_df, n_jobs=max_n_jobs)\n",
    "conservation_feature_df = targetfeat.get_conservation_features(design_targ_df, conservation_df,\n",
    "                                                             small_width=2, large_width=16,\n",
    "                                                             conservation_column='ranked_conservation',\n",
    "                                                             id_cols=id_cols)\n",
    "conservation_feature_df"
   ]
  },
  {
   "cell_type": "code",
   "execution_count": null,
   "metadata": {},
   "outputs": [
    {
     "name": "stderr",
     "output_type": "stream",
     "text": [
      "/Users/pdeweird/opt/anaconda3/envs/rs3/lib/python3.8/site-packages/sklearn/base.py:310: UserWarning: Trying to unpickle estimator SimpleImputer from version 1.0.dev0 when using version 0.24.2. This might lead to breaking code or invalid results. Use at your own risk.\n",
      "  warnings.warn(\n",
      "/Users/pdeweird/opt/anaconda3/envs/rs3/lib/python3.8/site-packages/sklearn/base.py:310: UserWarning: Trying to unpickle estimator Pipeline from version 1.0.dev0 when using version 0.24.2. This might lead to breaking code or invalid results. Use at your own risk.\n",
      "  warnings.warn(\n"
     ]
    }
   ],
   "source": [
    "predictions = predict_target(design_df=design_df,\n",
    "                             aa_subseq_df=aa_subseq_df,\n",
    "                             domain_feature_df=domain_feature_df,\n",
    "                             conservation_feature_df=conservation_feature_df)\n",
    "design_df['Target Score'] = predictions"
   ]
  },
  {
   "cell_type": "code",
   "execution_count": null,
   "metadata": {},
   "outputs": [
    {
     "name": "stderr",
     "output_type": "stream",
     "text": [
      "/Users/pdeweird/opt/anaconda3/envs/rs3/lib/python3.8/site-packages/sklearn/base.py:310: UserWarning: Trying to unpickle estimator SimpleImputer from version 1.0.dev0 when using version 0.24.2. This might lead to breaking code or invalid results. Use at your own risk.\n",
      "  warnings.warn(\n",
      "/Users/pdeweird/opt/anaconda3/envs/rs3/lib/python3.8/site-packages/sklearn/base.py:310: UserWarning: Trying to unpickle estimator Pipeline from version 1.0.dev0 when using version 0.24.2. This might lead to breaking code or invalid results. Use at your own risk.\n",
      "  warnings.warn(\n"
     ]
    }
   ],
   "source": [
    "lite_predictions = predict_target(design_df=design_df,\n",
    "                                  aa_subseq_df=aa_subseq_df)\n",
    "design_df['Target Score Lite'] = lite_predictions"
   ]
  },
  {
   "cell_type": "code",
   "execution_count": null,
   "metadata": {},
   "outputs": [
    {
     "data": {
      "text/plain": "0      TGGAGCAGATACAAGAGCAACTGAAGGGAT\n1      CCGGAAAACTGGCACGACCATCGCTGGGGT\n2      TAGAAAAAGATTTGCGCACCCAAGTGGAAT\n3      TGGCCTTTGACCCAGACATAATGGTGGCCA\n4      AAATACTCACTCATCCTCATCTCGAGGTCT\n                    ...              \n395    TGTCTTTATATAGCTGTTTCGCACAGGCTA\n396    TTGTCAATGTCTACTACACCACCATGGATA\n397    GGCGTTTGCTGTCCCGCCTGTACATGGGCA\n398    ACTAGCAATGGCTTATCAGATCGAAGGTCA\n399    AAATTTTGTCTGATGACTACTCAAAGGTAT\nName: sgRNA Context Sequence, Length: 400, dtype: object"
     },
     "execution_count": null,
     "metadata": {},
     "output_type": "execute_result"
    }
   ],
   "source": [
    "design_df['sgRNA Context Sequence']"
   ]
  },
  {
   "cell_type": "code",
   "execution_count": null,
   "metadata": {},
   "outputs": [],
   "source": [
    "assert stats.pearsonr(design_df['Target Score'], design_df['Target Score Lite'])[0] > 0.7"
   ]
  },
  {
   "cell_type": "code",
   "execution_count": null,
   "metadata": {},
   "outputs": [],
   "source": [
    "sanger_df = pd.read_csv('test_data/Behan2019_activity.csv')\n",
    "gecko_df = pd.read_csv('test_data/Aguirre2016_activity.csv')\n",
    "\n",
    "sanger_designs = sanger_df.merge(design_df, how='inner',\n",
    "                                 on=['sgRNA Sequence', 'sgRNA Context Sequence', 'Target Gene Symbol',\n",
    "                                     'Target Cut %'])\n",
    "gecko_designs = gecko_df.merge(design_df, how='inner',\n",
    "                                on=['sgRNA Sequence', 'sgRNA Context Sequence', 'Target Gene Symbol',\n",
    "                                    'Target Cut %'])\n",
    "assert stats.pearsonr(sanger_designs['avg_mean_centered_neg_lfc'],\n",
    "                      sanger_designs['Target Score'])[0] > 0.2\n",
    "assert stats.pearsonr(gecko_designs['avg_mean_centered_neg_lfc'],\n",
    "                      gecko_designs['Target Score'])[0] > 0.05"
   ]
  },
  {
   "cell_type": "code",
   "execution_count": null,
   "metadata": {},
   "outputs": [],
   "source": [
    "rs_dev_target_lite_predictions = (pd.read_csv('test_data/target_lite_score_export.csv')\n",
    "                                  .rename({'Target Lite Score': 'Target Score Lite'}, axis=1))\n",
    "rs_dev_target_predictions = pd.read_csv('test_data/target_score_export.csv')\n",
    "merged_rs_dev_predictions = rs_dev_target_lite_predictions.merge(rs_dev_target_predictions,\n",
    "                                                                 how='inner')\n",
    "merged_rs_dev_rs3_predictions = (design_df\n",
    "                                 .merge(merged_rs_dev_predictions,\n",
    "                                        how='inner',\n",
    "                                        on=['sgRNA Context Sequence', 'Target Cut Length',\n",
    "                                            'Target Transcript', 'Orientation'],\n",
    "                                        suffixes=[' rs3', ' rs_dev']))\n",
    "assert np.allclose(merged_rs_dev_rs3_predictions['Target Score rs3'], merged_rs_dev_rs3_predictions['Target Score rs_dev'])\n",
    "assert np.allclose(merged_rs_dev_rs3_predictions['Target Score Lite rs3'], merged_rs_dev_rs3_predictions['Target Score Lite rs_dev'])\n"
   ]
  }
 ],
 "metadata": {
  "kernelspec": {
   "display_name": "Python 3",
   "language": "python",
   "name": "python3"
  }
 },
 "nbformat": 4,
 "nbformat_minor": 0
}
