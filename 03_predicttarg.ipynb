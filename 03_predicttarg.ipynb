{
 "cells": [
  {
   "cell_type": "code",
   "execution_count": null,
   "metadata": {},
   "outputs": [],
   "source": [
    "# default_exp predicttarg"
   ]
  },
  {
   "cell_type": "markdown",
   "metadata": {},
   "source": [
    "# predicttarg\n",
    "\n",
    "> Rule set 3 target-site predictions"
   ]
  },
  {
   "cell_type": "code",
   "execution_count": null,
   "metadata": {},
   "outputs": [],
   "source": [
    "# export\n",
    "from rs3 import targetfeat\n",
    "import joblib\n",
    "import os"
   ]
  },
  {
   "cell_type": "code",
   "execution_count": null,
   "metadata": {},
   "outputs": [],
   "source": [
    "import lightgbm\n",
    "import pandas as pd\n",
    "from rs3 import targetdata\n",
    "from scipy import stats"
   ]
  },
  {
   "cell_type": "code",
   "execution_count": null,
   "metadata": {},
   "outputs": [],
   "source": [
    "__file__ = os.path.abspath('') + '/03_predicttarg.ipynb'"
   ]
  },
  {
   "cell_type": "code",
   "execution_count": null,
   "metadata": {},
   "outputs": [],
   "source": [
    "# export\n",
    "def load_target_model():\n",
    "    \"\"\"Load rule set 3 target model\"\"\"\n",
    "    model = joblib.load(os.path.join(os.path.dirname(__file__), 'target_model.pkl'))\n",
    "    return model"
   ]
  },
  {
   "cell_type": "code",
   "execution_count": null,
   "metadata": {},
   "outputs": [
    {
     "name": "stderr",
     "output_type": "stream",
     "text": [
      "/Users/pdeweird/opt/anaconda3/envs/rs3/lib/python3.8/site-packages/sklearn/base.py:310: UserWarning: Trying to unpickle estimator SimpleImputer from version 1.0.dev0 when using version 0.24.2. This might lead to breaking code or invalid results. Use at your own risk.\n",
      "  warnings.warn(\n",
      "/Users/pdeweird/opt/anaconda3/envs/rs3/lib/python3.8/site-packages/sklearn/base.py:310: UserWarning: Trying to unpickle estimator Pipeline from version 1.0.dev0 when using version 0.24.2. This might lead to breaking code or invalid results. Use at your own risk.\n",
      "  warnings.warn(\n"
     ]
    }
   ],
   "source": [
    "assert type(load_target_model()['regressor']) == lightgbm.sklearn.LGBMRegressor"
   ]
  },
  {
   "cell_type": "code",
   "execution_count": null,
   "metadata": {},
   "outputs": [],
   "source": [
    "# export\n",
    "def predict_target(design_df, aa_seq_df, protein_domain_df,\n",
    "                   id_cols=None):\n",
    "    \"\"\"Make predictions using the Rule Set 3 target model\n",
    "\n",
    "    :param design_df: DataFrame\n",
    "    :param aa_seq_df: DataFrame\n",
    "    :param protein_domain_df: DatFrame\n",
    "    :param id_cols: list or str\n",
    "    :return: list\n",
    "    \"\"\"\n",
    "    model = load_target_model()\n",
    "    if id_cols is None:\n",
    "        id_cols = ['sgRNA Context Sequence', 'Target Cut Length', 'Target Transcript', 'Orientation']\n",
    "    target_feature_df, target_feature_cols = (targetfeat\n",
    "                                              .build_target_feature_df(design_df,\n",
    "                                                                       features=['position', 'aa', 'domain'], # fixed\n",
    "                                                                       aa_seq_df=aa_seq_df,\n",
    "                                                                       protein_domain_df=protein_domain_df,\n",
    "                                                                       id_cols=id_cols))\n",
    "    X_target = target_feature_df[target_feature_cols]\n",
    "    predictions = model.predict(X_target)\n",
    "    return predictions"
   ]
  },
  {
   "cell_type": "code",
   "execution_count": null,
   "metadata": {},
   "outputs": [
    {
     "name": "stdout",
     "output_type": "stream",
     "text": [
      "Getting amino acid sequences\n"
     ]
    },
    {
     "name": "stderr",
     "output_type": "stream",
     "text": [
      "100%|██████████| 4/4 [00:00<00:00, 91.28it/s]\n"
     ]
    },
    {
     "name": "stdout",
     "output_type": "stream",
     "text": [
      "Getting protein domains\n"
     ]
    },
    {
     "name": "stderr",
     "output_type": "stream",
     "text": [
      "100%|██████████| 200/200 [00:40<00:00,  4.94it/s]\n",
      "/Users/pdeweird/opt/anaconda3/envs/rs3/lib/python3.8/site-packages/sklearn/base.py:310: UserWarning: Trying to unpickle estimator SimpleImputer from version 1.0.dev0 when using version 0.24.2. This might lead to breaking code or invalid results. Use at your own risk.\n",
      "  warnings.warn(\n",
      "/Users/pdeweird/opt/anaconda3/envs/rs3/lib/python3.8/site-packages/sklearn/base.py:310: UserWarning: Trying to unpickle estimator Pipeline from version 1.0.dev0 when using version 0.24.2. This might lead to breaking code or invalid results. Use at your own risk.\n",
      "  warnings.warn(\n"
     ]
    }
   ],
   "source": [
    "design_df = pd.read_table('test_data/sgrna-designs.txt')\n",
    "aa_seq_df = targetdata.build_transcript_aa_seq_df(design_df, n_jobs=2)\n",
    "domain_df = targetdata.build_translation_overlap_df(aa_seq_df['id'].unique(), n_jobs=2)\n",
    "predictions = predict_target(design_df, aa_seq_df, domain_df)\n",
    "design_df['Target Score'] = predictions"
   ]
  },
  {
   "cell_type": "code",
   "execution_count": null,
   "metadata": {},
   "outputs": [],
   "source": [
    "sanger_df = pd.read_csv('test_data/Behan2019_activity.csv')\n",
    "gecko_df = pd.read_csv('test_data/Aguirre2017_activity.csv')\n",
    "\n",
    "sanger_designs = sanger_df.merge(design_df, how='inner',\n",
    "                                 on=['sgRNA Sequence', 'sgRNA Context Sequence', 'Target Gene Symbol',\n",
    "                                     'Target Cut %'])\n",
    "gecko_designs = gecko_df.merge(design_df, how='inner',\n",
    "                                on=['sgRNA Sequence', 'sgRNA Context Sequence', 'Target Gene Symbol',\n",
    "                                    'Target Cut %'])\n",
    "assert stats.pearsonr(sanger_designs['avg_mean_centered_neg_lfc'],\n",
    "                      sanger_designs['Target Score'])[0] > 0.05\n",
    "assert stats.pearsonr(gecko_designs['avg_mean_centered_neg_lfc'],\n",
    "                      gecko_designs['Target Score'])[0] > 0.05\n"
   ]
  }
 ],
 "metadata": {
  "kernelspec": {
   "display_name": "Python 3",
   "language": "python",
   "name": "python3"
  }
 },
 "nbformat": 4,
 "nbformat_minor": 0
}
