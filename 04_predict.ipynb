{
 "cells": [
  {
   "cell_type": "code",
   "execution_count": null,
   "metadata": {},
   "outputs": [],
   "source": [
    "# default_exp predict"
   ]
  },
  {
   "cell_type": "markdown",
   "metadata": {},
   "source": [
    "# predict\n",
    "\n",
    "> Wrap all components of making rule set 3 predictions into one function"
   ]
  },
  {
   "cell_type": "code",
   "execution_count": null,
   "metadata": {},
   "outputs": [],
   "source": [
    "# export\n",
    "import pandas as pd\n",
    "import warnings\n",
    "\n",
    "from rs3.seq import predict_seq\n",
    "from rs3.targetdata import (build_translation_overlap_df,\n",
    "                            build_transcript_aa_seq_df,\n",
    "                            build_conservation_df)\n",
    "from rs3.targetfeat import (add_target_columns,\n",
    "                            get_aa_subseq_df,\n",
    "                            get_protein_domain_features,\n",
    "                            get_conservation_features)\n",
    "from rs3.predicttarg import predict_target"
   ]
  },
  {
   "cell_type": "code",
   "execution_count": null,
   "metadata": {},
   "outputs": [],
   "source": [
    "from rs3.targetdata import write_transcript_data, write_conservation_data"
   ]
  },
  {
   "cell_type": "code",
   "execution_count": null,
   "metadata": {},
   "outputs": [],
   "source": [
    "design_df = pd.read_table('test_data/sgrna-designs.txt')\n",
    "sanger_activity = pd.read_csv('test_data/Behan2019_activity.csv')\n",
    "gecko_activity = pd.read_csv('test_data/Aguirre2016_activity.csv')\n",
    "import multiprocessing\n",
    "max_n_jobs = multiprocessing.cpu_count()"
   ]
  },
  {
   "cell_type": "code",
   "execution_count": null,
   "metadata": {},
   "outputs": [],
   "source": [
    "# export\n",
    "from pandas.api.types import is_list_like\n",
    "\n",
    "def predict_seq_tracr(design_df, tracr, context_col, ref_tracrs, n_jobs):\n",
    "    if not tracr in ref_tracrs:\n",
    "        raise ValueError('tracrRNA must be one of ' + ','.join(ref_tracrs))\n",
    "    design_df['RS3 Sequence Score (' + tracr + ' tracr)'] = predict_seq(design_df[context_col], sequence_tracr=tracr,\n",
    "                                                                        n_jobs=n_jobs)\n",
    "\n",
    "def combine_target_seq_scores(design_df, tracr, target_score_col, lite):\n",
    "    full_rs_name = 'RS3 Sequence (' + tracr + ' tracr) + Target Score'\n",
    "    if lite:\n",
    "        full_rs_name += 'Lite'\n",
    "    design_df[full_rs_name] = \\\n",
    "        design_df['RS3 Sequence Score (' + tracr + ' tracr)'] + \\\n",
    "        design_df[target_score_col]\n",
    "\n",
    "def predict(design_df, tracr=None, target=False,\n",
    "            aa_seq_file=None, domain_file=None,\n",
    "            conservatin_file=None,\n",
    "            id_cols=None,\n",
    "            context_col='sgRNA Context Sequence',\n",
    "            transcript_id_col='Target Transcript',\n",
    "            transcript_base_col='Transcript Base',\n",
    "            transcript_len_col='Target Total Length',\n",
    "            n_jobs_min=1, n_jobs_max=1, lite=True):\n",
    "    \"\"\"Make predictions using RS3\n",
    "\n",
    "    :param design_df: DataFrame\n",
    "    :param tracr: str or list\n",
    "    :param target: bool, whether to include target scores\n",
    "    :param aa_seq_file: str, path to precomputed amino acid sequences\n",
    "    :param domain_file: str, path to precomputed domain file\n",
    "    :param id_cols: list or None\n",
    "    :param context_col: str\n",
    "    :param transcript_id_col: str\n",
    "    :param transcript_base_col: str\n",
    "    :param transcript_len_col: str\n",
    "    :param n_jobs_min: int\n",
    "    :return: DataFram\n",
    "    \"\"\"\n",
    "    if id_cols is None:\n",
    "        id_cols = ['sgRNA Context Sequence', 'Target Cut Length', 'Target Transcript', 'Orientation']\n",
    "    out_df = design_df.copy()\n",
    "    ref_tracrs = ['Hsu2013', 'Chen2013']\n",
    "    if type(tracr) is str:\n",
    "        predict_seq_tracr(out_df, tracr, context_col, ref_tracrs, n_jobs=n_jobs_max)\n",
    "    elif is_list_like(tracr):\n",
    "        for t in tracr:\n",
    "            predict_seq_tracr(out_df, t, context_col, ref_tracrs, n_jobs=n_jobs_max)\n",
    "    else:\n",
    "        raise ValueError('Could not recognize tracr input: ' + str(tracr))\n",
    "    if target:\n",
    "        out_df = add_target_columns(out_df,\n",
    "                                    transcript_base_col=transcript_base_col)\n",
    "        transcript_bases = pd.Series(out_df[transcript_base_col].unique())\n",
    "        if aa_seq_file is None:\n",
    "            aa_seq_df = build_transcript_aa_seq_df(out_df,\n",
    "                                                   transcript_id_col=transcript_id_col,\n",
    "                                                   transcript_len_col=transcript_len_col,\n",
    "                                                   n_jobs=n_jobs_min)\n",
    "        else:\n",
    "            aa_seq_df = pd.read_parquet(aa_seq_file, engine='pyarrow',\n",
    "                                        filters=[[(transcript_base_col, 'in', transcript_bases)]])\n",
    "        missing_transcripts_aa = transcript_bases[~transcript_bases.isin(aa_seq_df[transcript_base_col])]\n",
    "        if len(missing_transcripts_aa) > 0:\n",
    "            warnings.warn('Missing amino acid sequences for transcripts: ' +\n",
    "                          ','.join(missing_transcripts_aa))\n",
    "            out_df['Missing translation information'] = out_df[transcript_base_col].isin(missing_transcripts_aa)\n",
    "        aa_subseq_df = get_aa_subseq_df(sg_designs=out_df, aa_seq_df=aa_seq_df, width=16,\n",
    "                                        id_cols=id_cols)\n",
    "        if lite:\n",
    "            target_score_col = 'Target Score Lite'\n",
    "            out_df[target_score_col] = predict_target(design_df=out_df, aa_subseq_df=aa_subseq_df,\n",
    "                                                      id_cols=id_cols)\n",
    "        else:\n",
    "            if domain_file is None:\n",
    "                domain_df = build_translation_overlap_df(aa_seq_df['id'].unique(), n_jobs=n_jobs_min)\n",
    "            else:\n",
    "                domain_df = pd.read_parquet(domain_file, engine='pyarrow',\n",
    "                                            filters=[[(transcript_base_col, 'in', transcript_bases)]])\n",
    "                # No warning for domain, since some transcripts aren't annotated with any domains\n",
    "            domain_feature_df = get_protein_domain_features(out_df, domain_df,\n",
    "                                                           id_cols=id_cols, transcript_base_col=transcript_base_col)\n",
    "            if conservatin_file is None:\n",
    "                conservation_df = build_conservation_df(out_df, n_jobs=n_jobs_max)\n",
    "            else:\n",
    "                conservation_df = pd.read_parquet(conservatin_file, engine='pyarrow',\n",
    "                                                  filters=[[(transcript_base_col, 'in', transcript_bases)]])\n",
    "            missing_transcripts_cons = transcript_bases[~transcript_bases.isin(conservation_df[transcript_base_col])]\n",
    "            if len(missing_transcripts_cons) > 0:\n",
    "                warnings.warn('Missing conservation scores for transcripts: ' +\n",
    "                              ','.join(missing_transcripts_cons))\n",
    "            out_df['Missing conservation information'] = out_df[transcript_base_col].isin(missing_transcripts_cons)\n",
    "            conservation_feature_df = get_conservation_features(out_df, conservation_df,\n",
    "                                                                small_width=2, large_width=16,\n",
    "                                                                conservation_column='ranked_conservation',\n",
    "                                                                id_cols=id_cols)\n",
    "            target_score_col = 'Target Score'\n",
    "            out_df[target_score_col] = predict_target(design_df=out_df, aa_subseq_df=aa_subseq_df,\n",
    "                                                      domain_feature_df=domain_feature_df,\n",
    "                                                      conservation_feature_df=conservation_feature_df,\n",
    "                                                      id_cols=id_cols)\n",
    "        if type(tracr) is str:\n",
    "            combine_target_seq_scores(out_df, tracr, target_score_col, lite)\n",
    "        else: # list\n",
    "            for t in tracr:\n",
    "                combine_target_seq_scores(out_df, t, target_score_col, lite)\n",
    "    return out_df"
   ]
  },
  {
   "cell_type": "code",
   "execution_count": null,
   "metadata": {},
   "outputs": [
    {
     "name": "stdout",
     "output_type": "stream",
     "text": [
      "Calculating sequence-based features\n"
     ]
    },
    {
     "name": "stderr",
     "output_type": "stream",
     "text": [
      "100%|██████████| 400/400 [00:03<00:00, 113.01it/s]\n"
     ]
    },
    {
     "name": "stdout",
     "output_type": "stream",
     "text": [
      "Calculating sequence-based features\n"
     ]
    },
    {
     "name": "stderr",
     "output_type": "stream",
     "text": [
      "100%|██████████| 400/400 [00:00<00:00, 1934.24it/s]\n"
     ]
    },
    {
     "name": "stdout",
     "output_type": "stream",
     "text": [
      "Getting amino acid sequences\n"
     ]
    },
    {
     "name": "stderr",
     "output_type": "stream",
     "text": [
      "100%|██████████| 4/4 [00:03<00:00,  1.00it/s]\n"
     ]
    },
    {
     "name": "stdout",
     "output_type": "stream",
     "text": [
      "Getting protein domains\n"
     ]
    },
    {
     "name": "stderr",
     "output_type": "stream",
     "text": [
      "100%|██████████| 200/200 [01:10<00:00,  2.82it/s]\n"
     ]
    },
    {
     "name": "stdout",
     "output_type": "stream",
     "text": [
      "Getting conservation\n"
     ]
    },
    {
     "name": "stderr",
     "output_type": "stream",
     "text": [
      "100%|██████████| 200/200 [03:47<00:00,  1.14s/it]\n",
      "/Users/pdeweird/Documents/rs3/rs3/targetdata.py:345: UserWarning: Failed to get conservation scores for 2 transcriptsENST00000368892, ENST00000629399\n",
      "  warnings.warn('Failed to get conservation scores for ' + str(len(failed_list)) +\n",
      "<ipython-input-5-c4cb19900fff>:92: UserWarning: Missing conservation scores for transcripts: ENST00000368892,ENST00000629399\n",
      "  warnings.warn('Missing conservation scores for transcripts: ' +\n",
      "/Users/pdeweird/opt/anaconda3/envs/rs3/lib/python3.8/site-packages/sklearn/base.py:310: UserWarning: Trying to unpickle estimator SimpleImputer from version 1.0.dev0 when using version 0.24.2. This might lead to breaking code or invalid results. Use at your own risk.\n",
      "  warnings.warn(\n",
      "/Users/pdeweird/opt/anaconda3/envs/rs3/lib/python3.8/site-packages/sklearn/base.py:310: UserWarning: Trying to unpickle estimator Pipeline from version 1.0.dev0 when using version 0.24.2. This might lead to breaking code or invalid results. Use at your own risk.\n",
      "  warnings.warn(\n"
     ]
    }
   ],
   "source": [
    "scored_designs = predict(design_df, tracr=['Hsu2013', 'Chen2013'], target=True,\n",
    "                         n_jobs_min=2, n_jobs_max=max_n_jobs,\n",
    "                         lite=False)"
   ]
  },
  {
   "cell_type": "code",
   "execution_count": null,
   "metadata": {},
   "outputs": [
    {
     "name": "stdout",
     "output_type": "stream",
     "text": [
      "Getting amino acid sequences\n"
     ]
    },
    {
     "name": "stderr",
     "output_type": "stream",
     "text": [
      "100%|██████████| 4/4 [00:03<00:00,  1.23it/s]\n"
     ]
    },
    {
     "name": "stdout",
     "output_type": "stream",
     "text": [
      "Getting protein domains\n"
     ]
    },
    {
     "name": "stderr",
     "output_type": "stream",
     "text": [
      "100%|██████████| 200/200 [00:53<00:00,  3.70it/s]\n"
     ]
    }
   ],
   "source": [
    "write_transcript_data(design_df, n_jobs=2,\n",
    "                      filepath='./data/target_data/',\n",
    "                      aa_seq_name='aa_seqs.pq',\n",
    "                      protein_domain_name='protein_domains.pq')"
   ]
  },
  {
   "cell_type": "code",
   "execution_count": null,
   "metadata": {},
   "outputs": [
    {
     "name": "stdout",
     "output_type": "stream",
     "text": [
      "Getting conservation\n"
     ]
    },
    {
     "name": "stderr",
     "output_type": "stream",
     "text": [
      "100%|██████████| 200/200 [04:05<00:00,  1.23s/it]\n",
      "/Users/pdeweird/Documents/rs3/rs3/targetdata.py:345: UserWarning: Failed to get conservation scores for 1 transcriptsENST00000393047\n",
      "  warnings.warn('Failed to get conservation scores for ' + str(len(failed_list)) +\n"
     ]
    }
   ],
   "source": [
    "write_conservation_data(design_df, n_jobs=max_n_jobs,\n",
    "                        filepath='./data/target_data/',\n",
    "                        cons_file_name='conservation.pq')"
   ]
  },
  {
   "cell_type": "code",
   "execution_count": null,
   "metadata": {},
   "outputs": [
    {
     "name": "stdout",
     "output_type": "stream",
     "text": [
      "Calculating sequence-based features\n"
     ]
    },
    {
     "name": "stderr",
     "output_type": "stream",
     "text": [
      "100%|██████████| 400/400 [00:00<00:00, 605.59it/s]\n"
     ]
    },
    {
     "name": "stdout",
     "output_type": "stream",
     "text": [
      "Calculating sequence-based features\n"
     ]
    },
    {
     "name": "stderr",
     "output_type": "stream",
     "text": [
      "100%|██████████| 400/400 [00:00<00:00, 2427.89it/s]\n",
      "<ipython-input-5-c4cb19900fff>:92: UserWarning: Missing conservation scores for transcripts: ENST00000393047\n",
      "  warnings.warn('Missing conservation scores for transcripts: ' +\n",
      "/Users/pdeweird/opt/anaconda3/envs/rs3/lib/python3.8/site-packages/sklearn/base.py:310: UserWarning: Trying to unpickle estimator SimpleImputer from version 1.0.dev0 when using version 0.24.2. This might lead to breaking code or invalid results. Use at your own risk.\n",
      "  warnings.warn(\n",
      "/Users/pdeweird/opt/anaconda3/envs/rs3/lib/python3.8/site-packages/sklearn/base.py:310: UserWarning: Trying to unpickle estimator Pipeline from version 1.0.dev0 when using version 0.24.2. This might lead to breaking code or invalid results. Use at your own risk.\n",
      "  warnings.warn(\n"
     ]
    },
    {
     "ename": "AssertionError",
     "evalue": "DataFrame.iloc[:, 64] (column name=\"Missing conservation information\") are different\n\nDataFrame.iloc[:, 64] (column name=\"Missing conservation information\") values are different (1.5 %)\n[index]: [0, 1, 2, 3, 4, 5, 6, 7, 8, 9, 10, 11, 12, 13, 14, 15, 16, 17, 18, 19, 20, 21, 22, 23, 24, 25, 26, 27, 28, 29, 30, 31, 32, 33, 34, 35, 36, 37, 38, 39, 40, 41, 42, 43, 44, 45, 46, 47, 48, 49, 50, 51, 52, 53, 54, 55, 56, 57, 58, 59, 60, 61, 62, 63, 64, 65, 66, 67, 68, 69, 70, 71, 72, 73, 74, 75, 76, 77, 78, 79, 80, 81, 82, 83, 84, 85, 86, 87, 88, 89, 90, 91, 92, 93, 94, 95, 96, 97, 98, 99, ...]\n[left]:  [False, False, False, False, False, False, False, False, False, False, False, False, False, False, False, False, False, False, False, False, False, False, False, False, False, False, False, False, False, False, False, False, False, False, False, False, False, False, False, False, False, False, False, False, False, False, False, False, False, False, False, False, False, False, False, False, False, False, False, False, False, False, False, False, False, False, False, False, False, False, False, False, False, False, False, False, False, False, False, False, False, False, False, False, False, False, False, False, False, False, False, False, False, False, False, False, False, False, False, False, ...]\n[right]: [False, False, False, False, False, False, False, False, False, False, False, False, False, False, False, False, False, False, False, False, False, False, False, False, False, False, False, False, False, False, False, False, False, False, False, False, False, False, False, False, False, False, False, False, False, False, False, False, False, False, False, False, False, False, False, False, False, False, False, False, False, False, False, False, False, False, False, False, False, False, False, False, False, False, False, False, False, False, False, False, False, False, False, False, False, False, False, False, False, False, False, False, False, False, False, False, False, False, False, False, ...]",
     "output_type": "error",
     "traceback": [
      "\u001b[0;31m---------------------------------------------------------------------------\u001b[0m",
      "\u001b[0;31mAssertionError\u001b[0m                            Traceback (most recent call last)",
      "\u001b[0;32m<ipython-input-9-dc96c6fbd8d1>\u001b[0m in \u001b[0;36m<module>\u001b[0;34m\u001b[0m\n\u001b[1;32m      5\u001b[0m                                 \u001b[0mconservatin_file\u001b[0m\u001b[0;34m=\u001b[0m\u001b[0;34m'./data/target_data/conservation.pq'\u001b[0m\u001b[0;34m,\u001b[0m\u001b[0;34m\u001b[0m\u001b[0;34m\u001b[0m\u001b[0m\n\u001b[1;32m      6\u001b[0m                                 lite=False)\n\u001b[0;32m----> 7\u001b[0;31m \u001b[0mpd\u001b[0m\u001b[0;34m.\u001b[0m\u001b[0mtesting\u001b[0m\u001b[0;34m.\u001b[0m\u001b[0massert_frame_equal\u001b[0m\u001b[0;34m(\u001b[0m\u001b[0mscored_designs\u001b[0m\u001b[0;34m,\u001b[0m \u001b[0mscored_designs_stored\u001b[0m\u001b[0;34m)\u001b[0m\u001b[0;34m\u001b[0m\u001b[0;34m\u001b[0m\u001b[0m\n\u001b[0m\u001b[1;32m      8\u001b[0m \u001b[0;34m\u001b[0m\u001b[0m\n",
      "    \u001b[0;31m[... skipping hidden 2 frame]\u001b[0m\n",
      "\u001b[0;32mpandas/_libs/testing.pyx\u001b[0m in \u001b[0;36mpandas._libs.testing.assert_almost_equal\u001b[0;34m()\u001b[0m\n",
      "\u001b[0;32mpandas/_libs/testing.pyx\u001b[0m in \u001b[0;36mpandas._libs.testing.assert_almost_equal\u001b[0;34m()\u001b[0m\n",
      "\u001b[0;32m~/opt/anaconda3/envs/rs3/lib/python3.8/site-packages/pandas/_testing.py\u001b[0m in \u001b[0;36mraise_assert_detail\u001b[0;34m(obj, message, left, right, diff, index_values)\u001b[0m\n\u001b[1;32m   1071\u001b[0m         \u001b[0mmsg\u001b[0m \u001b[0;34m+=\u001b[0m \u001b[0;34mf\"\\n[diff]: {diff}\"\u001b[0m\u001b[0;34m\u001b[0m\u001b[0;34m\u001b[0m\u001b[0m\n\u001b[1;32m   1072\u001b[0m \u001b[0;34m\u001b[0m\u001b[0m\n\u001b[0;32m-> 1073\u001b[0;31m     \u001b[0;32mraise\u001b[0m \u001b[0mAssertionError\u001b[0m\u001b[0;34m(\u001b[0m\u001b[0mmsg\u001b[0m\u001b[0;34m)\u001b[0m\u001b[0;34m\u001b[0m\u001b[0;34m\u001b[0m\u001b[0m\n\u001b[0m\u001b[1;32m   1074\u001b[0m \u001b[0;34m\u001b[0m\u001b[0m\n\u001b[1;32m   1075\u001b[0m \u001b[0;34m\u001b[0m\u001b[0m\n",
      "\u001b[0;31mAssertionError\u001b[0m: DataFrame.iloc[:, 64] (column name=\"Missing conservation information\") are different\n\nDataFrame.iloc[:, 64] (column name=\"Missing conservation information\") values are different (1.5 %)\n[index]: [0, 1, 2, 3, 4, 5, 6, 7, 8, 9, 10, 11, 12, 13, 14, 15, 16, 17, 18, 19, 20, 21, 22, 23, 24, 25, 26, 27, 28, 29, 30, 31, 32, 33, 34, 35, 36, 37, 38, 39, 40, 41, 42, 43, 44, 45, 46, 47, 48, 49, 50, 51, 52, 53, 54, 55, 56, 57, 58, 59, 60, 61, 62, 63, 64, 65, 66, 67, 68, 69, 70, 71, 72, 73, 74, 75, 76, 77, 78, 79, 80, 81, 82, 83, 84, 85, 86, 87, 88, 89, 90, 91, 92, 93, 94, 95, 96, 97, 98, 99, ...]\n[left]:  [False, False, False, False, False, False, False, False, False, False, False, False, False, False, False, False, False, False, False, False, False, False, False, False, False, False, False, False, False, False, False, False, False, False, False, False, False, False, False, False, False, False, False, False, False, False, False, False, False, False, False, False, False, False, False, False, False, False, False, False, False, False, False, False, False, False, False, False, False, False, False, False, False, False, False, False, False, False, False, False, False, False, False, False, False, False, False, False, False, False, False, False, False, False, False, False, False, False, False, False, ...]\n[right]: [False, False, False, False, False, False, False, False, False, False, False, False, False, False, False, False, False, False, False, False, False, False, False, False, False, False, False, False, False, False, False, False, False, False, False, False, False, False, False, False, False, False, False, False, False, False, False, False, False, False, False, False, False, False, False, False, False, False, False, False, False, False, False, False, False, False, False, False, False, False, False, False, False, False, False, False, False, False, False, False, False, False, False, False, False, False, False, False, False, False, False, False, False, False, False, False, False, False, False, False, ...]"
     ]
    }
   ],
   "source": [
    "scored_designs_stored = predict(design_df, tracr=['Hsu2013', 'Chen2013'], target=True,\n",
    "                                n_jobs_min=2, n_jobs_max=max_n_jobs,\n",
    "                                aa_seq_file='./data/target_data/aa_seqs.pq',\n",
    "                                domain_file='./data/target_data/protein_domains.pq',\n",
    "                                conservatin_file='./data/target_data/conservation.pq',\n",
    "                                lite=False)\n",
    "pd.testing.assert_frame_equal(scored_designs, scored_designs_stored)"
   ]
  },
  {
   "cell_type": "code",
   "execution_count": null,
   "metadata": {},
   "outputs": [],
   "source": [
    "activity_id_cols = ['sgRNA Sequence', 'sgRNA Context Sequence',\n",
    "                    'Target Gene Symbol', 'Target Cut %']\n",
    "sanger_actvity_scores = (sanger_activity.merge(scored_designs_stored,\n",
    "                                               how='inner',\n",
    "                                               on=activity_id_cols))\n",
    "gecko_activity_scores = (gecko_activity.merge(scored_designs_stored,\n",
    "                                              how='inner',\n",
    "                                              on=activity_id_cols))\n"
   ]
  },
  {
   "cell_type": "code",
   "execution_count": null,
   "metadata": {},
   "outputs": [],
   "source": [
    "import seaborn as sns\n",
    "activity_col = 'avg_mean_centered_neg_lfc'\n",
    "score_cols = ['RS3 Sequence Score (Hsu2013 tracr)',\n",
    "              'RS3 Sequence Score (Chen2013 tracr)',\n",
    "              'Target Score',\n",
    "              'RS3 Sequence (Hsu2013 tracr) + Target Score',\n",
    "              'RS3 Sequence (Chen2013 tracr) + Target Score']\n",
    "sanger_activity_cors = sanger_actvity_scores[[activity_col] + score_cols].corr()\n",
    "sns.clustermap(sanger_activity_cors, annot=True, cmap='RdBu_r', vmin=-1, vmax=1)"
   ]
  },
  {
   "cell_type": "code",
   "execution_count": null,
   "metadata": {},
   "outputs": [],
   "source": [
    "assert (sanger_activity_cors.loc[activity_col, 'RS3 Sequence (Chen2013 tracr) + Target Score'] >\n",
    "        sanger_activity_cors.loc[activity_col, 'RS3 Sequence (Hsu2013 tracr) + Target Score'] >\n",
    "        sanger_activity_cors.loc[activity_col, 'RS3 Sequence Score (Chen2013 tracr)'] >\n",
    "        sanger_activity_cors.loc[activity_col, 'RS3 Sequence Score (Hsu2013 tracr)'] >\n",
    "        sanger_activity_cors.loc[activity_col, 'Target Score'])"
   ]
  },
  {
   "cell_type": "code",
   "execution_count": null,
   "metadata": {},
   "outputs": [],
   "source": [
    "gecko_activity_cors = gecko_activity_scores[[activity_col] + score_cols].corr()\n",
    "sns.clustermap(gecko_activity_cors, annot=True, cmap='RdBu_r', vmin=-1, vmax=1)"
   ]
  },
  {
   "cell_type": "code",
   "execution_count": null,
   "metadata": {},
   "outputs": [],
   "source": [
    "assert (gecko_activity_cors.loc[activity_col, 'RS3 Sequence (Hsu2013 tracr) + Target Score'] >\n",
    "        gecko_activity_cors.loc[activity_col, 'RS3 Sequence Score (Hsu2013 tracr)'] >\n",
    "        gecko_activity_cors.loc[activity_col, 'RS3 Sequence Score (Chen2013 tracr)'] >\n",
    "        gecko_activity_cors.loc[activity_col, 'RS3 Sequence (Chen2013 tracr) + Target Score'] >\n",
    "        gecko_activity_cors.loc[activity_col, 'Target Score'])"
   ]
  }
 ],
 "metadata": {
  "kernelspec": {
   "display_name": "Python 3",
   "language": "python",
   "name": "python3"
  }
 },
 "nbformat": 4,
 "nbformat_minor": 0
}
