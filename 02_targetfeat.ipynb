{
 "cells": [
  {
   "cell_type": "code",
   "execution_count": null,
   "metadata": {},
   "outputs": [],
   "source": [
    "# default_exp targetfeat"
   ]
  },
  {
   "cell_type": "markdown",
   "metadata": {},
   "source": [
    "# targetfeat\n",
    "> Module to generate target site features"
   ]
  },
  {
   "cell_type": "code",
   "execution_count": null,
   "metadata": {},
   "outputs": [],
   "source": [
    "# export\n",
    "import pandas as pd\n",
    "from Bio.SeqUtils.ProtParam import ProteinAnalysis\n",
    "import warnings"
   ]
  },
  {
   "cell_type": "code",
   "execution_count": null,
   "metadata": {},
   "outputs": [],
   "source": [
    "from rs3 import targetdata"
   ]
  },
  {
   "cell_type": "code",
   "execution_count": null,
   "metadata": {},
   "outputs": [],
   "source": [
    "import multiprocessing\n",
    "max_n_jobs = multiprocessing.cpu_count()"
   ]
  },
  {
   "cell_type": "code",
   "execution_count": null,
   "metadata": {},
   "outputs": [],
   "source": [
    "# export\n",
    "def add_target_columns(design_df, transcript_id_col='Target Transcript',\n",
    "                       cut_pos_col='Target Cut Length',\n",
    "                       transcript_base_col='Transcript Base'):\n",
    "    \"\"\"Add ['AA Index' and 'Transcript Base'] to design df\n",
    "\n",
    "    :param design_df: DataFrame\n",
    "    :return: DataFrame\n",
    "    \"\"\"\n",
    "    out_df = design_df.copy()\n",
    "    out_df['AA Index'] = (out_df[cut_pos_col] - 1) // 3 + 1\n",
    "    out_df[transcript_base_col] = out_df[transcript_id_col].str.split('.', expand=True)[0]\n",
    "    return out_df"
   ]
  },
  {
   "cell_type": "code",
   "execution_count": null,
   "metadata": {},
   "outputs": [],
   "source": [
    "design_df = pd.read_table('test_data/sgrna-designs.txt')\n",
    "design_targ_df = add_target_columns(design_df)\n",
    "assert 'AA Index' in design_targ_df.columns"
   ]
  },
  {
   "cell_type": "markdown",
   "metadata": {},
   "source": [
    "## Position Features\n",
    "\n",
    "The first feature class we consider is where the guide targets within the annotated transcript"
   ]
  },
  {
   "cell_type": "code",
   "execution_count": null,
   "metadata": {},
   "outputs": [],
   "source": [
    "# export\n",
    "def get_position_features(sg_df, id_cols):\n",
    "    \"\"\"Get  features ['Target Cut %', 'sense']\n",
    "\n",
    "    :param sg_df: DataFrame\n",
    "    :param id_cols: list\n",
    "    :return: DataFrame\n",
    "    \"\"\"\n",
    "    position_df = sg_df[id_cols + ['Target Cut %']].copy()\n",
    "    position_df['sense'] = sg_df['Orientation'] == 'sense'\n",
    "    return position_df"
   ]
  },
  {
   "cell_type": "markdown",
   "metadata": {},
   "source": [
    "## Amino Acid Features\n",
    "\n",
    "We calculate a set of features from the amino acid sequence around the cutsite itself"
   ]
  },
  {
   "cell_type": "code",
   "execution_count": null,
   "metadata": {},
   "outputs": [],
   "source": [
    "aas = ['A', 'C', 'D', 'E', 'F',\n",
    "       'G', 'H', 'I', 'K', 'L',\n",
    "       'M', 'N', 'P', 'Q', 'R',\n",
    "       'S', 'T', 'V', 'W', 'Y', '*']"
   ]
  },
  {
   "cell_type": "code",
   "execution_count": null,
   "metadata": {},
   "outputs": [],
   "source": [
    "# export\n",
    "def get_one_aa_frac(feature_dict, aa_sequence, aas):\n",
    "    \"\"\"Get fraction of single aa\n",
    "\n",
    "    :param feature_dict: dict, feature dictionary\n",
    "    :param aa_sequence: str, amino acid sequence\n",
    "    :param aas: list, list of amino acids\n",
    "    \"\"\"\n",
    "    for aa in aas:\n",
    "        aa_frac = aa_sequence.count(aa) / len(aa_sequence)\n",
    "        feature_dict[aa] = aa_frac"
   ]
  },
  {
   "cell_type": "code",
   "execution_count": null,
   "metadata": {},
   "outputs": [],
   "source": [
    "one_aa_ft = {}\n",
    "get_one_aa_frac(one_aa_ft, 'ACDG*-', aas)\n",
    "assert one_aa_ft['A'] == 1/6\n",
    "assert one_aa_ft['Q'] == 0"
   ]
  },
  {
   "cell_type": "code",
   "execution_count": null,
   "metadata": {},
   "outputs": [],
   "source": [
    "# export\n",
    "def get_aa_aromaticity(feature_dict, analyzed_seq):\n",
    "    \"\"\"Get fraction of aromatic amino acids in a sequence.\n",
    "\n",
    "    Phe (F) + Trp (W) + Tyr (Y)\n",
    "\n",
    "    :param feature_dict:\n",
    "    :param analyzed_seq: ProteinAnalysis object\n",
    "    \"\"\"\n",
    "    feature_dict['Aromaticity'] = analyzed_seq.aromaticity()\n",
    "\n",
    "\n",
    "def get_aa_hydrophobicity(feature_dict, analyzed_seq):\n",
    "    \"\"\"Grand Average of Hydropathy\n",
    "\n",
    "     The GRAVY value is calculated by adding the hydropathy value for each residue and dividing\n",
    "     by the length of the sequence (Kyte and Doolittle; 1982). The larger the number, the more hydrophobic the\n",
    "     amino acid\n",
    "\n",
    "    :param feature_dict: dict\n",
    "    :param analyzed_seq: ProteinAnalysis object\n",
    "    \"\"\"\n",
    "    feature_dict['Hydrophobicity'] = analyzed_seq.gravy()\n",
    "\n",
    "\n",
    "def get_aa_ip(feature_dict, analyzed_seq):\n",
    "    \"\"\"Get the Isoelectric Point of an amino acid sequence\n",
    "\n",
    "    Charge of amino acid\n",
    "\n",
    "    :param feature_dict: dict\n",
    "    :param analyzed_seq: ProteinAnalysis object\n",
    "    \"\"\"\n",
    "    feature_dict['Isoelectric Point'] = analyzed_seq.isoelectric_point()\n",
    "\n",
    "\n",
    "def get_aa_secondary_structure(feature_dict, analyzed_seq):\n",
    "    \"\"\"Get the fraction of amion acids that tend to be in a helix, turn or sheet\n",
    "\n",
    "    :param feature_dict: dict\n",
    "    :param analyzed_seq: ProteinAnalysis object\n",
    "    \"\"\"\n",
    "    feature_dict['Helix'], feature_dict['Turn'], feature_dict['Sheet'] = analyzed_seq.secondary_structure_fraction()\n"
   ]
  },
  {
   "cell_type": "code",
   "execution_count": null,
   "metadata": {},
   "outputs": [],
   "source": [
    "aa_biochemical_fts1 = {}\n",
    "get_aa_aromaticity(aa_biochemical_fts1, ProteinAnalysis('FWYA'))\n",
    "aa_biochemical_fts2 = {}\n",
    "get_aa_aromaticity(aa_biochemical_fts2, ProteinAnalysis('AAAA'))\n",
    "assert aa_biochemical_fts1['Aromaticity'] > aa_biochemical_fts2['Aromaticity']"
   ]
  },
  {
   "cell_type": "code",
   "execution_count": null,
   "metadata": {},
   "outputs": [],
   "source": [
    "# export\n",
    "def featurize_aa_seqs(aa_sequences, features=None):\n",
    "    \"\"\"Get feature DataFrame for a list of amino acid sequences\n",
    "\n",
    "    :param aa_sequences: list of str\n",
    "    :param features: list or None\n",
    "    :return: DataFrame\n",
    "    \"\"\"\n",
    "    if features is None:\n",
    "        features = ['Pos. Ind. 1mer', 'Hydrophobicity', 'Aromaticity',\n",
    "                    'Isoelectric Point', 'Secondary Structure']\n",
    "    aas = ['A', 'C', 'D', 'E', 'F',\n",
    "           'G', 'H', 'I', 'K', 'L',\n",
    "           'M', 'N', 'P', 'Q', 'R',\n",
    "           'S', 'T', 'V', 'W', 'Y', '*']\n",
    "    clean_aa_seqs = aa_sequences.str.replace('\\*|-', '', regex=True)\n",
    "    feature_dict_list = []\n",
    "    for i, (aa_sequence, clean_sequence) in enumerate(zip(aa_sequences, clean_aa_seqs)):\n",
    "        analyzed_seq = ProteinAnalysis(clean_sequence)\n",
    "        feature_dict = {}\n",
    "        if 'Pos. Ind. 1mer' in features:\n",
    "            get_one_aa_frac(feature_dict, aa_sequence, aas)\n",
    "        if 'Hydrophobicity' in features:\n",
    "            get_aa_hydrophobicity(feature_dict, analyzed_seq)\n",
    "        if 'Aromaticity' in features:\n",
    "            get_aa_aromaticity(feature_dict, analyzed_seq)\n",
    "        if 'Isoelectric Point' in features:\n",
    "            get_aa_ip(feature_dict, analyzed_seq)\n",
    "        if 'Secondary Structure' in features:\n",
    "            get_aa_secondary_structure(feature_dict, analyzed_seq)\n",
    "        feature_dict_list.append(feature_dict)\n",
    "    feature_matrix = pd.DataFrame(feature_dict_list)\n",
    "    feature_matrix.index = aa_sequences\n",
    "    return feature_matrix"
   ]
  },
  {
   "cell_type": "code",
   "execution_count": null,
   "metadata": {},
   "outputs": [],
   "source": [
    "ft_dict_df = featurize_aa_seqs(pd.Series(['ACDG*-', 'CDG*--', 'LLLLLL']))\n",
    "assert ft_dict_df.loc['LLLLLL', 'Hydrophobicity'] == ft_dict_df['Hydrophobicity'].max()"
   ]
  },
  {
   "cell_type": "code",
   "execution_count": null,
   "metadata": {},
   "outputs": [],
   "source": [
    "# export\n",
    "def extract_amino_acid_subsequence(sg_aas, width):\n",
    "    \"\"\" Get the amino acid subsequence with a width of `width` on either side of the Amino Acid index\n",
    "\n",
    "    :param sg_aas: DataFrame, sgRNA designs merged with amino acid sequence\n",
    "    :param width: int\n",
    "    :return: DataFrame\n",
    "    \"\"\"\n",
    "    # Pad the sequences at the beginning and end, so our index doesn't go over\n",
    "    l_padding = '-' * (width + 1)  # can cut just before the CDS\n",
    "    r_padding = '-' * width  # can cut the stop codon\n",
    "    # add stop codon at the end of the sequence\n",
    "    sg_aas_subseq = sg_aas.copy()\n",
    "    sg_aas_subseq['extended_seq'] = l_padding + sg_aas_subseq['seq'] + '*' + r_padding\n",
    "    sg_aas_subseq['AA 0-Indexed'] = sg_aas_subseq['AA Index'] - 1\n",
    "    sg_aas_subseq['AA 0-Indexed padded'] = sg_aas_subseq['AA 0-Indexed'] + len(l_padding)\n",
    "    sg_aas_subseq['seq_start'] = (sg_aas_subseq['AA 0-Indexed padded'] - width).astype(int)\n",
    "    sg_aas_subseq['seq_end'] = (sg_aas_subseq['AA 0-Indexed padded'] + width).astype(int)\n",
    "    sg_aas_subseq['AA Subsequence'] = sg_aas_subseq.apply(lambda row: row['extended_seq'][row['seq_start']:(row['seq_end'] + 1)],\n",
    "                                                    axis=1)\n",
    "    return sg_aas_subseq\n"
   ]
  },
  {
   "cell_type": "code",
   "execution_count": null,
   "metadata": {},
   "outputs": [],
   "source": [
    "small_aa_seq_df = pd.DataFrame({'AA Index': [1, 5, 9],\n",
    "                                    'seq': ['MAVLKYSLW']*3})\n",
    "small_aa_subseq_df = extract_amino_acid_subsequence(small_aa_seq_df, 2)\n",
    "actual_subseqs = small_aa_subseq_df['AA Subsequence']\n",
    "expected_subseqs = ['--MAV', 'VLKYS', 'SLW*-']\n",
    "assert len(actual_subseqs) == len(expected_subseqs)\n",
    "assert all([a == b for a, b in zip(actual_subseqs, expected_subseqs)])"
   ]
  },
  {
   "cell_type": "code",
   "execution_count": null,
   "metadata": {},
   "outputs": [],
   "source": [
    "# export\n",
    "def get_aa_subseq_df(sg_designs, aa_seq_df, width, id_cols,\n",
    "                     transcript_base_col='Transcript Base',\n",
    "                     target_transcript_col='Target Transcript',\n",
    "                     aa_index_col='AA Index'):\n",
    "    \"\"\"Get the amino acid subsequences for a design dataframe\n",
    "\n",
    "    :param sg_designs: DataFrame\n",
    "    :param aa_seq_df: DataFrame, Transcript Base and (AA) seq\n",
    "    :param width: int, length on each side of the cut site\n",
    "    :param transcript_base_col: str\n",
    "    :param target_transcript_col: str\n",
    "    :param aa_index_col: str\n",
    "    :return: DataFrame\n",
    "    \"\"\"\n",
    "    sg_aas = (aa_seq_df.merge(sg_designs[list(set(id_cols +\n",
    "                                                  [target_transcript_col, transcript_base_col, aa_index_col]))],\n",
    "                              how='inner',\n",
    "                              on=[target_transcript_col, transcript_base_col]))\n",
    "    sg_aas_subseq = extract_amino_acid_subsequence(sg_aas, width)\n",
    "    return sg_aas_subseq"
   ]
  },
  {
   "cell_type": "code",
   "execution_count": null,
   "metadata": {},
   "outputs": [
    {
     "name": "stdout",
     "output_type": "stream",
     "text": [
      "Getting amino acid sequences\n"
     ]
    },
    {
     "name": "stderr",
     "output_type": "stream",
     "text": [
      "  0%|          | 0/4 [00:00<?, ?it/s]"
     ]
    },
    {
     "name": "stderr",
     "output_type": "stream",
     "text": [
      "100%|██████████| 4/4 [00:02<00:00,  1.56it/s]\n",
      "/Users/peterdeweirdt/Documents/rs3/rs3/targetdata.py:110: UserWarning: Unable to find translations for the following transcripts: ENST00000629399, ENST00000284049\n",
      "  warnings.warn('Unable to find translations for the following transcripts: ' + ', '.join(missing_seqs))\n"
     ]
    }
   ],
   "source": [
    "aa_seq_df = targetdata.build_transcript_aa_seq_df(design_targ_df, n_jobs=2)"
   ]
  },
  {
   "cell_type": "code",
   "execution_count": null,
   "metadata": {},
   "outputs": [],
   "source": [
    "aa_subseq_df = get_aa_subseq_df(sg_designs=design_targ_df, aa_seq_df=aa_seq_df, width=16,\n",
    "                                id_cols=['sgRNA Context Sequence', 'Target Cut Length', 'Target Transcript', 'Orientation'])\n",
    "assert (aa_subseq_df['AA Subsequence'].str.len() == 33).all()\n",
    "assert abs(aa_subseq_df.shape[0] - design_targ_df.shape[0]) < 10"
   ]
  },
  {
   "cell_type": "code",
   "execution_count": null,
   "metadata": {},
   "outputs": [],
   "source": [
    "codon_map_df = pd.read_csv('test_data/codon_map.csv')\n",
    "\n",
    "def get_rev_comp(sgrna):\n",
    "    \"\"\"Get reverse compliment of a guide\"\"\"\n",
    "    nt_map = {'A': 'T', 'T': 'A', 'G': 'C', 'C': 'G'}\n",
    "    rev_comp = ''\n",
    "    for nt in sgrna:\n",
    "        rev_comp += nt_map[nt]\n",
    "    rev_comp = rev_comp[::-1]\n",
    "    return rev_comp\n",
    "\n",
    "codon_map = pd.Series(codon_map_df['Amino Acid'].values, index=codon_map_df['Codon']).to_dict()\n",
    "row = aa_subseq_df.sample(1, random_state=1).iloc[0, :]\n",
    "subseq = row['AA Subsequence']\n",
    "context = row['sgRNA Context Sequence']\n",
    "rc_context = get_rev_comp(context)\n",
    "translations = dict()\n",
    "rc_translations = dict()\n",
    "for i in [0, 1, 2]:\n",
    "    translations[i] = ''.join([codon_map[context[j:j+3]] for j in range(i, len(context), 3)\n",
    "                               if (j + 3) <= len(context)])\n",
    "    rc_translations[i] = ''.join([codon_map[rc_context[j:j+3]] for j in range(i, len(rc_context), 3)\n",
    "                                  if (j + 3) <= len(rc_context)])\n",
    "assert ((translations[0] in subseq) or (translations[1] in subseq) or (translations[2] in subseq) or\n",
    "        (rc_translations[0] in subseq) or (rc_translations[1] in subseq) or (rc_translations[2] in subseq))"
   ]
  },
  {
   "cell_type": "code",
   "execution_count": null,
   "metadata": {},
   "outputs": [],
   "source": [
    "# export\n",
    "def get_amino_acid_features(aa_subseq_df, features, id_cols):\n",
    "    \"\"\"Featurize amino acid sequences\n",
    "\n",
    "    :param aa_subseq_df: DataFrame\n",
    "    :param features: list\n",
    "    :param id_cols: list\n",
    "    :return: DataFrame\n",
    "    \"\"\"\n",
    "\n",
    "    # Zero-indexed for python\n",
    "    # filter out sequences without the canonical amino acids\n",
    "    aa_set = set('ARNDCQEGHILKMFPSTWYV*-')\n",
    "    filtered_sg_aas = (aa_subseq_df[aa_subseq_df['AA Subsequence'].apply(lambda s: set(s) <= aa_set)]\n",
    "                       .reset_index(drop=True))\n",
    "    filtered_diff = (aa_subseq_df.shape[0] - filtered_sg_aas.shape[0])\n",
    "    if filtered_diff > 0:\n",
    "        warnings.warn('Ignored ' + str(filtered_diff) + ' amino acid sequences with non-canonical amino acids')\n",
    "    aa_features = featurize_aa_seqs(filtered_sg_aas['AA Subsequence'], features=features)\n",
    "    aa_features_annot = pd.concat([filtered_sg_aas[id_cols + ['AA Subsequence']]\n",
    "                                   .reset_index(drop=True),\n",
    "                                   aa_features.reset_index(drop=True)], axis=1)\n",
    "    return aa_features_annot\n"
   ]
  },
  {
   "cell_type": "code",
   "execution_count": null,
   "metadata": {},
   "outputs": [],
   "source": [
    "aa_features = get_amino_acid_features(aa_subseq_df=aa_subseq_df,\n",
    "                                      features=['Pos. Ind. 1mer',\n",
    "                                                'Hydrophobicity', 'Aromaticity',\n",
    "                                                'Isoelectric Point', 'Secondary Structure'],\n",
    "                                      id_cols=['sgRNA Context Sequence', 'Target Cut Length',\n",
    "                                               'Target Transcript', 'Orientation'])\n",
    "assert aa_features['L'].idxmax() == aa_features['Hydrophobicity'].idxmax()"
   ]
  },
  {
   "cell_type": "markdown",
   "metadata": {},
   "source": [
    "## Protein Domain Features"
   ]
  },
  {
   "cell_type": "code",
   "execution_count": null,
   "metadata": {},
   "outputs": [],
   "source": [
    "#export\n",
    "def get_protein_domain_features(sg_design_df, protein_domains, id_cols,\n",
    "                                sources=None,\n",
    "                                transcript_base_col='Transcript Base',\n",
    "                                aa_index_col='AA Index',\n",
    "                                domain_type_col='type',\n",
    "                                domain_start_col='start',\n",
    "                                domain_end_col='end'):\n",
    "    \"\"\"Get binary dataframe of protein domains\n",
    "\n",
    "    :param sg_design_df: DataFrame, with columns [transcript_base_col, aa_index_col]\n",
    "    :param protein_domains: DataFrame, with columns [transcript_base_col, domain_type_col]\n",
    "    :param id_cols: list\n",
    "    :param sources: list. list of database types to include\n",
    "    :param transcript_base_col: str\n",
    "    :param aa_index_col: str\n",
    "    :param domain_type_col: str\n",
    "    :param domain_start_col: str\n",
    "    :param domain_end_col: str\n",
    "    :return: DataFrame, with binary features for protein domains\n",
    "    \"\"\"\n",
    "    if sources is None:\n",
    "        sources = ['Pfam', 'PANTHER', 'HAMAP', 'SuperFamily', 'TIGRfam', 'ncoils', 'Gene3D',\n",
    "                   'Prosite_patterns', 'Seg', 'SignalP', 'TMHMM', 'MobiDBLite',\n",
    "                   'PIRSF', 'PRINTS', 'Smart', 'Prosite_profiles']  # exclude sifts\n",
    "    protein_domains = protein_domains[protein_domains[domain_type_col].isin(sources)]\n",
    "    clean_designs = sg_design_df[list(set(id_cols + [transcript_base_col, aa_index_col]))].copy()\n",
    "    designs_domains = clean_designs.merge(protein_domains,\n",
    "                                          how='inner', on=transcript_base_col)\n",
    "    # Note - not every sgRNA will be present in the feature df\n",
    "    filtered_domains = (designs_domains[designs_domains[aa_index_col].between(designs_domains[domain_start_col],\n",
    "                                                                              designs_domains[domain_end_col])]\n",
    "                        .copy())\n",
    "    filtered_domains = filtered_domains[id_cols + [domain_type_col]].drop_duplicates()\n",
    "    filtered_domains['present'] = 1\n",
    "    domain_feature_df = (filtered_domains.pivot_table(values='present',\n",
    "                                                      index=id_cols,\n",
    "                                                      columns='type', fill_value=0)\n",
    "                         .reset_index())\n",
    "    # Ensure all domain columns are present for testing\n",
    "    full_column_df = pd.DataFrame(columns=id_cols + sources, dtype=int)  # empty\n",
    "    domain_feature_df = pd.concat([full_column_df, domain_feature_df]).fillna(0)\n",
    "    domain_feature_df[sources] = domain_feature_df[sources].astype(int)\n",
    "    return domain_feature_df"
   ]
  },
  {
   "cell_type": "code",
   "execution_count": null,
   "metadata": {},
   "outputs": [
    {
     "name": "stdout",
     "output_type": "stream",
     "text": [
      "Getting protein domains\n"
     ]
    },
    {
     "name": "stderr",
     "output_type": "stream",
     "text": [
      "100%|██████████| 198/198 [00:50<00:00,  3.92it/s]\n"
     ]
    }
   ],
   "source": [
    "domain_df = targetdata.build_translation_overlap_df(aa_seq_df['id'].unique(), n_jobs=2)\n",
    "protein_domain_feature_df = get_protein_domain_features(design_targ_df, domain_df, sources=None,\n",
    "                                                        id_cols=['sgRNA Context Sequence', 'Target Cut Length',\n",
    "                                                                 'AA Index', 'Target Transcript', 'Orientation'])"
   ]
  },
  {
   "cell_type": "code",
   "execution_count": null,
   "metadata": {},
   "outputs": [],
   "source": [
    "assert protein_domain_feature_df.loc[protein_domain_feature_df['sgRNA Context Sequence'] == 'AAAAGAGCCATGAATCTAAACATCAGGAAT',\n",
    "                                     ['PANTHER', 'ncoils', 'Seg', 'MobiDBLite']].sum(axis=1).values[0] == 4"
   ]
  },
  {
   "cell_type": "markdown",
   "metadata": {},
   "source": [
    "## Conservation Features"
   ]
  },
  {
   "cell_type": "code",
   "execution_count": null,
   "metadata": {},
   "outputs": [],
   "source": [
    "# export\n",
    "def get_conservation_ranges(cut_pos, small_width, large_width):\n",
    "    small_range = range(cut_pos - small_width + 1, cut_pos + small_width + 1)\n",
    "    large_range = range(cut_pos - large_width + 1, cut_pos + large_width + 1)\n",
    "    return small_range, large_range\n",
    "\n",
    "\n",
    "def get_conservation_features(sg_designs, conservation_df, conservation_column,\n",
    "                              small_width, large_width, id_cols):\n",
    "    \"\"\"Get conservation features\n",
    "\n",
    "    :param sg_designs: DataFrame\n",
    "    :param conservation_df: DataFrame, tidy conservation scores indexed by Transcript Base and target position\n",
    "    :param conservation_column: str, name of column to calculate scores with\n",
    "    :param small_width: int, small window length to average scores in one direction\n",
    "    :param large_width: int, large window length to average scores in the one direction\n",
    "    :return: DataFrame of conservation features\n",
    "    \"\"\"\n",
    "    sg_designs_width = sg_designs[id_cols + ['Transcript Base']].copy()\n",
    "    sg_designs_width['target position small'], sg_designs_width['target position large'] =  \\\n",
    "        zip(*sg_designs_width['Target Cut Length']\n",
    "            .apply(get_conservation_ranges, small_width=small_width,\n",
    "                   large_width=large_width))\n",
    "    small_width_conservation = (sg_designs_width.drop('target position large', axis=1)\n",
    "                                .rename({'target position small': 'target position'}, axis=1)\n",
    "                                .explode('target position')\n",
    "                                .merge(conservation_df, how='inner',\n",
    "                                       on=['Target Transcript', 'Transcript Base', 'target position'])\n",
    "                                .groupby(id_cols)\n",
    "                                .agg(cons=(conservation_column, 'mean'))\n",
    "                                .rename({'cons': 'cons_' + str(small_width * 2)}, axis=1)\n",
    "                                .reset_index())\n",
    "    large_width_conservation = (sg_designs_width.drop('target position small', axis=1)\n",
    "                                .rename({'target position large': 'target position'}, axis=1)\n",
    "                                .explode('target position')\n",
    "                                .merge(conservation_df, how='inner',\n",
    "                                       on=['Target Transcript', 'Transcript Base', 'target position'])\n",
    "                                .groupby(id_cols)\n",
    "                                .agg(cons=(conservation_column, 'mean'))\n",
    "                                .rename({'cons': 'cons_' + str(large_width * 2)}, axis=1)\n",
    "                                .reset_index())\n",
    "    cons_feature_df = small_width_conservation.merge(large_width_conservation, how='outer',\n",
    "                                                     on=id_cols)\n",
    "    return cons_feature_df"
   ]
  },
  {
   "cell_type": "code",
   "execution_count": null,
   "metadata": {},
   "outputs": [
    {
     "name": "stdout",
     "output_type": "stream",
     "text": [
      "Getting conservation\n"
     ]
    },
    {
     "name": "stderr",
     "output_type": "stream",
     "text": [
      "100%|██████████| 200/200 [04:56<00:00,  1.48s/it]\n",
      "/Users/peterdeweirdt/Documents/rs3/rs3/targetdata.py:345: UserWarning: Failed to get conservation scores for 2 transcriptsENST00000629399, ENST00000284049\n",
      "  warnings.warn('Failed to get conservation scores for ' + str(len(failed_list)) +\n"
     ]
    }
   ],
   "source": [
    "conservation_df = targetdata.build_conservation_df(design_targ_df, n_jobs=max_n_jobs)\n",
    "conservation_features = get_conservation_features(design_targ_df, conservation_df,\n",
    "                                                  small_width=2, large_width=16,\n",
    "                                                  conservation_column='ranked_conservation',\n",
    "                                                  id_cols=['sgRNA Context Sequence', 'Target Cut Length',\n",
    "                                                           'Target Transcript', 'Orientation'])\n",
    "merged_features = protein_domain_feature_df.merge(conservation_features, how='inner', on=['sgRNA Context Sequence',\n",
    "                                                                                          'Target Cut Length',\n",
    "                                                                                          'Target Transcript',\n",
    "                                                                                          'Orientation'])\n",
    "smart_avg_cons = merged_features.loc[merged_features['Smart'].astype(bool), 'cons_32'].mean()\n",
    "non_smart_avg_cons = merged_features.loc[~merged_features['Smart'].astype(bool), 'cons_32'].mean()\n",
    "assert smart_avg_cons > non_smart_avg_cons"
   ]
  },
  {
   "cell_type": "markdown",
   "metadata": {},
   "source": [
    "## Combining target features\n",
    "\n",
    "We'll combine, the position, amino acid and domain feature matrices into a single target feature matrix"
   ]
  },
  {
   "cell_type": "code",
   "execution_count": null,
   "metadata": {},
   "outputs": [],
   "source": [
    "# export\n",
    "def merge_feature_dfs(design_df,\n",
    "                      aa_subseq_df, aa_features=None,\n",
    "                      domain_df=None,\n",
    "                      conservation_df=None,\n",
    "                      id_cols=None):\n",
    "    if id_cols is None:\n",
    "        id_cols = ['sgRNA Context Sequence', 'Target Cut Length',\n",
    "                   'Target Transcript', 'Orientation']\n",
    "    if aa_features is None:\n",
    "        aa_features = ['Pos. Ind. 1mer',\n",
    "                       'Hydrophobicity', 'Aromaticity',\n",
    "                       'Isoelectric Point', 'Secondary Structure']\n",
    "    if design_df[id_cols].drop_duplicates().shape[0] != design_df.shape[0]:\n",
    "        raise ValueError('id_cols must uniquely identify rows of the design dataframe')\n",
    "    feature_df_dict = dict()\n",
    "    feature_list = list()\n",
    "    position_feature_df = get_position_features(design_df, id_cols=id_cols)\n",
    "    feature_df_dict['position'] = position_feature_df\n",
    "    feature_list.extend(['Target Cut %', 'sense'])\n",
    "    if domain_df is not None:\n",
    "        feature_df_dict['domain'] = domain_df\n",
    "        feature_list.extend(['Pfam', 'PANTHER', 'HAMAP', 'SuperFamily', 'TIGRfam', 'ncoils', 'Gene3D',\n",
    "                             'Prosite_patterns', 'Seg', 'SignalP', 'TMHMM', 'MobiDBLite',\n",
    "                             'PIRSF', 'PRINTS', 'Smart', 'Prosite_profiles'])\n",
    "    if conservation_df is not None:\n",
    "        feature_df_dict['conservation'] = conservation_df\n",
    "        # hardcoded\n",
    "        feature_list.extend(['cons_4', 'cons_32'])\n",
    "    aa_feature_df = get_amino_acid_features(aa_subseq_df, aa_features, id_cols)\n",
    "    feature_list.extend(['A', 'C', 'D', 'E', 'F', 'G', 'H', 'I',\n",
    "                         'K', 'L', 'M', 'N', 'P', 'Q', 'R', 'S', 'T', 'V', 'W', 'Y', '*',\n",
    "                         'Hydrophobicity', 'Aromaticity', 'Isoelectric Point', 'Helix', 'Turn',\n",
    "                         'Sheet'])\n",
    "    feature_df_dict['aa'] = aa_feature_df\n",
    "    feature_df = design_df[id_cols]\n",
    "    for key, df in feature_df_dict.items():\n",
    "        feature_df = pd.merge(feature_df, df, how='left', on=id_cols)\n",
    "    return feature_df, feature_list\n"
   ]
  },
  {
   "cell_type": "code",
   "execution_count": null,
   "metadata": {},
   "outputs": [],
   "source": [
    "feature_df, feature_list = merge_feature_dfs(design_df=design_df,\n",
    "                                             aa_subseq_df=aa_subseq_df,\n",
    "                                             domain_df=protein_domain_feature_df,\n",
    "                                             conservation_df=conservation_features)"
   ]
  },
  {
   "cell_type": "code",
   "execution_count": null,
   "metadata": {},
   "outputs": [],
   "source": [
    "assert feature_df[feature_list].shape[1] == len(feature_list)"
   ]
  },
  {
   "cell_type": "code",
   "execution_count": null,
   "metadata": {},
   "outputs": [],
   "source": []
  }
 ],
 "metadata": {
  "kernelspec": {
   "display_name": "test_rs3_v6",
   "language": "python",
   "name": "python3"
  }
 },
 "nbformat": 4,
 "nbformat_minor": 4
}
