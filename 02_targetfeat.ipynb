{
 "cells": [
  {
   "cell_type": "code",
   "execution_count": null,
   "metadata": {},
   "outputs": [],
   "source": [
    "# default_exp targetfeat"
   ]
  },
  {
   "cell_type": "markdown",
   "metadata": {},
   "source": [
    "# targetfeat\n",
    "> Module to generate target site features"
   ]
  },
  {
   "cell_type": "code",
   "execution_count": null,
   "metadata": {},
   "outputs": [],
   "source": [
    "# export\n",
    "import pandas as pd\n",
    "from Bio.SeqUtils.ProtParam import ProteinAnalysis\n",
    "import warnings"
   ]
  },
  {
   "cell_type": "code",
   "execution_count": null,
   "metadata": {},
   "outputs": [],
   "source": [
    "from rs3 import targetdata"
   ]
  },
  {
   "cell_type": "code",
   "execution_count": null,
   "metadata": {},
   "outputs": [],
   "source": [
    "import multiprocessing\n",
    "max_n_jobs = multiprocessing.cpu_count()"
   ]
  },
  {
   "cell_type": "code",
   "execution_count": null,
   "metadata": {},
   "outputs": [],
   "source": [
    "# export\n",
    "def add_target_columns(design_df, transcript_id_col='Target Transcript',\n",
    "                       cut_pos_col='Target Cut Length'):\n",
    "    \"\"\"Add ['AA Index' and 'Transcript Base'] to design df\n",
    "\n",
    "    :param design_df: DataFrame\n",
    "    :return: DataFrame\n",
    "    \"\"\"\n",
    "    out_df = design_df.copy()\n",
    "    out_df['AA Index'] = (out_df[cut_pos_col] - 1) // 3 + 1\n",
    "    out_df['Transcript Base'] = out_df[transcript_id_col].str.split('.', expand=True)[0]\n",
    "    return out_df"
   ]
  },
  {
   "cell_type": "code",
   "execution_count": null,
   "metadata": {},
   "outputs": [],
   "source": [
    "design_df = pd.read_table('test_data/sgrna-designs.txt')\n",
    "design_targ_df = add_target_columns(design_df)\n",
    "assert 'AA Index' in design_targ_df.columns"
   ]
  },
  {
   "cell_type": "markdown",
   "execution_count": null,
   "metadata": {},
   "source": [
    "## Position Features\n",
    "\n",
    "The first feature class we consider is where the guide targets within the annotated transcript"
   ]
  },
  {
   "cell_type": "code",
   "execution_count": null,
   "metadata": {},
   "outputs": [],
   "source": [
    "# export\n",
    "def get_position_features(sg_df, id_cols):\n",
    "    \"\"\"Get  features ['Target Cut %', 'sense']\n",
    "\n",
    "    :param sg_df: DataFrame\n",
    "    :param id_cols: list\n",
    "    :return: DataFrame\n",
    "    \"\"\"\n",
    "    position_df = sg_df[id_cols + ['Target Cut %']].copy()\n",
    "    position_df['sense'] = sg_df['Orientation'] == 'sense'\n",
    "    return position_df"
   ]
  },
  {
   "cell_type": "markdown",
   "metadata": {},
   "source": [
    "## Amino Acid Features\n",
    "\n",
    "We calculate a set of features from the amino acid sequence around the cutsite itself"
   ]
  },
  {
   "cell_type": "code",
   "execution_count": null,
   "metadata": {},
   "outputs": [],
   "source": [
    "aas = ['A', 'C', 'D', 'E', 'F',\n",
    "       'G', 'H', 'I', 'K', 'L',\n",
    "       'M', 'N', 'P', 'Q', 'R',\n",
    "       'S', 'T', 'V', 'W', 'Y', '*']"
   ]
  },
  {
   "cell_type": "code",
   "execution_count": null,
   "metadata": {},
   "outputs": [],
   "source": [
    "# export\n",
    "def get_one_aa_frac(feature_dict, aa_sequence, aas):\n",
    "    \"\"\"Get fraction of single aa\n",
    "\n",
    "    :param feature_dict: dict, feature dictionary\n",
    "    :param aa_sequence: str, amino acid sequence\n",
    "    :param aas: list, list of amino acids\n",
    "    \"\"\"\n",
    "    for aa in aas:\n",
    "        aa_frac = aa_sequence.count(aa) / len(aa_sequence)\n",
    "        feature_dict[aa] = aa_frac"
   ]
  },
  {
   "cell_type": "code",
   "execution_count": null,
   "metadata": {},
   "outputs": [],
   "source": [
    "one_aa_ft = {}\n",
    "get_one_aa_frac(one_aa_ft, 'ACDG*-', aas)\n",
    "assert one_aa_ft['A'] == 1/6\n",
    "assert one_aa_ft['Q'] == 0"
   ]
  },
  {
   "cell_type": "code",
   "execution_count": null,
   "metadata": {},
   "outputs": [],
   "source": [
    "# export\n",
    "def get_aa_aromaticity(feature_dict, analyzed_seq):\n",
    "    \"\"\"Get fraction of aromatic amino acids in a sequence.\n",
    "\n",
    "    Phe (F) + Trp (W) + Tyr (Y)\n",
    "\n",
    "    :param feature_dict:\n",
    "    :param analyzed_seq: ProteinAnalysis object\n",
    "    \"\"\"\n",
    "    feature_dict['Aromaticity'] = analyzed_seq.aromaticity()\n",
    "\n",
    "\n",
    "def get_aa_hydrophobicity(feature_dict, analyzed_seq):\n",
    "    \"\"\"Grand Average of Hydropathy\n",
    "\n",
    "     The GRAVY value is calculated by adding the hydropathy value for each residue and dividing\n",
    "     by the length of the sequence (Kyte and Doolittle; 1982). The larger the number, the more hydrophobic the\n",
    "     amino acid\n",
    "\n",
    "    :param feature_dict: dict\n",
    "    :param analyzed_seq: ProteinAnalysis object\n",
    "    \"\"\"\n",
    "    feature_dict['Hydrophobicity'] = analyzed_seq.gravy()\n",
    "\n",
    "\n",
    "def get_aa_ip(feature_dict, analyzed_seq):\n",
    "    \"\"\"Get the Isoelectric Point of an amino acid sequence\n",
    "\n",
    "    Charge of amino acid\n",
    "\n",
    "    :param feature_dict: dict\n",
    "    :param analyzed_seq: ProteinAnalysis object\n",
    "    \"\"\"\n",
    "    feature_dict['Isoelectric Point'] = analyzed_seq.isoelectric_point()\n",
    "\n",
    "\n",
    "def get_aa_secondary_structure(feature_dict, analyzed_seq):\n",
    "    \"\"\"Get the fraction of amion acids that tend to be in a helix, turn or sheet\n",
    "\n",
    "    :param feature_dict: dict\n",
    "    :param analyzed_seq: ProteinAnalysis object\n",
    "    \"\"\"\n",
    "    feature_dict['Helix'], feature_dict['Turn'], feature_dict['Sheet'] = analyzed_seq.secondary_structure_fraction()\n"
   ]
  },
  {
   "cell_type": "code",
   "execution_count": null,
   "metadata": {},
   "outputs": [],
   "source": [
    "aa_biochemical_fts1 = {}\n",
    "get_aa_aromaticity(aa_biochemical_fts1, ProteinAnalysis('FWYA'))\n",
    "aa_biochemical_fts2 = {}\n",
    "get_aa_aromaticity(aa_biochemical_fts2, ProteinAnalysis('AAAA'))\n",
    "assert aa_biochemical_fts1['Aromaticity'] > aa_biochemical_fts2['Aromaticity']"
   ]
  },
  {
   "cell_type": "code",
   "execution_count": null,
   "metadata": {},
   "outputs": [],
   "source": [
    "# export\n",
    "def featurize_aa_seqs(aa_sequences, features=None):\n",
    "    \"\"\"Get feature DataFrame for a list of amino acid sequences\n",
    "\n",
    "    :param aa_sequences: list of str\n",
    "    :param features: list or None\n",
    "    :return: DataFrame\n",
    "    \"\"\"\n",
    "    if features is None:\n",
    "        features = ['Pos. Ind. 1mer', 'Hydrophobicity', 'Aromaticity',\n",
    "                    'Isoelectric Point', 'Secondary Structure']\n",
    "    aas = ['A', 'C', 'D', 'E', 'F',\n",
    "           'G', 'H', 'I', 'K', 'L',\n",
    "           'M', 'N', 'P', 'Q', 'R',\n",
    "           'S', 'T', 'V', 'W', 'Y', '*']\n",
    "    clean_aa_seqs = aa_sequences.str.replace('\\*|-', '', regex=True)\n",
    "    feature_dict_list = []\n",
    "    for i, (aa_sequence, clean_sequence) in enumerate(zip(aa_sequences, clean_aa_seqs)):\n",
    "        analyzed_seq = ProteinAnalysis(clean_sequence)\n",
    "        feature_dict = {}\n",
    "        if 'Pos. Ind. 1mer' in features:\n",
    "            get_one_aa_frac(feature_dict, aa_sequence, aas)\n",
    "        if 'Hydrophobicity' in features:\n",
    "            get_aa_hydrophobicity(feature_dict, analyzed_seq)\n",
    "        if 'Aromaticity' in features:\n",
    "            get_aa_aromaticity(feature_dict, analyzed_seq)\n",
    "        if 'Isoelectric Point' in features:\n",
    "            get_aa_ip(feature_dict, analyzed_seq)\n",
    "        if 'Secondary Structure' in features:\n",
    "            get_aa_secondary_structure(feature_dict, analyzed_seq)\n",
    "        feature_dict_list.append(feature_dict)\n",
    "    feature_matrix = pd.DataFrame(feature_dict_list)\n",
    "    feature_matrix.index = aa_sequences\n",
    "    return feature_matrix"
   ]
  },
  {
   "cell_type": "code",
   "execution_count": null,
   "metadata": {},
   "outputs": [],
   "source": [
    "ft_dict_df = featurize_aa_seqs(pd.Series(['ACDG*-', 'CDG*--', 'LLLLLL']))\n",
    "assert ft_dict_df.loc['LLLLLL', 'Hydrophobicity'] == ft_dict_df['Hydrophobicity'].max()"
   ]
  },
  {
   "cell_type": "code",
   "execution_count": null,
   "metadata": {},
   "outputs": [],
   "source": [
    "# export\n",
    "def extract_amino_acid_subsequence(sg_aas, width):\n",
    "    \"\"\" Get the amino acid subsequence with a width of `width` on either side of the Amino Acid index\n",
    "\n",
    "    :param sg_aas: DataFrame, sgRNA designs merged with amino acid sequence\n",
    "    :param width: int\n",
    "    :return: DataFrame\n",
    "    \"\"\"\n",
    "    # Pad the sequences at the beginning and end, so our index doesn't go over\n",
    "    l_padding = '-' * (width + 1)  # can cut just before the CDS\n",
    "    r_padding = '-' * width  # can cut the stop codon\n",
    "    # add stop codon at the end of the sequence\n",
    "    sg_aas_subseq = sg_aas.copy()\n",
    "    sg_aas_subseq['extended_seq'] = l_padding + sg_aas_subseq['seq'] + '*' + r_padding\n",
    "    sg_aas_subseq['AA 0-Indexed'] = sg_aas_subseq['AA Index'] - 1\n",
    "    sg_aas_subseq['AA 0-Indexed padded'] = sg_aas_subseq['AA 0-Indexed'] + len(l_padding)\n",
    "    sg_aas_subseq['seq_start'] = sg_aas_subseq['AA 0-Indexed padded'] - width\n",
    "    sg_aas_subseq['seq_end'] = sg_aas_subseq['AA 0-Indexed padded'] + width\n",
    "    sg_aas_subseq['AA Subsequence'] = sg_aas_subseq.apply(lambda row: row['extended_seq'][row['seq_start']:(row['seq_end'] + 1)],\n",
    "                                                    axis=1)\n",
    "    return sg_aas_subseq\n"
   ]
  },
  {
   "cell_type": "code",
   "execution_count": null,
   "metadata": {},
   "outputs": [],
   "source": [
    "small_aa_seq_df = pd.DataFrame({'AA Index': [1, 5, 9],\n",
    "                                    'seq': ['MAVLKYSLW']*3})\n",
    "small_aa_subseq_df = extract_amino_acid_subsequence(small_aa_seq_df, 2)\n",
    "actual_subseqs = small_aa_subseq_df['AA Subsequence']\n",
    "expected_subseqs = ['--MAV', 'VLKYS', 'SLW*-']\n",
    "assert len(actual_subseqs) == len(expected_subseqs)\n",
    "assert all([a == b for a, b in zip(actual_subseqs, expected_subseqs)])"
   ]
  },
  {
   "cell_type": "code",
   "execution_count": null,
   "metadata": {},
   "outputs": [],
   "source": [
    "# export\n",
    "def get_amino_acid_features(sg_designs, aa_seq_df, width, features, id_cols,\n",
    "                            transcript_base_col='Transcript Base',\n",
    "                            target_transcript_col='Target Transcript',\n",
    "                            aa_index_col='AA Index'):\n",
    "    \"\"\"Featurize amino acid sequences\n",
    "\n",
    "    :param sg_designs: DataFrame\n",
    "    :param aa_seq_df: DataFrame, Transcript Base and (AA) seq\n",
    "    :param width: int, length on each side of the cut site\n",
    "    :param feature: list\n",
    "    :param transcript_base_col: str\n",
    "    :param target_transcript_col: str\n",
    "    :param aa_index_col: str\n",
    "    :return: DataFrame\n",
    "    \"\"\"\n",
    "    sg_aas = (aa_seq_df.merge(sg_designs[list(set(id_cols +\n",
    "                                                  [target_transcript_col, transcript_base_col, aa_index_col]))],\n",
    "                              how='inner',\n",
    "                              on=[target_transcript_col, transcript_base_col]))\n",
    "    sg_aas_subseq = extract_amino_acid_subsequence(sg_aas, width)\n",
    "    # Zero-indexed for python\n",
    "    # filter out sequences without the canonical amino acids\n",
    "    aa_set = set('ARNDCQEGHILKMFPSTWYV*-')\n",
    "    filtered_sg_aas = (sg_aas_subseq[sg_aas_subseq['AA Subsequence'].apply(lambda s: set(s) <= aa_set)]\n",
    "                       .reset_index(drop=True))\n",
    "    filtered_diff = (sg_aas.shape[0] - filtered_sg_aas.shape[0])\n",
    "    if filtered_diff > 0:\n",
    "        warnings.warn('Ignored ' + str(filtered_diff) + ' amino acid sequences with non-canonical amino acids')\n",
    "    aa_features = featurize_aa_seqs(filtered_sg_aas['AA Subsequence'], features=features)\n",
    "    aa_features_annot = pd.concat([filtered_sg_aas[id_cols + ['AA Subsequence']]\n",
    "                                   .reset_index(drop=True),\n",
    "                                   aa_features.reset_index(drop=True)], axis=1)\n",
    "    return aa_features_annot\n"
   ]
  },
  {
   "cell_type": "code",
   "execution_count": null,
   "metadata": {},
   "outputs": [
    {
     "name": "stdout",
     "output_type": "stream",
     "text": [
      "Getting amino acid sequences\n"
     ]
    },
    {
     "name": "stderr",
     "output_type": "stream",
     "text": [
      "100%|██████████| 4/4 [00:03<00:00,  1.08it/s]\n"
     ]
    }
   ],
   "source": [
    "aa_seq_df = targetdata.build_transcript_aa_seq_df(design_targ_df, n_jobs=2)\n",
    "\n",
    "def get_rev_comp(sgrna):\n",
    "    \"\"\"Get reverse compliment of a guide\"\"\"\n",
    "    nt_map = {'A': 'T', 'T': 'A', 'G': 'C', 'C': 'G'}\n",
    "    rev_comp = ''\n",
    "    for nt in sgrna:\n",
    "        rev_comp += nt_map[nt]\n",
    "    rev_comp = rev_comp[::-1]\n",
    "    return rev_comp\n",
    "\n",
    "aa_features = get_amino_acid_features(design_targ_df, aa_seq_df, width=10,\n",
    "                                      features=['Pos. Ind. 1mer', 'Pos. Ind. 2mer', 'Pos. Dep. 1mer',\n",
    "                                                'Hydrophobicity', 'Aromaticity',\n",
    "                                                'Isoelectric Point', 'Secondary Structure'],\n",
    "                                      id_cols=['sgRNA Context Sequence', 'Target Cut Length',\n",
    "                                               'Target Transcript', 'Orientation'])\n",
    "assert (aa_features['AA Subsequence'].str.len() == 21).all()"
   ]
  },
  {
   "cell_type": "code",
   "execution_count": null,
   "metadata": {},
   "outputs": [],
   "source": [
    "codon_map_df = pd.read_csv('test_data/codon_map.csv')\n",
    "codon_map = pd.Series(codon_map_df['Amino Acid'].values, index=codon_map_df['Codon']).to_dict()\n",
    "row = aa_features.sample(1, random_state=1).iloc[0, :]\n",
    "subseq = row['AA Subsequence']\n",
    "context = row['sgRNA Context Sequence']\n",
    "rc_context = get_rev_comp(context)\n",
    "translations = dict()\n",
    "rc_translations = dict()\n",
    "for i in [0, 1, 2]:\n",
    "    translations[i] = ''.join([codon_map[context[j:j+3]] for j in range(i, len(context), 3)\n",
    "                               if (j + 3) <= len(context)])\n",
    "    rc_translations[i] = ''.join([codon_map[rc_context[j:j+3]] for j in range(i, len(rc_context), 3)\n",
    "                                  if (j + 3) <= len(rc_context)])\n",
    "assert ((translations[0] in subseq) or (translations[1] in subseq) or (translations[2] in subseq) or\n",
    "        (rc_translations[0] in subseq) or (rc_translations[1] in subseq) or (rc_translations[2] in subseq))"
   ]
  },
  {
   "cell_type": "markdown",
   "metadata": {},
   "source": [
    "## Protein Domain Features"
   ]
  },
  {
   "cell_type": "code",
   "execution_count": null,
   "metadata": {},
   "outputs": [],
   "source": [
    "#export\n",
    "def get_protein_domain_features(sg_design_df, protein_domains, sources, id_cols,\n",
    "                                transcript_base_col='Transcript Base',\n",
    "                                aa_index_col='AA Index',\n",
    "                                domain_type_col='type',\n",
    "                                domain_start_col='start',\n",
    "                                domain_end_col='end'):\n",
    "    \"\"\"Get binary dataframe of protein domains\n",
    "\n",
    "    :param sg_design_df: DataFrame, with columns [transcript_base_col, aa_index_col]\n",
    "    :param protein_domains: DataFrame, with columns [transcript_base_col, domain_type_col]\n",
    "    :param sources: list. list of database types to include\n",
    "    :param id_cols: list\n",
    "    :param transcript_base_col: str\n",
    "    :param aa_index_col: str\n",
    "    :param domain_type_col: str\n",
    "    :param domain_start_col: str\n",
    "    :param domain_end_col: str\n",
    "    :return: DataFrame, with binary features for protein domains\n",
    "    \"\"\"\n",
    "    if sources is None:\n",
    "        sources = ['Pfam', 'PANTHER', 'HAMAP', 'SuperFamily', 'TIGRfam', 'ncoils', 'Gene3D',\n",
    "                   'Prosite_patterns', 'Seg', 'SignalP', 'TMHMM', 'MobiDBLite',\n",
    "                   'PIRSF', 'PRINTS', 'Smart', 'Prosite_profiles']  # exclude sifts\n",
    "    protein_domains = protein_domains[protein_domains[domain_type_col].isin(sources)]\n",
    "    clean_designs = sg_design_df[list(set(id_cols + [transcript_base_col, aa_index_col]))].copy()\n",
    "    designs_domains = clean_designs.merge(protein_domains,\n",
    "                                          how='inner', on=transcript_base_col)\n",
    "    # Note - not every sgRNA will be present in the feature df\n",
    "    filtered_domains = (designs_domains[designs_domains[aa_index_col].between(designs_domains[domain_start_col],\n",
    "                                                                              designs_domains[domain_end_col])]\n",
    "                        .copy())\n",
    "    filtered_domains = filtered_domains[id_cols + [domain_type_col]].drop_duplicates()\n",
    "    filtered_domains['present'] = 1\n",
    "    domain_feature_df = (filtered_domains.pivot_table(values='present',\n",
    "                                                      index=id_cols,\n",
    "                                                      columns='type', fill_value=0)\n",
    "                         .reset_index())\n",
    "    # Ensure all domain columns are present for testing\n",
    "    full_column_df = pd.DataFrame(columns=id_cols + sources, dtype=int)  # empty\n",
    "    domain_feature_df = pd.concat([full_column_df, domain_feature_df]).fillna(0)\n",
    "    domain_feature_df[sources] = domain_feature_df[sources].astype(int)\n",
    "    return domain_feature_df"
   ]
  },
  {
   "cell_type": "code",
   "execution_count": null,
   "metadata": {},
   "outputs": [
    {
     "name": "stdout",
     "output_type": "stream",
     "text": [
      "Getting protein domains\n"
     ]
    },
    {
     "name": "stderr",
     "output_type": "stream",
     "text": [
      "100%|██████████| 200/200 [01:02<00:00,  3.21it/s]\n"
     ]
    }
   ],
   "source": [
    "domain_df = targetdata.build_translation_overlap_df(aa_seq_df['id'].unique(), n_jobs=2)\n",
    "protein_domain_feature_df = get_protein_domain_features(design_targ_df, domain_df, sources=None,\n",
    "                                                        id_cols=['sgRNA Context Sequence', 'Target Cut Length',\n",
    "                                                                 'AA Index', 'Target Transcript', 'Orientation'])"
   ]
  },
  {
   "cell_type": "code",
   "execution_count": null,
   "metadata": {},
   "outputs": [],
   "source": [
    "assert protein_domain_feature_df.loc[protein_domain_feature_df['sgRNA Context Sequence'] == 'AAAAGAGCCATGAATCTAAACATCAGGAAT',\n",
    "                                     ['PANTHER', 'ncoils', 'Seg', 'MobiDBLite']].sum(axis=1).values[0] == 4"
   ]
  },
  {
   "cell_type": "markdown",
   "metadata": {},
   "source": [
    "## Conservation Features"
   ]
  },
  {
   "cell_type": "code",
   "execution_count": null,
   "metadata": {},
   "outputs": [],
   "source": [
    "# export\n",
    "def get_conservation_ranges(cut_pos, small_width, large_width):\n",
    "    small_range = range(cut_pos - small_width + 1, cut_pos + small_width + 1)\n",
    "    large_range = range(cut_pos - large_width + 1, cut_pos + large_width + 1)\n",
    "    return small_range, large_range\n",
    "\n",
    "\n",
    "def get_conservation_features(sg_designs, conservation_df, conservation_column,\n",
    "                              small_width, large_width, id_cols):\n",
    "    \"\"\"Get conservation features\n",
    "\n",
    "    :param sg_designs: DataFrame\n",
    "    :param conservation_df: DataFrame, tidy conservation scores indexed by Transcript Base and target position\n",
    "    :param conservation_column: str, name of column to calculate scores with\n",
    "    :param small_width: int, small window length to average scores in one direction\n",
    "    :param large_width: int, large window length to average scores in the one direction\n",
    "    :return: DataFrame of conservation features\n",
    "    \"\"\"\n",
    "    sg_designs_width = sg_designs[id_cols + ['Transcript Base']].copy()\n",
    "    sg_designs_width['target position small'], sg_designs_width['target position large'] =  \\\n",
    "        zip(*sg_designs_width['Target Cut Length']\n",
    "            .apply(get_conservation_ranges, small_width=small_width,\n",
    "                   large_width=large_width))\n",
    "    small_width_conservation = (sg_designs_width.drop('target position large', axis=1)\n",
    "                                .rename({'target position small': 'target position'}, axis=1)\n",
    "                                .explode('target position')\n",
    "                                .merge(conservation_df, how='inner',\n",
    "                                       on=['Target Transcript', 'Transcript Base', 'target position'])\n",
    "                                .groupby(id_cols)\n",
    "                                .agg(cons=(conservation_column, 'mean'))\n",
    "                                .rename({'cons': 'cons_' + str(small_width * 2)}, axis=1)\n",
    "                                .reset_index())\n",
    "    large_width_conservation = (sg_designs_width.drop('target position small', axis=1)\n",
    "                                .rename({'target position large': 'target position'}, axis=1)\n",
    "                                .explode('target position')\n",
    "                                .merge(conservation_df, how='inner',\n",
    "                                       on=['Target Transcript', 'Transcript Base', 'target position'])\n",
    "                                .groupby(id_cols)\n",
    "                                .agg(cons=(conservation_column, 'mean'))\n",
    "                                .rename({'cons': 'cons_' + str(large_width * 2)}, axis=1)\n",
    "                                .reset_index())\n",
    "    cons_feature_df = small_width_conservation.merge(large_width_conservation, how='outer',\n",
    "                                                     on=id_cols)\n",
    "    return cons_feature_df"
   ]
  },
  {
   "cell_type": "code",
   "execution_count": null,
   "metadata": {},
   "outputs": [
    {
     "name": "stderr",
     "output_type": "stream",
     "text": [
      "100%|██████████| 200/200 [04:58<00:00,  1.49s/it]\n"
     ]
    }
   ],
   "source": [
    "conservation_df = targetdata.build_conservation_df(design_targ_df, n_jobs=max_n_jobs)\n",
    "conservation_features = get_conservation_features(design_targ_df, conservation_df,\n",
    "                                                  small_width=6, large_width=50,\n",
    "                                                  conservation_column='ranked_conservation',\n",
    "                                                  id_cols=['sgRNA Context Sequence', 'Target Cut Length',\n",
    "                                                           'Target Transcript', 'Orientation'])\n",
    "merged_features = protein_domain_feature_df.merge(conservation_features, how='inner', on=['sgRNA Context Sequence',\n",
    "                                                                                          'Target Cut Length',\n",
    "                                                                                          'Target Transcript',\n",
    "                                                                                          'Orientation'])\n",
    "smart_avg_cons = merged_features.loc[merged_features['Smart'].astype(bool), 'cons_12'].mean()\n",
    "non_smart_avg_cons = merged_features.loc[~merged_features['Smart'].astype(bool), 'cons_12'].mean()\n",
    "assert smart_avg_cons > non_smart_avg_cons"
   ]
  },
  {
   "cell_type": "markdown",
   "metadata": {},
   "source": [
    "## Combining target features\n",
    "\n",
    "We'll combine, the position, amino acid and domain feature matrices into a single target feature matrix"
   ]
  },
  {
   "cell_type": "code",
   "execution_count": null,
   "metadata": {},
   "outputs": [],
   "source": [
    "# export\n",
    "def build_target_feature_df(sg_designs, features=None,\n",
    "                            aa_seq_df=None, aa_width=16, aa_features=None,\n",
    "                            protein_domain_df=None, protein_domain_sources=None,\n",
    "                            conservation_df=None, conservation_column='ranked_conservation',\n",
    "                            cons_small_width=2, cons_large_width=16,\n",
    "                            id_cols=None):\n",
    "    \"\"\"Build the feature matrix for the sgRNA target site\n",
    "\n",
    "    :param sg_designs: DataFrame\n",
    "    :param features: list\n",
    "    :param aa_seq_df: DataFrame\n",
    "    :param aa_width: int\n",
    "    :param aa_features: list\n",
    "    :param protein_domain_df: DataFrame\n",
    "    :param protein_domain_sources: list or None. Defaults to all sources except Sifts\n",
    "    :param conservation_df: DataFrame\n",
    "    :param conservation_column: str\n",
    "    :param cons_small_width: int\n",
    "    :param cons_large_width: int\n",
    "    :return: (feature_df, feature_list)\n",
    "        feature_df: DataFrame\n",
    "        feature_list: list\n",
    "    \"\"\"\n",
    "    if features is None:\n",
    "        features = ['position', 'aa', 'domain', 'conservation']\n",
    "    if id_cols is None:\n",
    "        id_cols = ['sgRNA Context Sequence', 'Target Cut Length',\n",
    "                   'Target Transcript', 'Orientation']\n",
    "    if sg_designs[id_cols].drop_duplicates().shape[0] != sg_designs.shape[0]:\n",
    "        raise ValueError('id_cols must uniquely identify rows of the design dataframe')\n",
    "    design_df = add_target_columns(sg_designs)\n",
    "    feature_df_dict = dict()\n",
    "    if 'position' in features:\n",
    "        position_features = get_position_features(design_df, id_cols)\n",
    "        feature_df_dict['position'] = position_features\n",
    "    if 'domain' in features:\n",
    "        domain_features = get_protein_domain_features(design_df, protein_domain_df, protein_domain_sources, id_cols)\n",
    "        feature_df_dict['domain'] = domain_features\n",
    "    if 'conservation' in features:\n",
    "        conservation_features = get_conservation_features(design_df, conservation_df,\n",
    "                                                          conservation_column,\n",
    "                                                          cons_small_width, cons_large_width,\n",
    "                                                          id_cols)\n",
    "        feature_df_dict['conservation'] = conservation_features\n",
    "    if 'aa' in features:\n",
    "        aa_features = get_amino_acid_features(design_df, aa_seq_df, aa_width, aa_features, id_cols)\n",
    "        feature_df_dict['aa'] = aa_features\n",
    "    feature_df = design_df[id_cols]\n",
    "    for key, df in feature_df_dict.items():\n",
    "        feature_df = pd.merge(feature_df, df, how='left', on=id_cols)\n",
    "    full_feature_list = list(feature_df.columns)\n",
    "    remove_cols = id_cols + ['Transcript Base', 'AA Index', 'AA Subsequence']\n",
    "    for col in remove_cols:\n",
    "        if col in full_feature_list:\n",
    "            full_feature_list.remove(col)\n",
    "    return feature_df, full_feature_list"
   ]
  },
  {
   "cell_type": "code",
   "execution_count": null,
   "metadata": {},
   "outputs": [],
   "source": [
    "feature_df, feature_list = build_target_feature_df(sg_designs=design_df,\n",
    "                                                   aa_seq_df=aa_seq_df,\n",
    "                                                   protein_domain_df=domain_df,\n",
    "                                                   conservation_df=conservation_df)\n",
    "assert len(feature_list) > 20\n",
    "assert feature_df.shape[0] == design_df.shape[0]"
   ]
  },
  {
   "cell_type": "code",
   "execution_count": null,
   "metadata": {},
   "outputs": [
    {
     "data": {
      "text/html": "<div>\n<style scoped>\n    .dataframe tbody tr th:only-of-type {\n        vertical-align: middle;\n    }\n\n    .dataframe tbody tr th {\n        vertical-align: top;\n    }\n\n    .dataframe thead th {\n        text-align: right;\n    }\n</style>\n<table border=\"1\" class=\"dataframe\">\n  <thead>\n    <tr style=\"text-align: right;\">\n      <th></th>\n      <th>sgRNA Context Sequence</th>\n      <th>Target Cut Length</th>\n      <th>Target Transcript</th>\n      <th>Orientation</th>\n      <th>Target Cut %</th>\n      <th>sense</th>\n      <th>Pfam</th>\n      <th>PANTHER</th>\n      <th>HAMAP</th>\n      <th>SuperFamily</th>\n      <th>...</th>\n      <th>Y</th>\n      <th>*</th>\n      <th>Hydrophobicity</th>\n      <th>Aromaticity</th>\n      <th>Isoelectric Point</th>\n      <th>Helix</th>\n      <th>Turn</th>\n      <th>Sheet</th>\n      <th>cons_4</th>\n      <th>cons_32</th>\n    </tr>\n  </thead>\n  <tbody>\n    <tr>\n      <th>0</th>\n      <td>TGGAGCAGATACAAGAGCAACTGAAGGGAT</td>\n      <td>191</td>\n      <td>ENST00000259457.8</td>\n      <td>sense</td>\n      <td>22.9</td>\n      <td>True</td>\n      <td>1.0</td>\n      <td>1.0</td>\n      <td>0.0</td>\n      <td>1.0</td>\n      <td>...</td>\n      <td>0.030303</td>\n      <td>0.0</td>\n      <td>2.696970e-01</td>\n      <td>0.060606</td>\n      <td>6.746697</td>\n      <td>0.333333</td>\n      <td>0.181818</td>\n      <td>0.181818</td>\n      <td>0.658423</td>\n      <td>0.553095</td>\n    </tr>\n    <tr>\n      <th>1</th>\n      <td>CCGGAAAACTGGCACGACCATCGCTGGGGT</td>\n      <td>137</td>\n      <td>ENST00000259457.8</td>\n      <td>sense</td>\n      <td>16.4</td>\n      <td>True</td>\n      <td>1.0</td>\n      <td>1.0</td>\n      <td>0.0</td>\n      <td>1.0</td>\n      <td>...</td>\n      <td>0.060606</td>\n      <td>0.0</td>\n      <td>-3.090909e-01</td>\n      <td>0.060606</td>\n      <td>10.377427</td>\n      <td>0.303030</td>\n      <td>0.181818</td>\n      <td>0.151515</td>\n      <td>0.531775</td>\n      <td>0.485106</td>\n    </tr>\n    <tr>\n      <th>2</th>\n      <td>TAGAAAAAGATTTGCGCACCCAAGTGGAAT</td>\n      <td>316</td>\n      <td>ENST00000394249.8</td>\n      <td>sense</td>\n      <td>17.0</td>\n      <td>True</td>\n      <td>1.0</td>\n      <td>1.0</td>\n      <td>0.0</td>\n      <td>0.0</td>\n      <td>...</td>\n      <td>0.000000</td>\n      <td>0.0</td>\n      <td>-1.569697e+00</td>\n      <td>0.000000</td>\n      <td>8.429515</td>\n      <td>0.212121</td>\n      <td>0.030303</td>\n      <td>0.393939</td>\n      <td>0.295961</td>\n      <td>0.509586</td>\n    </tr>\n    <tr>\n      <th>3</th>\n      <td>TGGCCTTTGACCCAGACATAATGGTGGCCA</td>\n      <td>787</td>\n      <td>ENST00000394249.8</td>\n      <td>antisense</td>\n      <td>42.2</td>\n      <td>False</td>\n      <td>1.0</td>\n      <td>1.0</td>\n      <td>0.0</td>\n      <td>0.0</td>\n      <td>...</td>\n      <td>0.000000</td>\n      <td>0.0</td>\n      <td>-4.939394e-01</td>\n      <td>0.030303</td>\n      <td>6.356498</td>\n      <td>0.272727</td>\n      <td>0.121212</td>\n      <td>0.393939</td>\n      <td>0.261943</td>\n      <td>0.385014</td>\n    </tr>\n    <tr>\n      <th>4</th>\n      <td>AAATACTCACTCATCCTCATCTCGAGGTCT</td>\n      <td>420</td>\n      <td>ENST00000361337.3</td>\n      <td>antisense</td>\n      <td>18.3</td>\n      <td>False</td>\n      <td>0.0</td>\n      <td>1.0</td>\n      <td>0.0</td>\n      <td>0.0</td>\n      <td>...</td>\n      <td>0.060606</td>\n      <td>0.0</td>\n      <td>-1.754545e+00</td>\n      <td>0.090909</td>\n      <td>6.394068</td>\n      <td>0.212121</td>\n      <td>0.181818</td>\n      <td>0.151515</td>\n      <td>0.462522</td>\n      <td>0.363985</td>\n    </tr>\n    <tr>\n      <th>...</th>\n      <td>...</td>\n      <td>...</td>\n      <td>...</td>\n      <td>...</td>\n      <td>...</td>\n      <td>...</td>\n      <td>...</td>\n      <td>...</td>\n      <td>...</td>\n      <td>...</td>\n      <td>...</td>\n      <td>...</td>\n      <td>...</td>\n      <td>...</td>\n      <td>...</td>\n      <td>...</td>\n      <td>...</td>\n      <td>...</td>\n      <td>...</td>\n      <td>...</td>\n      <td>...</td>\n    </tr>\n    <tr>\n      <th>395</th>\n      <td>TGTCTTTATATAGCTGTTTCGCACAGGCTA</td>\n      <td>220</td>\n      <td>ENST00000454402.7</td>\n      <td>antisense</td>\n      <td>21.5</td>\n      <td>False</td>\n      <td>1.0</td>\n      <td>1.0</td>\n      <td>0.0</td>\n      <td>1.0</td>\n      <td>...</td>\n      <td>0.060606</td>\n      <td>0.0</td>\n      <td>-6.666667e-02</td>\n      <td>0.090909</td>\n      <td>8.119293</td>\n      <td>0.303030</td>\n      <td>0.242424</td>\n      <td>0.303030</td>\n      <td>0.482160</td>\n      <td>0.503070</td>\n    </tr>\n    <tr>\n      <th>396</th>\n      <td>TTGTCAATGTCTACTACACCACCATGGATA</td>\n      <td>79</td>\n      <td>ENST00000254998.3</td>\n      <td>sense</td>\n      <td>18.7</td>\n      <td>True</td>\n      <td>1.0</td>\n      <td>1.0</td>\n      <td>0.0</td>\n      <td>1.0</td>\n      <td>...</td>\n      <td>0.090909</td>\n      <td>0.0</td>\n      <td>-5.606061e-01</td>\n      <td>0.121212</td>\n      <td>9.108819</td>\n      <td>0.272727</td>\n      <td>0.090909</td>\n      <td>0.333333</td>\n      <td>0.285461</td>\n      <td>0.435949</td>\n    </tr>\n    <tr>\n      <th>397</th>\n      <td>GGCGTTTGCTGTCCCGCCTGTACATGGGCA</td>\n      <td>115</td>\n      <td>ENST00000254998.3</td>\n      <td>sense</td>\n      <td>27.2</td>\n      <td>True</td>\n      <td>1.0</td>\n      <td>1.0</td>\n      <td>0.0</td>\n      <td>1.0</td>\n      <td>...</td>\n      <td>0.090909</td>\n      <td>0.0</td>\n      <td>-3.363636e-01</td>\n      <td>0.121212</td>\n      <td>10.420170</td>\n      <td>0.333333</td>\n      <td>0.212121</td>\n      <td>0.242424</td>\n      <td>0.420804</td>\n      <td>0.407654</td>\n    </tr>\n    <tr>\n      <th>398</th>\n      <td>ACTAGCAATGGCTTATCAGATCGAAGGTCA</td>\n      <td>776</td>\n      <td>ENST00000381685.10</td>\n      <td>antisense</td>\n      <td>37.5</td>\n      <td>False</td>\n      <td>0.0</td>\n      <td>1.0</td>\n      <td>0.0</td>\n      <td>1.0</td>\n      <td>...</td>\n      <td>0.060606</td>\n      <td>0.0</td>\n      <td>-1.076580e-16</td>\n      <td>0.060606</td>\n      <td>6.414417</td>\n      <td>0.363636</td>\n      <td>0.181818</td>\n      <td>0.242424</td>\n      <td>0.537796</td>\n      <td>0.521695</td>\n    </tr>\n    <tr>\n      <th>399</th>\n      <td>AAATTTTGTCTGATGACTACTCAAAGGTAT</td>\n      <td>322</td>\n      <td>ENST00000381685.10</td>\n      <td>sense</td>\n      <td>15.6</td>\n      <td>True</td>\n      <td>0.0</td>\n      <td>1.0</td>\n      <td>0.0</td>\n      <td>1.0</td>\n      <td>...</td>\n      <td>0.060606</td>\n      <td>0.0</td>\n      <td>-1.333333e-01</td>\n      <td>0.151515</td>\n      <td>4.373726</td>\n      <td>0.424242</td>\n      <td>0.151515</td>\n      <td>0.181818</td>\n      <td>0.568033</td>\n      <td>0.618567</td>\n    </tr>\n  </tbody>\n</table>\n<p>400 rows × 52 columns</p>\n</div>",
      "text/plain": "             sgRNA Context Sequence  Target Cut Length   Target Transcript  \\\n0    TGGAGCAGATACAAGAGCAACTGAAGGGAT                191   ENST00000259457.8   \n1    CCGGAAAACTGGCACGACCATCGCTGGGGT                137   ENST00000259457.8   \n2    TAGAAAAAGATTTGCGCACCCAAGTGGAAT                316   ENST00000394249.8   \n3    TGGCCTTTGACCCAGACATAATGGTGGCCA                787   ENST00000394249.8   \n4    AAATACTCACTCATCCTCATCTCGAGGTCT                420   ENST00000361337.3   \n..                              ...                ...                 ...   \n395  TGTCTTTATATAGCTGTTTCGCACAGGCTA                220   ENST00000454402.7   \n396  TTGTCAATGTCTACTACACCACCATGGATA                 79   ENST00000254998.3   \n397  GGCGTTTGCTGTCCCGCCTGTACATGGGCA                115   ENST00000254998.3   \n398  ACTAGCAATGGCTTATCAGATCGAAGGTCA                776  ENST00000381685.10   \n399  AAATTTTGTCTGATGACTACTCAAAGGTAT                322  ENST00000381685.10   \n\n    Orientation  Target Cut %  sense  Pfam  PANTHER  HAMAP  SuperFamily  ...  \\\n0         sense          22.9   True   1.0      1.0    0.0          1.0  ...   \n1         sense          16.4   True   1.0      1.0    0.0          1.0  ...   \n2         sense          17.0   True   1.0      1.0    0.0          0.0  ...   \n3     antisense          42.2  False   1.0      1.0    0.0          0.0  ...   \n4     antisense          18.3  False   0.0      1.0    0.0          0.0  ...   \n..          ...           ...    ...   ...      ...    ...          ...  ...   \n395   antisense          21.5  False   1.0      1.0    0.0          1.0  ...   \n396       sense          18.7   True   1.0      1.0    0.0          1.0  ...   \n397       sense          27.2   True   1.0      1.0    0.0          1.0  ...   \n398   antisense          37.5  False   0.0      1.0    0.0          1.0  ...   \n399       sense          15.6   True   0.0      1.0    0.0          1.0  ...   \n\n            Y    *  Hydrophobicity  Aromaticity  Isoelectric Point     Helix  \\\n0    0.030303  0.0    2.696970e-01     0.060606           6.746697  0.333333   \n1    0.060606  0.0   -3.090909e-01     0.060606          10.377427  0.303030   \n2    0.000000  0.0   -1.569697e+00     0.000000           8.429515  0.212121   \n3    0.000000  0.0   -4.939394e-01     0.030303           6.356498  0.272727   \n4    0.060606  0.0   -1.754545e+00     0.090909           6.394068  0.212121   \n..        ...  ...             ...          ...                ...       ...   \n395  0.060606  0.0   -6.666667e-02     0.090909           8.119293  0.303030   \n396  0.090909  0.0   -5.606061e-01     0.121212           9.108819  0.272727   \n397  0.090909  0.0   -3.363636e-01     0.121212          10.420170  0.333333   \n398  0.060606  0.0   -1.076580e-16     0.060606           6.414417  0.363636   \n399  0.060606  0.0   -1.333333e-01     0.151515           4.373726  0.424242   \n\n         Turn     Sheet    cons_4   cons_32  \n0    0.181818  0.181818  0.658423  0.553095  \n1    0.181818  0.151515  0.531775  0.485106  \n2    0.030303  0.393939  0.295961  0.509586  \n3    0.121212  0.393939  0.261943  0.385014  \n4    0.181818  0.151515  0.462522  0.363985  \n..        ...       ...       ...       ...  \n395  0.242424  0.303030  0.482160  0.503070  \n396  0.090909  0.333333  0.285461  0.435949  \n397  0.212121  0.242424  0.420804  0.407654  \n398  0.181818  0.242424  0.537796  0.521695  \n399  0.151515  0.181818  0.568033  0.618567  \n\n[400 rows x 52 columns]"
     },
     "execution_count": null,
     "metadata": {},
     "output_type": "execute_result"
    }
   ],
   "source": [
    "feature_df"
   ]
  },
  {
   "cell_type": "code",
   "execution_count": null,
   "metadata": {},
   "outputs": [],
   "source": []
  }
 ],
 "metadata": {
  "kernelspec": {
   "display_name": "Python 3",
   "language": "python",
   "name": "python3"
  }
 },
 "nbformat": 4,
 "nbformat_minor": 0
}
