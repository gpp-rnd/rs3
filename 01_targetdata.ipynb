{
 "cells": [
  {
   "cell_type": "code",
   "execution_count": null,
   "metadata": {},
   "outputs": [],
   "source": [
    "# default_exp targetdata"
   ]
  },
  {
   "cell_type": "markdown",
   "metadata": {},
   "source": [
    "# targetdata\n",
    "\n",
    "> Get underlying data to calculate Rule Set 3 target scores\n",
    "\n",
    "\n",
    "Get amino acid sequences and protein domain information"
   ]
  },
  {
   "cell_type": "code",
   "execution_count": null,
   "metadata": {},
   "outputs": [],
   "source": [
    "# export\n",
    "import requests\n",
    "import json\n",
    "import pandas as pd\n",
    "from joblib import Parallel, delayed\n",
    "from tqdm import tqdm\n",
    "import warnings\n",
    "import os"
   ]
  },
  {
   "cell_type": "code",
   "execution_count": null,
   "metadata": {},
   "outputs": [],
   "source": [
    "design_df = pd.read_table('test_data/sgrna-designs.txt')"
   ]
  },
  {
   "cell_type": "markdown",
   "metadata": {},
   "source": [
    "## Get amino acid sequences"
   ]
  },
  {
   "cell_type": "code",
   "execution_count": null,
   "metadata": {},
   "outputs": [],
   "source": [
    "# export\n",
    "def ensembl_post(ext, data, headers=None, params=None):\n",
    "    \"\"\"Generic wrapper for using POST requests to the ensembl rest API\n",
    "\n",
    "    :param ext: str, url extension\n",
    "    :param data: dict, query data\n",
    "    :param headers: dict or None,  meta-information for query\n",
    "    :param params: dict or None, parameters for query\n",
    "    :return: Response object\n",
    "    \"\"\"\n",
    "    if params is None:\n",
    "        params = {}\n",
    "    if headers is None:\n",
    "        headers = {}\n",
    "    data = json.dumps(data)\n",
    "    r = requests.post(\"https://rest.ensembl.org\"+ext, headers=headers, data=data, params=params)\n",
    "    if not r.ok:\n",
    "        r.raise_for_status()\n",
    "    else:\n",
    "        return r"
   ]
  },
  {
   "cell_type": "code",
   "execution_count": null,
   "metadata": {},
   "outputs": [],
   "source": [
    "# export\n",
    "def chunks(lst, n):\n",
    "    \"\"\"Yield successive n-sized chunks from lst.\n",
    "\n",
    "    lst: list\n",
    "    n: int\n",
    "\n",
    "    returns: generator of list chunks\n",
    "    \"\"\"\n",
    "    for i in range(0, len(lst), n):\n",
    "        yield lst[i:i + n]\n",
    "\n",
    "def post_transcript_sequence_chunk(ids, params, headers):\n",
    "    \"\"\"Helper function for post_transcript_sequence\n",
    "\n",
    "    :param ids: list\n",
    "    :param params: dict\n",
    "    :param headers: dict\n",
    "    :return: dict\n",
    "    \"\"\"\n",
    "    data = {'ids': ids}\n",
    "    r = ensembl_post(\"/sequence/id/\", data=data, params=params,\n",
    "                     headers=headers)\n",
    "    seq = r.json()\n",
    "    return seq\n",
    "\n",
    "def post_transcript_sequence(ensembl_ids, seq_type='protein', max_queries=50,\n",
    "                             n_jobs=1, **kwargs):\n",
    "    \"\"\"Request multiple types of sequence by stable identifier. Supports feature masking and expand options.\n",
    "    Uses https://rest.ensembl.org/documentation/info/sequence_id_post\n",
    "\n",
    "    :param ensembl_ids: list of str\n",
    "    :param seq_type: str, one of [genomic, cds, cdna, protein]\n",
    "    :param max_queries: int, maximum number of queries for post\n",
    "    :param n_jobs: int, number of jobs to run in parallel\n",
    "    :param kwargs: additional parameter arguments\n",
    "    :return: list, dict of sequences 5' to 3' in the same orientation as the input transcript\n",
    "    \"\"\"\n",
    "    headers={\"content-type\" : \"application/json\", \"accept\" : \"application/json\"}\n",
    "    params = {'type': seq_type, **kwargs}\n",
    "    id_chunks = list(chunks(ensembl_ids, max_queries))\n",
    "    seqs = Parallel(n_jobs=n_jobs)(delayed(post_transcript_sequence_chunk)\n",
    "                                   (ids, params, headers) for ids in tqdm(id_chunks))\n",
    "    # flatten list\n",
    "    seqs = [item for sublist in seqs for item in sublist]\n",
    "    return seqs"
   ]
  },
  {
   "cell_type": "code",
   "execution_count": null,
   "metadata": {},
   "outputs": [
    {
     "name": "stderr",
     "output_type": "stream",
     "text": [
      "100%|██████████| 1/1 [00:01<00:00,  1.31s/it]\n"
     ]
    }
   ],
   "source": [
    "assert(post_transcript_sequence([\"ENSG00000157764\", \"ENSG00000248378\"],\n",
    "                                seq_type='genomic')[0]['seq'][:4] == 'CTTC')"
   ]
  },
  {
   "cell_type": "code",
   "execution_count": null,
   "metadata": {},
   "outputs": [],
   "source": [
    "# export\n",
    "def build_transcript_aa_seq_df(design_df, transcript_id_col='Target Transcript',\n",
    "                               transcript_len_col='Target Total Length', n_jobs=1):\n",
    "    \"\"\"Get amino acid sequence for transcripts of interest\n",
    "\n",
    "    :param design_df: DataFrame\n",
    "    :param transcript_id_col: str, column with ensembl transcript id\n",
    "    :param transcript_len_col: str, column with length of transcript\n",
    "    :param n_jobs: int, number of jobs to use to query transcripts\n",
    "    :return: DataFrame\n",
    "    \"\"\"\n",
    "    unique_transcripts = design_df[[transcript_id_col, transcript_len_col]].drop_duplicates()\n",
    "    unique_transcripts['Transcript Base'] = unique_transcripts[transcript_id_col].str.split('.', expand=True)[0]\n",
    "    print(\"Getting amino acid sequences\")\n",
    "    aa_seqs = post_transcript_sequence(unique_transcripts['Transcript Base'].to_list(),\n",
    "                                       n_jobs=n_jobs)\n",
    "    aa_seq_df = (pd.DataFrame(aa_seqs)\n",
    "                 .rename({'query': 'Transcript Base'}, axis=1))\n",
    "    missing_seqs = (unique_transcripts['Transcript Base'][~unique_transcripts['Transcript Base'].isin(\n",
    "        aa_seq_df['Transcript Base']\n",
    "    )])\n",
    "    if len(missing_seqs) > 0:\n",
    "        warnings.warn('Unable to find translations for the following transcripts: ' + ', '.join(missing_seqs))\n",
    "    aa_seq_len_df = (unique_transcripts.merge(aa_seq_df, on='Transcript Base'))\n",
    "    aa_seq_len_df['AA len'] = aa_seq_len_df['seq'].str.len()\n",
    "    filtered_aa_seq_len_df = (aa_seq_len_df[aa_seq_len_df[transcript_len_col] ==\n",
    "                                            (aa_seq_len_df['AA len'] + 1)*3 ]\n",
    "                              .reset_index(drop=True))\n",
    "    filtered_seqs = (aa_seq_len_df['Transcript Base'][~aa_seq_len_df['Transcript Base'].isin(\n",
    "        filtered_aa_seq_len_df['Transcript Base']\n",
    "    )])\n",
    "    if len(filtered_seqs) > 0:\n",
    "        warnings.warn('Filtered transcripts where the transcript length and amino acid ' +\n",
    "                      'sequence length did not agree: ' + ', '.join(filtered_seqs))\n",
    "    return filtered_aa_seq_len_df"
   ]
  },
  {
   "cell_type": "code",
   "execution_count": null,
   "metadata": {},
   "outputs": [
    {
     "name": "stdout",
     "output_type": "stream",
     "text": [
      "Getting amino acid sequences\n"
     ]
    },
    {
     "name": "stderr",
     "output_type": "stream",
     "text": [
      "100%|██████████| 4/4 [00:00<00:00, 47.11it/s]\n"
     ]
    },
    {
     "data": {
      "text/html": "<div>\n<style scoped>\n    .dataframe tbody tr th:only-of-type {\n        vertical-align: middle;\n    }\n\n    .dataframe tbody tr th {\n        vertical-align: top;\n    }\n\n    .dataframe thead th {\n        text-align: right;\n    }\n</style>\n<table border=\"1\" class=\"dataframe\">\n  <thead>\n    <tr style=\"text-align: right;\">\n      <th></th>\n      <th>Target Transcript</th>\n      <th>Target Total Length</th>\n      <th>Transcript Base</th>\n      <th>id</th>\n      <th>desc</th>\n      <th>seq</th>\n      <th>molecule</th>\n      <th>version</th>\n      <th>AA len</th>\n    </tr>\n  </thead>\n  <tbody>\n    <tr>\n      <th>0</th>\n      <td>ENST00000259457.8</td>\n      <td>834</td>\n      <td>ENST00000259457</td>\n      <td>ENSP00000259457</td>\n      <td>None</td>\n      <td>MAAVSVYAPPVGGFSFDNCRRNAVLEADFAKRGYKLPKVRKTGTTI...</td>\n      <td>protein</td>\n      <td>3</td>\n      <td>277</td>\n    </tr>\n    <tr>\n      <th>1</th>\n      <td>ENST00000394249.8</td>\n      <td>1863</td>\n      <td>ENST00000394249</td>\n      <td>ENSP00000377793</td>\n      <td>None</td>\n      <td>MRRSEVLAEESIVCLQKALNHLREIWELIGIPEDQRLQRTEVVKKH...</td>\n      <td>protein</td>\n      <td>3</td>\n      <td>620</td>\n    </tr>\n    <tr>\n      <th>2</th>\n      <td>ENST00000361337.3</td>\n      <td>2298</td>\n      <td>ENST00000361337</td>\n      <td>ENSP00000354522</td>\n      <td>None</td>\n      <td>MSGDHLHNDSQIEADFRLNDSHKHKDKHKDREHRHKEHKKEKDREK...</td>\n      <td>protein</td>\n      <td>2</td>\n      <td>765</td>\n    </tr>\n    <tr>\n      <th>3</th>\n      <td>ENST00000368328.5</td>\n      <td>267</td>\n      <td>ENST00000368328</td>\n      <td>ENSP00000357311</td>\n      <td>None</td>\n      <td>MALSTIVSQRKQIKRKAPRGFLKRVFKRKKPQLRLEKSGDLLVHLN...</td>\n      <td>protein</td>\n      <td>4</td>\n      <td>88</td>\n    </tr>\n    <tr>\n      <th>4</th>\n      <td>ENST00000610426.5</td>\n      <td>783</td>\n      <td>ENST00000610426</td>\n      <td>ENSP00000483484</td>\n      <td>None</td>\n      <td>MPQNEYIELHRKRYGYRLDYHEKKRKKESREAHERSKKAKKMIGLK...</td>\n      <td>protein</td>\n      <td>1</td>\n      <td>260</td>\n    </tr>\n    <tr>\n      <th>...</th>\n      <td>...</td>\n      <td>...</td>\n      <td>...</td>\n      <td>...</td>\n      <td>...</td>\n      <td>...</td>\n      <td>...</td>\n      <td>...</td>\n      <td>...</td>\n    </tr>\n    <tr>\n      <th>195</th>\n      <td>ENST00000339374.11</td>\n      <td>1371</td>\n      <td>ENST00000339374</td>\n      <td>ENSP00000343041</td>\n      <td>None</td>\n      <td>MAAALKCLLTLGRWCPGLGVAPQARALAALVPGVTQVDNKSGFLQK...</td>\n      <td>protein</td>\n      <td>6</td>\n      <td>456</td>\n    </tr>\n    <tr>\n      <th>196</th>\n      <td>ENST00000393047.8</td>\n      <td>882</td>\n      <td>ENST00000393047</td>\n      <td>ENSP00000376767</td>\n      <td>None</td>\n      <td>MSRIPLGKVLLRNVIRHTDAHNKIQEESDMWKIRELEKQMEDAYRG...</td>\n      <td>protein</td>\n      <td>3</td>\n      <td>293</td>\n    </tr>\n    <tr>\n      <th>197</th>\n      <td>ENST00000454402.7</td>\n      <td>1023</td>\n      <td>ENST00000454402</td>\n      <td>ENSP00000408295</td>\n      <td>None</td>\n      <td>METSALKQQEQPAATKIRNLPWVEKYRPQTLNDLISHQDILSTIQK...</td>\n      <td>protein</td>\n      <td>2</td>\n      <td>340</td>\n    </tr>\n    <tr>\n      <th>198</th>\n      <td>ENST00000254998.3</td>\n      <td>423</td>\n      <td>ENST00000254998</td>\n      <td>ENSP00000254998</td>\n      <td>None</td>\n      <td>MASVDFKTYVDQACRAAEEFVNVYYTTMDKRRRLLSRLYMGTATLV...</td>\n      <td>protein</td>\n      <td>2</td>\n      <td>140</td>\n    </tr>\n    <tr>\n      <th>199</th>\n      <td>ENST00000381685.10</td>\n      <td>2067</td>\n      <td>ENST00000381685</td>\n      <td>ENSP00000371101</td>\n      <td>None</td>\n      <td>MQVSSLNEVKIYSLSCGKSLPEWLSDRKKRALQKKDVDVRRRIELI...</td>\n      <td>protein</td>\n      <td>5</td>\n      <td>688</td>\n    </tr>\n  </tbody>\n</table>\n<p>200 rows × 9 columns</p>\n</div>",
      "text/plain": "      Target Transcript  Target Total Length  Transcript Base  \\\n0     ENST00000259457.8                  834  ENST00000259457   \n1     ENST00000394249.8                 1863  ENST00000394249   \n2     ENST00000361337.3                 2298  ENST00000361337   \n3     ENST00000368328.5                  267  ENST00000368328   \n4     ENST00000610426.5                  783  ENST00000610426   \n..                  ...                  ...              ...   \n195  ENST00000339374.11                 1371  ENST00000339374   \n196   ENST00000393047.8                  882  ENST00000393047   \n197   ENST00000454402.7                 1023  ENST00000454402   \n198   ENST00000254998.3                  423  ENST00000254998   \n199  ENST00000381685.10                 2067  ENST00000381685   \n\n                  id  desc                                                seq  \\\n0    ENSP00000259457  None  MAAVSVYAPPVGGFSFDNCRRNAVLEADFAKRGYKLPKVRKTGTTI...   \n1    ENSP00000377793  None  MRRSEVLAEESIVCLQKALNHLREIWELIGIPEDQRLQRTEVVKKH...   \n2    ENSP00000354522  None  MSGDHLHNDSQIEADFRLNDSHKHKDKHKDREHRHKEHKKEKDREK...   \n3    ENSP00000357311  None  MALSTIVSQRKQIKRKAPRGFLKRVFKRKKPQLRLEKSGDLLVHLN...   \n4    ENSP00000483484  None  MPQNEYIELHRKRYGYRLDYHEKKRKKESREAHERSKKAKKMIGLK...   \n..               ...   ...                                                ...   \n195  ENSP00000343041  None  MAAALKCLLTLGRWCPGLGVAPQARALAALVPGVTQVDNKSGFLQK...   \n196  ENSP00000376767  None  MSRIPLGKVLLRNVIRHTDAHNKIQEESDMWKIRELEKQMEDAYRG...   \n197  ENSP00000408295  None  METSALKQQEQPAATKIRNLPWVEKYRPQTLNDLISHQDILSTIQK...   \n198  ENSP00000254998  None  MASVDFKTYVDQACRAAEEFVNVYYTTMDKRRRLLSRLYMGTATLV...   \n199  ENSP00000371101  None  MQVSSLNEVKIYSLSCGKSLPEWLSDRKKRALQKKDVDVRRRIELI...   \n\n    molecule  version  AA len  \n0    protein        3     277  \n1    protein        3     620  \n2    protein        2     765  \n3    protein        4      88  \n4    protein        1     260  \n..       ...      ...     ...  \n195  protein        6     456  \n196  protein        3     293  \n197  protein        2     340  \n198  protein        2     140  \n199  protein        5     688  \n\n[200 rows x 9 columns]"
     },
     "execution_count": null,
     "metadata": {},
     "output_type": "execute_result"
    }
   ],
   "source": [
    "transcript_aa_seq_df = build_transcript_aa_seq_df(design_df, n_jobs=3)\n",
    "transcript_aa_seq_df"
   ]
  },
  {
   "cell_type": "markdown",
   "metadata": {},
   "source": [
    "## Get protein domains"
   ]
  },
  {
   "cell_type": "code",
   "execution_count": null,
   "metadata": {},
   "outputs": [],
   "source": [
    "# export\n",
    "def ensembl_get(ext, query=None, headers=None, params=None):\n",
    "    \"\"\"Generic wrapper for using GET requests to the ensembl rest API\n",
    "\n",
    "    ext: str, url extension |\n",
    "    query: str or None, end of url extension specifying species, taxon, esnembl_id etc |\n",
    "    headers: dict or None,  meta-information for query |\n",
    "    params: dict or None, parameters for query |\n",
    "\n",
    "    returns: Response object\n",
    "    \"\"\"\n",
    "    if query is None:\n",
    "        query = ''\n",
    "    if params is None:\n",
    "        params = {}\n",
    "    if headers is None:\n",
    "        headers = {}\n",
    "    r = requests.get(\"https://rest.ensembl.org\"+ext+query, params=params, headers=headers)\n",
    "    if not r.ok:\n",
    "        r.raise_for_status()\n",
    "    else:\n",
    "        return r\n",
    "\n",
    "def get_translation_overlap(ensembl_id):\n",
    "    \"\"\"Get features that overlap with translation, such as protein domains\n",
    "\n",
    "    :param ensembl_id: str\n",
    "    :return: DataFrame\n",
    "    \"\"\"\n",
    "    headers = {'content-type': 'application/json'}\n",
    "    ext = '/overlap/translation/' + ensembl_id\n",
    "    r = ensembl_get(ext, headers=headers)\n",
    "    decoded = r.json()\n",
    "    return decoded"
   ]
  },
  {
   "cell_type": "code",
   "execution_count": null,
   "metadata": {},
   "outputs": [],
   "source": [
    "brca1_overlap = get_translation_overlap('ENSP00000350283')\n",
    "assert 'BRCT domain' in pd.DataFrame(brca1_overlap)['description'].to_list()"
   ]
  },
  {
   "cell_type": "code",
   "execution_count": null,
   "metadata": {},
   "outputs": [],
   "source": [
    "# export\n",
    "def build_translation_overlap_df(protein_ids, n_jobs=1):\n",
    "    \"\"\"Get protein domain information\n",
    "\n",
    "    :param protein_ids: list of str, ensemble protein IDs\n",
    "    :param n_jobs: int\n",
    "    :return: DataFrame\n",
    "    \"\"\"\n",
    "    print('Getting protein domains')\n",
    "    translation_overlap_list = Parallel(n_jobs=n_jobs)(delayed(get_translation_overlap)\n",
    "                                                       (id) for id in tqdm(protein_ids))\n",
    "    # flatten list\n",
    "    translation_overlap_list = [item for sublist in translation_overlap_list for item in sublist]\n",
    "    translation_overlap_df = pd.DataFrame(translation_overlap_list).rename({'Parent': 'Transcript Base'}, axis=1)\n",
    "    return translation_overlap_df"
   ]
  },
  {
   "cell_type": "code",
   "execution_count": null,
   "metadata": {},
   "outputs": [
    {
     "name": "stdout",
     "output_type": "stream",
     "text": [
      "Getting protein domains\n"
     ]
    },
    {
     "name": "stderr",
     "output_type": "stream",
     "text": [
      "100%|██████████| 200/200 [00:35<00:00,  5.61it/s]\n"
     ]
    },
    {
     "data": {
      "text/html": "<div>\n<style scoped>\n    .dataframe tbody tr th:only-of-type {\n        vertical-align: middle;\n    }\n\n    .dataframe tbody tr th {\n        vertical-align: top;\n    }\n\n    .dataframe thead th {\n        text-align: right;\n    }\n</style>\n<table border=\"1\" class=\"dataframe\">\n  <thead>\n    <tr style=\"text-align: right;\">\n      <th></th>\n      <th>feature_type</th>\n      <th>hit_end</th>\n      <th>type</th>\n      <th>cigar_string</th>\n      <th>id</th>\n      <th>hit_start</th>\n      <th>end</th>\n      <th>description</th>\n      <th>seq_region_name</th>\n      <th>hseqname</th>\n      <th>interpro</th>\n      <th>translation_id</th>\n      <th>start</th>\n      <th>Transcript Base</th>\n      <th>align_type</th>\n    </tr>\n  </thead>\n  <tbody>\n    <tr>\n      <th>0</th>\n      <td>protein_feature</td>\n      <td>233</td>\n      <td>Gene3D</td>\n      <td></td>\n      <td>3.60.20.10</td>\n      <td>1</td>\n      <td>277</td>\n      <td>Nucleophile aminohydrolases, N-terminal</td>\n      <td>ENSP00000259457</td>\n      <td>3.60.20.10</td>\n      <td>IPR029055</td>\n      <td>976188</td>\n      <td>44</td>\n      <td>ENST00000259457</td>\n      <td>None</td>\n    </tr>\n    <tr>\n      <th>1</th>\n      <td>protein_feature</td>\n      <td>36</td>\n      <td>Pfam</td>\n      <td></td>\n      <td>PF12465</td>\n      <td>1</td>\n      <td>271</td>\n      <td>Proteasome beta subunit, C-terminal</td>\n      <td>ENSP00000259457</td>\n      <td>PF12465</td>\n      <td>IPR024689</td>\n      <td>976188</td>\n      <td>235</td>\n      <td>ENST00000259457</td>\n      <td>None</td>\n    </tr>\n    <tr>\n      <th>2</th>\n      <td>protein_feature</td>\n      <td>190</td>\n      <td>Pfam</td>\n      <td></td>\n      <td>PF00227</td>\n      <td>2</td>\n      <td>221</td>\n      <td>Proteasome, subunit alpha/beta</td>\n      <td>ENSP00000259457</td>\n      <td>PF00227</td>\n      <td>IPR001353</td>\n      <td>976188</td>\n      <td>41</td>\n      <td>ENST00000259457</td>\n      <td>None</td>\n    </tr>\n    <tr>\n      <th>3</th>\n      <td>protein_feature</td>\n      <td>0</td>\n      <td>PRINTS</td>\n      <td></td>\n      <td>PR00141</td>\n      <td>0</td>\n      <td>66</td>\n      <td>Peptidase T1A, proteasome beta-subunit</td>\n      <td>ENSP00000259457</td>\n      <td>PR00141</td>\n      <td>IPR000243</td>\n      <td>976188</td>\n      <td>51</td>\n      <td>ENST00000259457</td>\n      <td>None</td>\n    </tr>\n    <tr>\n      <th>4</th>\n      <td>protein_feature</td>\n      <td>0</td>\n      <td>PRINTS</td>\n      <td></td>\n      <td>PR00141</td>\n      <td>0</td>\n      <td>182</td>\n      <td>Peptidase T1A, proteasome beta-subunit</td>\n      <td>ENSP00000259457</td>\n      <td>PR00141</td>\n      <td>IPR000243</td>\n      <td>976188</td>\n      <td>171</td>\n      <td>ENST00000259457</td>\n      <td>None</td>\n    </tr>\n    <tr>\n      <th>...</th>\n      <td>...</td>\n      <td>...</td>\n      <td>...</td>\n      <td>...</td>\n      <td>...</td>\n      <td>...</td>\n      <td>...</td>\n      <td>...</td>\n      <td>...</td>\n      <td>...</td>\n      <td>...</td>\n      <td>...</td>\n      <td>...</td>\n      <td>...</td>\n      <td>...</td>\n    </tr>\n    <tr>\n      <th>5275</th>\n      <td>protein_feature</td>\n      <td>676</td>\n      <td>PANTHER</td>\n      <td></td>\n      <td>PTHR14927</td>\n      <td>5</td>\n      <td>682</td>\n      <td>Nucleolar protein 10/Enp2</td>\n      <td>ENSP00000371101</td>\n      <td>PTHR14927</td>\n      <td>IPR040382</td>\n      <td>975385</td>\n      <td>1</td>\n      <td>ENST00000381685</td>\n      <td>None</td>\n    </tr>\n    <tr>\n      <th>5276</th>\n      <td>protein_feature</td>\n      <td>0</td>\n      <td>Seg</td>\n      <td></td>\n      <td>seg</td>\n      <td>0</td>\n      <td>474</td>\n      <td></td>\n      <td>ENSP00000371101</td>\n      <td>seg</td>\n      <td></td>\n      <td>975385</td>\n      <td>451</td>\n      <td>ENST00000381685</td>\n      <td>None</td>\n    </tr>\n    <tr>\n      <th>5277</th>\n      <td>protein_feature</td>\n      <td>0</td>\n      <td>Seg</td>\n      <td></td>\n      <td>seg</td>\n      <td>0</td>\n      <td>537</td>\n      <td></td>\n      <td>ENSP00000371101</td>\n      <td>seg</td>\n      <td></td>\n      <td>975385</td>\n      <td>515</td>\n      <td>ENST00000381685</td>\n      <td>None</td>\n    </tr>\n    <tr>\n      <th>5278</th>\n      <td>protein_feature</td>\n      <td>0</td>\n      <td>Seg</td>\n      <td></td>\n      <td>seg</td>\n      <td>0</td>\n      <td>554</td>\n      <td></td>\n      <td>ENSP00000371101</td>\n      <td>seg</td>\n      <td></td>\n      <td>975385</td>\n      <td>543</td>\n      <td>ENST00000381685</td>\n      <td>None</td>\n    </tr>\n    <tr>\n      <th>5279</th>\n      <td>protein_feature</td>\n      <td>0</td>\n      <td>Seg</td>\n      <td></td>\n      <td>seg</td>\n      <td>0</td>\n      <td>661</td>\n      <td></td>\n      <td>ENSP00000371101</td>\n      <td>seg</td>\n      <td></td>\n      <td>975385</td>\n      <td>651</td>\n      <td>ENST00000381685</td>\n      <td>None</td>\n    </tr>\n  </tbody>\n</table>\n<p>5280 rows × 15 columns</p>\n</div>",
      "text/plain": "         feature_type  hit_end     type cigar_string          id  hit_start  \\\n0     protein_feature      233   Gene3D               3.60.20.10          1   \n1     protein_feature       36     Pfam                  PF12465          1   \n2     protein_feature      190     Pfam                  PF00227          2   \n3     protein_feature        0   PRINTS                  PR00141          0   \n4     protein_feature        0   PRINTS                  PR00141          0   \n...               ...      ...      ...          ...         ...        ...   \n5275  protein_feature      676  PANTHER                PTHR14927          5   \n5276  protein_feature        0      Seg                      seg          0   \n5277  protein_feature        0      Seg                      seg          0   \n5278  protein_feature        0      Seg                      seg          0   \n5279  protein_feature        0      Seg                      seg          0   \n\n      end                              description  seq_region_name  \\\n0     277  Nucleophile aminohydrolases, N-terminal  ENSP00000259457   \n1     271      Proteasome beta subunit, C-terminal  ENSP00000259457   \n2     221           Proteasome, subunit alpha/beta  ENSP00000259457   \n3      66   Peptidase T1A, proteasome beta-subunit  ENSP00000259457   \n4     182   Peptidase T1A, proteasome beta-subunit  ENSP00000259457   \n...   ...                                      ...              ...   \n5275  682                Nucleolar protein 10/Enp2  ENSP00000371101   \n5276  474                                           ENSP00000371101   \n5277  537                                           ENSP00000371101   \n5278  554                                           ENSP00000371101   \n5279  661                                           ENSP00000371101   \n\n        hseqname   interpro  translation_id  start  Transcript Base align_type  \n0     3.60.20.10  IPR029055          976188     44  ENST00000259457       None  \n1        PF12465  IPR024689          976188    235  ENST00000259457       None  \n2        PF00227  IPR001353          976188     41  ENST00000259457       None  \n3        PR00141  IPR000243          976188     51  ENST00000259457       None  \n4        PR00141  IPR000243          976188    171  ENST00000259457       None  \n...          ...        ...             ...    ...              ...        ...  \n5275   PTHR14927  IPR040382          975385      1  ENST00000381685       None  \n5276         seg                     975385    451  ENST00000381685       None  \n5277         seg                     975385    515  ENST00000381685       None  \n5278         seg                     975385    543  ENST00000381685       None  \n5279         seg                     975385    651  ENST00000381685       None  \n\n[5280 rows x 15 columns]"
     },
     "execution_count": null,
     "metadata": {},
     "output_type": "execute_result"
    }
   ],
   "source": [
    "translation_overlap_df = build_translation_overlap_df(transcript_aa_seq_df['id'],\n",
    "                                                      n_jobs=3)\n",
    "translation_overlap_df"
   ]
  },
  {
   "cell_type": "markdown",
   "metadata": {},
   "source": [
    "## Store data using parquet for later use"
   ]
  },
  {
   "cell_type": "code",
   "execution_count": null,
   "metadata": {},
   "outputs": [],
   "source": [
    "# export\n",
    "def write_transcript_data(design_df, transcript_id_col='Target Transcript',\n",
    "                          transcript_len_col='Target Total Length', n_jobs=1,\n",
    "                          overwrite=True, filepath='./data/target_data/',\n",
    "                          aa_seq_name='aa_seqs.pq',\n",
    "                          protein_domain_name='protein_domains.pq'):\n",
    "    \"\"\"Write amino acid sequences and protein domain information to parquet files\n",
    "\n",
    "    :param design_df: DataFrame\n",
    "    :param transcript_id_col: str\n",
    "    :param transcript_len_col: str\n",
    "    :param n_jobs: int\n",
    "    :param overwrite: bool, whether to overwrite existing file\n",
    "    :param filepath: str, directory for output sequences\n",
    "    :param aa_seq_name: str, name of amino acid sequence file\n",
    "    :param protein_domain_name: str, name of protein domain file\n",
    "    \"\"\"\n",
    "    if (os.path.isfile(filepath + aa_seq_name) or os.path.isfile(filepath + protein_domain_name)) and (not overwrite):\n",
    "        raise ValueError('Transcript data already exits and cannot be overwritten')\n",
    "    else:\n",
    "        transcript_aa_seq_df = build_transcript_aa_seq_df(design_df, transcript_id_col=transcript_id_col,\n",
    "                                                          transcript_len_col=transcript_len_col,\n",
    "                                                          n_jobs=n_jobs)\n",
    "        translation_overlap_df = build_translation_overlap_df(transcript_aa_seq_df['id'],\n",
    "                                                              n_jobs=n_jobs)\n",
    "        if not os.path.isdir(filepath):\n",
    "            print('Creating new directory ' + filepath)\n",
    "            os.makedirs(filepath)\n",
    "        transcript_aa_seq_df.to_parquet(path=filepath + aa_seq_name, engine='pyarrow',\n",
    "                                        index=False)\n",
    "        translation_overlap_df.to_parquet(path=filepath + protein_domain_name, engine='pyarrow',\n",
    "                                          index=False)"
   ]
  },
  {
   "cell_type": "code",
   "execution_count": null,
   "metadata": {},
   "outputs": [
    {
     "name": "stdout",
     "output_type": "stream",
     "text": [
      "Getting amino acid sequences\n"
     ]
    },
    {
     "name": "stderr",
     "output_type": "stream",
     "text": [
      "100%|██████████| 4/4 [00:00<00:00, 2288.22it/s]\n"
     ]
    },
    {
     "name": "stdout",
     "output_type": "stream",
     "text": [
      "Getting protein domains\n"
     ]
    },
    {
     "name": "stderr",
     "output_type": "stream",
     "text": [
      "100%|██████████| 200/200 [00:32<00:00,  6.11it/s]\n"
     ]
    }
   ],
   "source": [
    "write_transcript_data(design_df, n_jobs=3)\n",
    "assert os.path.isfile('./data/target_data/' + 'aa_seqs.pq')"
   ]
  },
  {
   "cell_type": "code",
   "execution_count": null,
   "metadata": {},
   "outputs": [],
   "source": []
  }
 ],
 "metadata": {
  "kernelspec": {
   "display_name": "Python 3",
   "language": "python",
   "name": "python3"
  }
 },
 "nbformat": 4,
 "nbformat_minor": 0
}
