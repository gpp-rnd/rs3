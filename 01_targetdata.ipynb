{
 "cells": [
  {
   "cell_type": "code",
   "execution_count": null,
   "metadata": {},
   "outputs": [],
   "source": [
    "# default_exp targetdata"
   ]
  },
  {
   "cell_type": "markdown",
   "metadata": {},
   "source": [
    "# targetdata\n",
    "\n",
    "> Get underlying data to calculate Rule Set 3 target scores\n",
    "\n",
    "\n",
    "Get amino acid sequences and protein domain information"
   ]
  },
  {
   "cell_type": "code",
   "execution_count": null,
   "metadata": {},
   "outputs": [],
   "source": [
    "# export\n",
    "import requests\n",
    "import json\n",
    "import pandas as pd\n",
    "from joblib import Parallel, delayed\n",
    "from tqdm import tqdm\n",
    "import warnings\n",
    "import os\n",
    "from scipy import stats\n",
    "import multiprocessing"
   ]
  },
  {
   "cell_type": "code",
   "execution_count": null,
   "metadata": {},
   "outputs": [],
   "source": [
    "design_df = pd.read_table('test_data/sgrna-designs.txt')\n",
    "max_n_jobs = multiprocessing.cpu_count()"
   ]
  },
  {
   "cell_type": "markdown",
   "metadata": {},
   "source": [
    "## Get amino acid sequences"
   ]
  },
  {
   "cell_type": "code",
   "execution_count": null,
   "metadata": {},
   "outputs": [],
   "source": [
    "# export\n",
    "def ensembl_post(ext, data, headers=None, params=None):\n",
    "    \"\"\"Generic wrapper for using POST requests to the ensembl rest API\n",
    "\n",
    "    :param ext: str, url extension\n",
    "    :param data: dict, query data\n",
    "    :param headers: dict or None,  meta-information for query\n",
    "    :param params: dict or None, parameters for query\n",
    "    :return: Response object\n",
    "    \"\"\"\n",
    "    if params is None:\n",
    "        params = {}\n",
    "    if headers is None:\n",
    "        headers = {}\n",
    "    data = json.dumps(data)\n",
    "    r = requests.post(\"https://rest.ensembl.org\"+ext, headers=headers, data=data, params=params)\n",
    "    if not r.ok:\n",
    "        r.raise_for_status()\n",
    "    else:\n",
    "        return r"
   ]
  },
  {
   "cell_type": "code",
   "execution_count": null,
   "metadata": {},
   "outputs": [],
   "source": [
    "# export\n",
    "def chunks(lst, n):\n",
    "    \"\"\"Yield successive n-sized chunks from lst.\n",
    "\n",
    "    lst: list\n",
    "    n: int\n",
    "\n",
    "    returns: generator of list chunks\n",
    "    \"\"\"\n",
    "    for i in range(0, len(lst), n):\n",
    "        yield lst[i:i + n]\n",
    "\n",
    "def post_transcript_sequence_chunk(ids, params, headers):\n",
    "    \"\"\"Helper function for post_transcript_sequence\n",
    "\n",
    "    :param ids: list\n",
    "    :param params: dict\n",
    "    :param headers: dict\n",
    "    :return: dict\n",
    "    \"\"\"\n",
    "    data = {'ids': ids}\n",
    "    r = ensembl_post(\"/sequence/id/\", data=data, params=params,\n",
    "                     headers=headers)\n",
    "    seq = r.json()\n",
    "    return seq\n",
    "\n",
    "def post_transcript_sequence(ensembl_ids, seq_type='protein', max_queries=50,\n",
    "                             n_jobs=1, **kwargs):\n",
    "    \"\"\"Request multiple types of sequence by stable identifier. Supports feature masking and expand options.\n",
    "    Uses https://rest.ensembl.org/documentation/info/sequence_id_post\n",
    "\n",
    "    :param ensembl_ids: list of str\n",
    "    :param seq_type: str, one of [genomic, cds, cdna, protein]\n",
    "    :param max_queries: int, maximum number of queries for post\n",
    "    :param n_jobs: int, number of jobs to run in parallel\n",
    "    :param kwargs: additional parameter arguments\n",
    "    :return: list, dict of sequences 5' to 3' in the same orientation as the input transcript\n",
    "    \"\"\"\n",
    "    headers={\"content-type\" : \"application/json\", \"accept\" : \"application/json\"}\n",
    "    params = {'type': seq_type, **kwargs}\n",
    "    id_chunks = list(chunks(ensembl_ids, max_queries))\n",
    "    seqs = Parallel(n_jobs=n_jobs)(delayed(post_transcript_sequence_chunk)\n",
    "                                   (ids, params, headers) for ids in tqdm(id_chunks))\n",
    "    # flatten list\n",
    "    seqs = [item for sublist in seqs for item in sublist]\n",
    "    return seqs"
   ]
  },
  {
   "cell_type": "code",
   "execution_count": null,
   "metadata": {},
   "outputs": [
    {
     "name": "stderr",
     "output_type": "stream",
     "text": [
      "100%|██████████| 1/1 [00:01<00:00,  1.72s/it]\n"
     ]
    }
   ],
   "source": [
    "assert(post_transcript_sequence([\"ENSG00000157764\", \"ENSG00000248378\"],\n",
    "                                seq_type='genomic')[0]['seq'][:4] == 'CTTC')"
   ]
  },
  {
   "cell_type": "code",
   "execution_count": null,
   "metadata": {},
   "outputs": [],
   "source": [
    "# export\n",
    "def build_transcript_aa_seq_df(design_df, transcript_id_col='Target Transcript',\n",
    "                               transcript_len_col='Target Total Length', n_jobs=1):\n",
    "    \"\"\"Get amino acid sequence for transcripts of interest\n",
    "\n",
    "    :param design_df: DataFrame\n",
    "    :param transcript_id_col: str, column with ensembl transcript id\n",
    "    :param transcript_len_col: str, column with length of transcript\n",
    "    :param n_jobs: int, number of jobs to use to query transcripts\n",
    "    :return: DataFrame\n",
    "    \"\"\"\n",
    "    unique_transcripts = design_df[[transcript_id_col, transcript_len_col]].drop_duplicates()\n",
    "    unique_transcripts['Transcript Base'] = unique_transcripts[transcript_id_col].str.split('.', expand=True)[0]\n",
    "    print(\"Getting amino acid sequences\")\n",
    "    aa_seqs = post_transcript_sequence(unique_transcripts['Transcript Base'].to_list(),\n",
    "                                       n_jobs=n_jobs)\n",
    "    aa_seq_df = (pd.DataFrame(aa_seqs)\n",
    "                 .rename({'query': 'Transcript Base'}, axis=1))\n",
    "    missing_seqs = (unique_transcripts['Transcript Base'][~unique_transcripts['Transcript Base'].isin(\n",
    "        aa_seq_df['Transcript Base']\n",
    "    )])\n",
    "    if len(missing_seqs) > 0:\n",
    "        warnings.warn('Unable to find translations for the following transcripts: ' + ', '.join(missing_seqs))\n",
    "    aa_seq_len_df = (unique_transcripts.merge(aa_seq_df, on='Transcript Base'))\n",
    "    aa_seq_len_df['AA len'] = aa_seq_len_df['seq'].str.len()\n",
    "    filtered_aa_seq_len_df = (aa_seq_len_df[aa_seq_len_df[transcript_len_col] ==\n",
    "                                            (aa_seq_len_df['AA len'] + 1)*3 ]\n",
    "                              .reset_index(drop=True))\n",
    "    filtered_seqs = (aa_seq_len_df['Transcript Base'][~aa_seq_len_df['Transcript Base'].isin(\n",
    "        filtered_aa_seq_len_df['Transcript Base']\n",
    "    )])\n",
    "    if len(filtered_seqs) > 0:\n",
    "        warnings.warn('Filtered transcripts where the transcript length and amino acid ' +\n",
    "                      'sequence length did not agree: ' + ', '.join(filtered_seqs))\n",
    "    return filtered_aa_seq_len_df"
   ]
  },
  {
   "cell_type": "code",
   "execution_count": null,
   "metadata": {},
   "outputs": [
    {
     "name": "stdout",
     "output_type": "stream",
     "text": [
      "Getting amino acid sequences\n"
     ]
    },
    {
     "name": "stderr",
     "output_type": "stream",
     "text": [
      "100%|██████████| 4/4 [00:02<00:00,  1.47it/s]\n"
     ]
    },
    {
     "data": {
      "text/html": "<div>\n<style scoped>\n    .dataframe tbody tr th:only-of-type {\n        vertical-align: middle;\n    }\n\n    .dataframe tbody tr th {\n        vertical-align: top;\n    }\n\n    .dataframe thead th {\n        text-align: right;\n    }\n</style>\n<table border=\"1\" class=\"dataframe\">\n  <thead>\n    <tr style=\"text-align: right;\">\n      <th></th>\n      <th>Target Transcript</th>\n      <th>Target Total Length</th>\n      <th>Transcript Base</th>\n      <th>version</th>\n      <th>desc</th>\n      <th>molecule</th>\n      <th>seq</th>\n      <th>id</th>\n      <th>AA len</th>\n    </tr>\n  </thead>\n  <tbody>\n    <tr>\n      <th>0</th>\n      <td>ENST00000259457.8</td>\n      <td>834</td>\n      <td>ENST00000259457</td>\n      <td>3</td>\n      <td>None</td>\n      <td>protein</td>\n      <td>MAAVSVYAPPVGGFSFDNCRRNAVLEADFAKRGYKLPKVRKTGTTI...</td>\n      <td>ENSP00000259457</td>\n      <td>277</td>\n    </tr>\n    <tr>\n      <th>1</th>\n      <td>ENST00000394249.8</td>\n      <td>1863</td>\n      <td>ENST00000394249</td>\n      <td>3</td>\n      <td>None</td>\n      <td>protein</td>\n      <td>MRRSEVLAEESIVCLQKALNHLREIWELIGIPEDQRLQRTEVVKKH...</td>\n      <td>ENSP00000377793</td>\n      <td>620</td>\n    </tr>\n    <tr>\n      <th>2</th>\n      <td>ENST00000361337.3</td>\n      <td>2298</td>\n      <td>ENST00000361337</td>\n      <td>2</td>\n      <td>None</td>\n      <td>protein</td>\n      <td>MSGDHLHNDSQIEADFRLNDSHKHKDKHKDREHRHKEHKKEKDREK...</td>\n      <td>ENSP00000354522</td>\n      <td>765</td>\n    </tr>\n    <tr>\n      <th>3</th>\n      <td>ENST00000368328.5</td>\n      <td>267</td>\n      <td>ENST00000368328</td>\n      <td>4</td>\n      <td>None</td>\n      <td>protein</td>\n      <td>MALSTIVSQRKQIKRKAPRGFLKRVFKRKKPQLRLEKSGDLLVHLN...</td>\n      <td>ENSP00000357311</td>\n      <td>88</td>\n    </tr>\n    <tr>\n      <th>4</th>\n      <td>ENST00000610426.5</td>\n      <td>783</td>\n      <td>ENST00000610426</td>\n      <td>1</td>\n      <td>None</td>\n      <td>protein</td>\n      <td>MPQNEYIELHRKRYGYRLDYHEKKRKKESREAHERSKKAKKMIGLK...</td>\n      <td>ENSP00000483484</td>\n      <td>260</td>\n    </tr>\n    <tr>\n      <th>...</th>\n      <td>...</td>\n      <td>...</td>\n      <td>...</td>\n      <td>...</td>\n      <td>...</td>\n      <td>...</td>\n      <td>...</td>\n      <td>...</td>\n      <td>...</td>\n    </tr>\n    <tr>\n      <th>195</th>\n      <td>ENST00000339374.11</td>\n      <td>1371</td>\n      <td>ENST00000339374</td>\n      <td>6</td>\n      <td>None</td>\n      <td>protein</td>\n      <td>MAAALKCLLTLGRWCPGLGVAPQARALAALVPGVTQVDNKSGFLQK...</td>\n      <td>ENSP00000343041</td>\n      <td>456</td>\n    </tr>\n    <tr>\n      <th>196</th>\n      <td>ENST00000393047.8</td>\n      <td>882</td>\n      <td>ENST00000393047</td>\n      <td>3</td>\n      <td>None</td>\n      <td>protein</td>\n      <td>MSRIPLGKVLLRNVIRHTDAHNKIQEESDMWKIRELEKQMEDAYRG...</td>\n      <td>ENSP00000376767</td>\n      <td>293</td>\n    </tr>\n    <tr>\n      <th>197</th>\n      <td>ENST00000454402.7</td>\n      <td>1023</td>\n      <td>ENST00000454402</td>\n      <td>2</td>\n      <td>None</td>\n      <td>protein</td>\n      <td>METSALKQQEQPAATKIRNLPWVEKYRPQTLNDLISHQDILSTIQK...</td>\n      <td>ENSP00000408295</td>\n      <td>340</td>\n    </tr>\n    <tr>\n      <th>198</th>\n      <td>ENST00000254998.3</td>\n      <td>423</td>\n      <td>ENST00000254998</td>\n      <td>2</td>\n      <td>None</td>\n      <td>protein</td>\n      <td>MASVDFKTYVDQACRAAEEFVNVYYTTMDKRRRLLSRLYMGTATLV...</td>\n      <td>ENSP00000254998</td>\n      <td>140</td>\n    </tr>\n    <tr>\n      <th>199</th>\n      <td>ENST00000381685.10</td>\n      <td>2067</td>\n      <td>ENST00000381685</td>\n      <td>5</td>\n      <td>None</td>\n      <td>protein</td>\n      <td>MQVSSLNEVKIYSLSCGKSLPEWLSDRKKRALQKKDVDVRRRIELI...</td>\n      <td>ENSP00000371101</td>\n      <td>688</td>\n    </tr>\n  </tbody>\n</table>\n<p>200 rows × 9 columns</p>\n</div>",
      "text/plain": "      Target Transcript  Target Total Length  Transcript Base  version  desc  \\\n0     ENST00000259457.8                  834  ENST00000259457        3  None   \n1     ENST00000394249.8                 1863  ENST00000394249        3  None   \n2     ENST00000361337.3                 2298  ENST00000361337        2  None   \n3     ENST00000368328.5                  267  ENST00000368328        4  None   \n4     ENST00000610426.5                  783  ENST00000610426        1  None   \n..                  ...                  ...              ...      ...   ...   \n195  ENST00000339374.11                 1371  ENST00000339374        6  None   \n196   ENST00000393047.8                  882  ENST00000393047        3  None   \n197   ENST00000454402.7                 1023  ENST00000454402        2  None   \n198   ENST00000254998.3                  423  ENST00000254998        2  None   \n199  ENST00000381685.10                 2067  ENST00000381685        5  None   \n\n    molecule                                                seq  \\\n0    protein  MAAVSVYAPPVGGFSFDNCRRNAVLEADFAKRGYKLPKVRKTGTTI...   \n1    protein  MRRSEVLAEESIVCLQKALNHLREIWELIGIPEDQRLQRTEVVKKH...   \n2    protein  MSGDHLHNDSQIEADFRLNDSHKHKDKHKDREHRHKEHKKEKDREK...   \n3    protein  MALSTIVSQRKQIKRKAPRGFLKRVFKRKKPQLRLEKSGDLLVHLN...   \n4    protein  MPQNEYIELHRKRYGYRLDYHEKKRKKESREAHERSKKAKKMIGLK...   \n..       ...                                                ...   \n195  protein  MAAALKCLLTLGRWCPGLGVAPQARALAALVPGVTQVDNKSGFLQK...   \n196  protein  MSRIPLGKVLLRNVIRHTDAHNKIQEESDMWKIRELEKQMEDAYRG...   \n197  protein  METSALKQQEQPAATKIRNLPWVEKYRPQTLNDLISHQDILSTIQK...   \n198  protein  MASVDFKTYVDQACRAAEEFVNVYYTTMDKRRRLLSRLYMGTATLV...   \n199  protein  MQVSSLNEVKIYSLSCGKSLPEWLSDRKKRALQKKDVDVRRRIELI...   \n\n                  id  AA len  \n0    ENSP00000259457     277  \n1    ENSP00000377793     620  \n2    ENSP00000354522     765  \n3    ENSP00000357311      88  \n4    ENSP00000483484     260  \n..               ...     ...  \n195  ENSP00000343041     456  \n196  ENSP00000376767     293  \n197  ENSP00000408295     340  \n198  ENSP00000254998     140  \n199  ENSP00000371101     688  \n\n[200 rows x 9 columns]"
     },
     "execution_count": null,
     "metadata": {},
     "output_type": "execute_result"
    }
   ],
   "source": [
    "transcript_aa_seq_df = build_transcript_aa_seq_df(design_df, n_jobs=2)\n",
    "transcript_aa_seq_df"
   ]
  },
  {
   "cell_type": "markdown",
   "metadata": {},
   "source": [
    "## Get protein domains"
   ]
  },
  {
   "cell_type": "code",
   "execution_count": null,
   "metadata": {},
   "outputs": [],
   "source": [
    "# export\n",
    "def ensembl_get(ext, query=None, headers=None, params=None):\n",
    "    \"\"\"Generic wrapper for using GET requests to the ensembl rest API\n",
    "\n",
    "    ext: str, url extension |\n",
    "    query: str or None, end of url extension specifying species, taxon, esnembl_id etc |\n",
    "    headers: dict or None,  meta-information for query |\n",
    "    params: dict or None, parameters for query |\n",
    "\n",
    "    returns: Response object\n",
    "    \"\"\"\n",
    "    if query is None:\n",
    "        query = ''\n",
    "    if params is None:\n",
    "        params = {}\n",
    "    if headers is None:\n",
    "        headers = {}\n",
    "    r = requests.get(\"https://rest.ensembl.org\"+ext+query, params=params, headers=headers)\n",
    "    if not r.ok:\n",
    "        r.raise_for_status()\n",
    "    else:\n",
    "        return r\n",
    "\n",
    "def get_translation_overlap(ensembl_id):\n",
    "    \"\"\"Get features that overlap with translation, such as protein domains\n",
    "\n",
    "    :param ensembl_id: str\n",
    "    :return: DataFrame\n",
    "    \"\"\"\n",
    "    headers = {'content-type': 'application/json'}\n",
    "    ext = '/overlap/translation/' + ensembl_id\n",
    "    r = ensembl_get(ext, headers=headers)\n",
    "    decoded = r.json()\n",
    "    return decoded"
   ]
  },
  {
   "cell_type": "code",
   "execution_count": null,
   "metadata": {},
   "outputs": [],
   "source": [
    "brca1_overlap = get_translation_overlap('ENSP00000350283')\n",
    "assert 'BRCT domain' in pd.DataFrame(brca1_overlap)['description'].to_list()"
   ]
  },
  {
   "cell_type": "code",
   "execution_count": null,
   "metadata": {},
   "outputs": [],
   "source": [
    "# export\n",
    "def build_translation_overlap_df(protein_ids, n_jobs=1):\n",
    "    \"\"\"Get protein domain information\n",
    "\n",
    "    :param protein_ids: list of str, ensemble protein IDs\n",
    "    :param n_jobs: int\n",
    "    :return: DataFrame\n",
    "    \"\"\"\n",
    "    print('Getting protein domains')\n",
    "    translation_overlap_list = Parallel(n_jobs=n_jobs)(delayed(get_translation_overlap)\n",
    "                                                       (id) for id in tqdm(protein_ids))\n",
    "    # flatten list\n",
    "    translation_overlap_list = [item for sublist in translation_overlap_list for item in sublist]\n",
    "    translation_overlap_df = pd.DataFrame(translation_overlap_list).rename({'Parent': 'Transcript Base'}, axis=1)\n",
    "    return translation_overlap_df"
   ]
  },
  {
   "cell_type": "code",
   "execution_count": null,
   "metadata": {},
   "outputs": [
    {
     "name": "stdout",
     "output_type": "stream",
     "text": [
      "Getting protein domains\n"
     ]
    },
    {
     "name": "stderr",
     "output_type": "stream",
     "text": [
      "100%|██████████| 200/200 [00:48<00:00,  4.09it/s]\n"
     ]
    },
    {
     "data": {
      "text/html": "<div>\n<style scoped>\n    .dataframe tbody tr th:only-of-type {\n        vertical-align: middle;\n    }\n\n    .dataframe tbody tr th {\n        vertical-align: top;\n    }\n\n    .dataframe thead th {\n        text-align: right;\n    }\n</style>\n<table border=\"1\" class=\"dataframe\">\n  <thead>\n    <tr style=\"text-align: right;\">\n      <th></th>\n      <th>hseqname</th>\n      <th>translation_id</th>\n      <th>interpro</th>\n      <th>start</th>\n      <th>Transcript Base</th>\n      <th>align_type</th>\n      <th>feature_type</th>\n      <th>cigar_string</th>\n      <th>id</th>\n      <th>type</th>\n      <th>hit_end</th>\n      <th>end</th>\n      <th>hit_start</th>\n      <th>seq_region_name</th>\n      <th>description</th>\n    </tr>\n  </thead>\n  <tbody>\n    <tr>\n      <th>0</th>\n      <td>3.60.20.10</td>\n      <td>976188</td>\n      <td>IPR029055</td>\n      <td>44</td>\n      <td>ENST00000259457</td>\n      <td>None</td>\n      <td>protein_feature</td>\n      <td></td>\n      <td>3.60.20.10</td>\n      <td>Gene3D</td>\n      <td>233</td>\n      <td>277</td>\n      <td>1</td>\n      <td>ENSP00000259457</td>\n      <td>Nucleophile aminohydrolases, N-terminal</td>\n    </tr>\n    <tr>\n      <th>1</th>\n      <td>PF12465</td>\n      <td>976188</td>\n      <td>IPR024689</td>\n      <td>235</td>\n      <td>ENST00000259457</td>\n      <td>None</td>\n      <td>protein_feature</td>\n      <td></td>\n      <td>PF12465</td>\n      <td>Pfam</td>\n      <td>36</td>\n      <td>271</td>\n      <td>1</td>\n      <td>ENSP00000259457</td>\n      <td>Proteasome beta subunit, C-terminal</td>\n    </tr>\n    <tr>\n      <th>2</th>\n      <td>PF00227</td>\n      <td>976188</td>\n      <td>IPR001353</td>\n      <td>41</td>\n      <td>ENST00000259457</td>\n      <td>None</td>\n      <td>protein_feature</td>\n      <td></td>\n      <td>PF00227</td>\n      <td>Pfam</td>\n      <td>190</td>\n      <td>221</td>\n      <td>2</td>\n      <td>ENSP00000259457</td>\n      <td>Proteasome, subunit alpha/beta</td>\n    </tr>\n    <tr>\n      <th>3</th>\n      <td>PR00141</td>\n      <td>976188</td>\n      <td>IPR000243</td>\n      <td>51</td>\n      <td>ENST00000259457</td>\n      <td>None</td>\n      <td>protein_feature</td>\n      <td></td>\n      <td>PR00141</td>\n      <td>PRINTS</td>\n      <td>0</td>\n      <td>66</td>\n      <td>0</td>\n      <td>ENSP00000259457</td>\n      <td>Peptidase T1A, proteasome beta-subunit</td>\n    </tr>\n    <tr>\n      <th>4</th>\n      <td>PR00141</td>\n      <td>976188</td>\n      <td>IPR000243</td>\n      <td>171</td>\n      <td>ENST00000259457</td>\n      <td>None</td>\n      <td>protein_feature</td>\n      <td></td>\n      <td>PR00141</td>\n      <td>PRINTS</td>\n      <td>0</td>\n      <td>182</td>\n      <td>0</td>\n      <td>ENSP00000259457</td>\n      <td>Peptidase T1A, proteasome beta-subunit</td>\n    </tr>\n    <tr>\n      <th>...</th>\n      <td>...</td>\n      <td>...</td>\n      <td>...</td>\n      <td>...</td>\n      <td>...</td>\n      <td>...</td>\n      <td>...</td>\n      <td>...</td>\n      <td>...</td>\n      <td>...</td>\n      <td>...</td>\n      <td>...</td>\n      <td>...</td>\n      <td>...</td>\n      <td>...</td>\n    </tr>\n    <tr>\n      <th>5275</th>\n      <td>Coil</td>\n      <td>975385</td>\n      <td></td>\n      <td>516</td>\n      <td>ENST00000381685</td>\n      <td>None</td>\n      <td>protein_feature</td>\n      <td></td>\n      <td>Coil</td>\n      <td>ncoils</td>\n      <td>0</td>\n      <td>537</td>\n      <td>0</td>\n      <td>ENSP00000371101</td>\n      <td></td>\n    </tr>\n    <tr>\n      <th>5276</th>\n      <td>Coil</td>\n      <td>975385</td>\n      <td></td>\n      <td>558</td>\n      <td>ENST00000381685</td>\n      <td>None</td>\n      <td>protein_feature</td>\n      <td></td>\n      <td>Coil</td>\n      <td>ncoils</td>\n      <td>0</td>\n      <td>587</td>\n      <td>0</td>\n      <td>ENSP00000371101</td>\n      <td></td>\n    </tr>\n    <tr>\n      <th>5277</th>\n      <td>Coil</td>\n      <td>975385</td>\n      <td></td>\n      <td>640</td>\n      <td>ENST00000381685</td>\n      <td>None</td>\n      <td>protein_feature</td>\n      <td></td>\n      <td>Coil</td>\n      <td>ncoils</td>\n      <td>0</td>\n      <td>669</td>\n      <td>0</td>\n      <td>ENSP00000371101</td>\n      <td></td>\n    </tr>\n    <tr>\n      <th>5278</th>\n      <td>PTHR14927</td>\n      <td>975385</td>\n      <td>IPR040382</td>\n      <td>1</td>\n      <td>ENST00000381685</td>\n      <td>None</td>\n      <td>protein_feature</td>\n      <td></td>\n      <td>PTHR14927</td>\n      <td>PANTHER</td>\n      <td>676</td>\n      <td>682</td>\n      <td>5</td>\n      <td>ENSP00000371101</td>\n      <td>Nucleolar protein 10/Enp2</td>\n    </tr>\n    <tr>\n      <th>5279</th>\n      <td>SSF50978</td>\n      <td>975385</td>\n      <td>IPR036322</td>\n      <td>42</td>\n      <td>ENST00000381685</td>\n      <td>None</td>\n      <td>protein_feature</td>\n      <td></td>\n      <td>SSF50978</td>\n      <td>SuperFamily</td>\n      <td>0</td>\n      <td>339</td>\n      <td>0</td>\n      <td>ENSP00000371101</td>\n      <td>WD40-repeat-containing domain superfamily</td>\n    </tr>\n  </tbody>\n</table>\n<p>5280 rows × 15 columns</p>\n</div>",
      "text/plain": "        hseqname  translation_id   interpro  start  Transcript Base  \\\n0     3.60.20.10          976188  IPR029055     44  ENST00000259457   \n1        PF12465          976188  IPR024689    235  ENST00000259457   \n2        PF00227          976188  IPR001353     41  ENST00000259457   \n3        PR00141          976188  IPR000243     51  ENST00000259457   \n4        PR00141          976188  IPR000243    171  ENST00000259457   \n...          ...             ...        ...    ...              ...   \n5275        Coil          975385               516  ENST00000381685   \n5276        Coil          975385               558  ENST00000381685   \n5277        Coil          975385               640  ENST00000381685   \n5278   PTHR14927          975385  IPR040382      1  ENST00000381685   \n5279    SSF50978          975385  IPR036322     42  ENST00000381685   \n\n     align_type     feature_type cigar_string          id         type  \\\n0          None  protein_feature               3.60.20.10       Gene3D   \n1          None  protein_feature                  PF12465         Pfam   \n2          None  protein_feature                  PF00227         Pfam   \n3          None  protein_feature                  PR00141       PRINTS   \n4          None  protein_feature                  PR00141       PRINTS   \n...         ...              ...          ...         ...          ...   \n5275       None  protein_feature                     Coil       ncoils   \n5276       None  protein_feature                     Coil       ncoils   \n5277       None  protein_feature                     Coil       ncoils   \n5278       None  protein_feature                PTHR14927      PANTHER   \n5279       None  protein_feature                 SSF50978  SuperFamily   \n\n      hit_end  end  hit_start  seq_region_name  \\\n0         233  277          1  ENSP00000259457   \n1          36  271          1  ENSP00000259457   \n2         190  221          2  ENSP00000259457   \n3           0   66          0  ENSP00000259457   \n4           0  182          0  ENSP00000259457   \n...       ...  ...        ...              ...   \n5275        0  537          0  ENSP00000371101   \n5276        0  587          0  ENSP00000371101   \n5277        0  669          0  ENSP00000371101   \n5278      676  682          5  ENSP00000371101   \n5279        0  339          0  ENSP00000371101   \n\n                                    description  \n0       Nucleophile aminohydrolases, N-terminal  \n1           Proteasome beta subunit, C-terminal  \n2                Proteasome, subunit alpha/beta  \n3        Peptidase T1A, proteasome beta-subunit  \n4        Peptidase T1A, proteasome beta-subunit  \n...                                         ...  \n5275                                             \n5276                                             \n5277                                             \n5278                  Nucleolar protein 10/Enp2  \n5279  WD40-repeat-containing domain superfamily  \n\n[5280 rows x 15 columns]"
     },
     "execution_count": null,
     "metadata": {},
     "output_type": "execute_result"
    }
   ],
   "source": [
    "translation_overlap_df = build_translation_overlap_df(transcript_aa_seq_df['id'],\n",
    "                                                      n_jobs=2)\n",
    "translation_overlap_df"
   ]
  },
  {
   "cell_type": "markdown",
   "metadata": {},
   "source": [
    "## Store data using parquet for later use"
   ]
  },
  {
   "cell_type": "code",
   "execution_count": null,
   "metadata": {},
   "outputs": [],
   "source": [
    "# export\n",
    "def write_transcript_data(design_df, transcript_id_col='Target Transcript',\n",
    "                          transcript_len_col='Target Total Length', n_jobs=1,\n",
    "                          overwrite=True, filepath='./data/target_data/',\n",
    "                          aa_seq_name='aa_seqs.pq',\n",
    "                          protein_domain_name='protein_domains.pq'):\n",
    "    \"\"\"Write amino acid sequences and protein domain information to parquet files\n",
    "\n",
    "    :param design_df: DataFrame\n",
    "    :param transcript_id_col: str\n",
    "    :param transcript_len_col: str\n",
    "    :param n_jobs: int\n",
    "    :param overwrite: bool, whether to overwrite existing file\n",
    "    :param filepath: str, directory for output sequences\n",
    "    :param aa_seq_name: str, name of amino acid sequence file\n",
    "    :param protein_domain_name: str, name of protein domain file\n",
    "    \"\"\"\n",
    "    if (os.path.isfile(filepath + aa_seq_name) or os.path.isfile(filepath + protein_domain_name)) and (not overwrite):\n",
    "        raise ValueError('Transcript data already exits and cannot be overwritten')\n",
    "    else:\n",
    "        transcript_aa_seq_df = build_transcript_aa_seq_df(design_df, transcript_id_col=transcript_id_col,\n",
    "                                                          transcript_len_col=transcript_len_col,\n",
    "                                                          n_jobs=n_jobs)\n",
    "        translation_overlap_df = build_translation_overlap_df(transcript_aa_seq_df['id'],\n",
    "                                                              n_jobs=n_jobs)\n",
    "        if not os.path.isdir(filepath):\n",
    "            print('Creating new directory ' + filepath)\n",
    "            os.makedirs(filepath)\n",
    "        transcript_aa_seq_df.to_parquet(path=filepath + aa_seq_name, engine='pyarrow',\n",
    "                                        index=False)\n",
    "        translation_overlap_df.to_parquet(path=filepath + protein_domain_name, engine='pyarrow',\n",
    "                                          index=False)"
   ]
  },
  {
   "cell_type": "code",
   "execution_count": null,
   "metadata": {},
   "outputs": [
    {
     "name": "stdout",
     "output_type": "stream",
     "text": [
      "Getting amino acid sequences\n"
     ]
    },
    {
     "name": "stderr",
     "output_type": "stream",
     "text": [
      "100%|██████████| 4/4 [00:02<00:00,  1.42it/s]\n"
     ]
    },
    {
     "name": "stdout",
     "output_type": "stream",
     "text": [
      "Getting protein domains\n"
     ]
    },
    {
     "name": "stderr",
     "output_type": "stream",
     "text": [
      "100%|██████████| 200/200 [00:48<00:00,  4.13it/s]\n"
     ]
    }
   ],
   "source": [
    "write_transcript_data(design_df, n_jobs=2)\n",
    "assert os.path.isfile('./data/target_data/' + 'aa_seqs.pq')"
   ]
  },
  {
   "cell_type": "markdown",
   "metadata": {},
   "source": [
    "# Get Conservation Scores\n",
    "\n",
    "Get PhyloP conservation scores"
   ]
  },
  {
   "cell_type": "code",
   "execution_count": null,
   "metadata": {},
   "outputs": [],
   "source": [
    "# export\n",
    "def get_transcript_info(base_transcript):\n",
    "    \"\"\"Using an ensembl transcript ID, get\n",
    "\n",
    "    :param base_transcript: str\n",
    "    :return: (exon_df, trans_sr, chr)\n",
    "        exon_df: DataFrame, with global exon start and end position\n",
    "        trans_sr: Series, with global translation start and stop positions for CDS and translation length\n",
    "        chr: str\n",
    "\n",
    "    \"\"\"\n",
    "    r = ensembl_get(\"/lookup/id/\" + base_transcript + \"?expand=1\",\n",
    "                    headers={\"Content-Type\": \"application/json\"}, params={'expand': '1'})\n",
    "    decoded = r.json()\n",
    "    exon_df = pd.DataFrame(decoded['Exon'])\n",
    "    trans_sr = pd.Series(decoded['Translation'])\n",
    "    chr = decoded['seq_region_name']\n",
    "    return exon_df, trans_sr, chr"
   ]
  },
  {
   "cell_type": "code",
   "execution_count": null,
   "metadata": {},
   "outputs": [],
   "source": [
    "exon_df, trans_sr, chr = get_transcript_info('ENST00000259457')\n",
    "assert chr == '9'\n",
    "assert trans_sr['length'] == 277 # number of aas\n",
    "assert exon_df.shape[0] == 8 # eight exons"
   ]
  },
  {
   "cell_type": "code",
   "execution_count": null,
   "metadata": {},
   "outputs": [],
   "source": [
    "# export\n",
    "def get_conservation(chr, start, end, genome):\n",
    "    \"\"\"Get conservation scores for a given region of a genome\n",
    "\n",
    "    :param chr: str, chromosome number\n",
    "    :param start: int\n",
    "    :param end: int\n",
    "    :param genome: str\n",
    "    :return: DataFrame\n",
    "    \"\"\"\n",
    "    api_url = 'http://api.genome.ucsc.edu/getData/track'\n",
    "    if genome == 'hg38':\n",
    "        track = 'phyloP100way'\n",
    "    elif genome == 'mm39':\n",
    "        track = 'phyloP35way'\n",
    "    else:\n",
    "        raise ValueError('Genome not recognized')\n",
    "    chrom = 'chr' + chr\n",
    "    params = {\n",
    "        'genome': genome,\n",
    "        'track': track,\n",
    "        'start': start,\n",
    "        'end': end,\n",
    "        'chrom': chrom\n",
    "    }\n",
    "    results = requests.get(api_url, data=params)\n",
    "    if results.ok:\n",
    "        value_df = (pd.DataFrame([pd.Series(x) for x in pd.read_json(results.content.decode('utf8'))[chrom].values])\n",
    "                    .rename(columns={'value': 'conservation'}))\n",
    "    else:\n",
    "        raise ValueError(results.reason)\n",
    "    return value_df"
   ]
  },
  {
   "cell_type": "code",
   "execution_count": null,
   "metadata": {},
   "outputs": [],
   "source": [
    "rps20_exon_conservation = get_conservation('8', 56074060, 56074159, 'hg38')\n",
    "cd274_exon_conservation = get_conservation('9', 5457079, 5457420, 'hg38')\n",
    "assert rps20_exon_conservation['conservation'].mean() > cd274_exon_conservation['conservation'].mean()"
   ]
  },
  {
   "cell_type": "code",
   "execution_count": null,
   "metadata": {},
   "outputs": [],
   "source": [
    "# export\n",
    "def get_exon_conservation(exon_df, chr, genome):\n",
    "    \"\"\"Get conservation scores for each exon\n",
    "\n",
    "    :param exon_df: DataFrame\n",
    "    :param chr: str\n",
    "    :param genome: str\n",
    "    :return: DataFrame\n",
    "    \"\"\"\n",
    "    conservation_dict = {}\n",
    "    for i, row in exon_df.set_index('id').iterrows():\n",
    "        # subtract one since the nucleotide conservation corresponds to the \"end\" index\n",
    "        conservation_dict[i] = get_conservation(chr, row['start'] - 1, row['end'], genome)\n",
    "        # get the conservation of i\n",
    "    conservation_df = (pd.concat(conservation_dict)\n",
    "                       .reset_index(level=0)\n",
    "                       .reset_index(drop=True)\n",
    "                       .rename({'level_0': 'exon_id',\n",
    "                                'end': 'genomic position'}, axis=1)\n",
    "                       .drop('start', axis=1))\n",
    "    return conservation_df\n",
    "\n",
    "\n",
    "def get_transcript_conservation(transcript_id, target_strand, genome):\n",
    "    \"\"\"Get conservation scores for a transcript\n",
    "\n",
    "    :param transcript_id: str\n",
    "    :param target_strand: str, '+' or '-'\n",
    "    :param genome: str\n",
    "    :return: DataFrame\n",
    "    \"\"\"\n",
    "    exon_df, trans_sr, chr = get_transcript_info(transcript_id)\n",
    "    # only include translated positions\n",
    "    exon_df['start'] = exon_df['start'].apply(lambda x: max(x, trans_sr['start']))\n",
    "    exon_df['end'] = exon_df['end'].apply(lambda x: min(x, trans_sr['end']))\n",
    "    exon_df = exon_df[exon_df['end'] > exon_df['start']].reset_index(drop=True)\n",
    "    conservation_df = get_exon_conservation(exon_df, chr, genome)\n",
    "    conservation_df['Transcript Base'] = transcript_id\n",
    "    if target_strand == '-':\n",
    "        ascending = False\n",
    "    else:\n",
    "        ascending = True\n",
    "    conservation_df = (conservation_df\n",
    "                       .sort_values('genomic position', ascending=ascending)\n",
    "                       .reset_index(drop=True))\n",
    "    conservation_df['target position'] = conservation_df.index + 1\n",
    "    conservation_df['chromosome'] = chr\n",
    "    conservation_df['genome'] = genome\n",
    "    conservation_df['translation length'] = trans_sr['length']\n",
    "    return conservation_df"
   ]
  },
  {
   "cell_type": "code",
   "execution_count": null,
   "metadata": {},
   "outputs": [],
   "source": [
    "rps20_conservation_df = get_transcript_conservation('ENST00000009589', '-', 'hg38')\n",
    "cd274_conservation_df = get_transcript_conservation('ENST00000381577', '+', 'hg38')\n",
    "assert rps20_conservation_df['conservation'].mean() > cd274_conservation_df['conservation'].mean()"
   ]
  },
  {
   "cell_type": "code",
   "execution_count": null,
   "metadata": {},
   "outputs": [],
   "source": [
    "# export\n",
    "def get_transcript_conservation_safe(transcript_id, target_strand, genome):\n",
    "    \"\"\"Helper function for parrallel query. Return None when conservation dataframe cannot be assembled\"\"\"\n",
    "    try:\n",
    "        return get_transcript_conservation(transcript_id, target_strand, genome)\n",
    "    except:\n",
    "        return None\n",
    "\n",
    "\n",
    "def build_conservation_df(design_df, n_jobs=1):\n",
    "    transcript_refseq_df = (design_df[['Target Transcript', 'Strand of Target', 'Target Total Length']]\n",
    "                            .drop_duplicates())\n",
    "    if not (transcript_refseq_df['Target Transcript'].str.startswith('ENST') |\n",
    "            transcript_refseq_df['Target Transcript'].str.startswith('ENSMUST')).all():\n",
    "        raise ValueError('Must supply human or mouse Ensembl transcript IDs as input')\n",
    "    print('Getting conservation')\n",
    "    transcript_refseq_df['Transcript Base'] = (transcript_refseq_df['Target Transcript'].str.split('.', expand=True)[0])\n",
    "    transcript_refseq_df['genome'] = transcript_refseq_df['Transcript Base'].apply(lambda trans:\n",
    "                                                                                   'mm39' if 'MUS' in trans else 'hg38')\n",
    "    all_transcript_conservation_list = Parallel(n_jobs)(delayed(get_transcript_conservation_safe)\n",
    "                                                        (row['Transcript Base'],\n",
    "                                                         row['Strand of Target'],\n",
    "                                                         row['genome'])\n",
    "                                                         for _, row in tqdm(transcript_refseq_df.iterrows(),\n",
    "                                                                            total=transcript_refseq_df.shape[0]))\n",
    "    transcript_conservation_list = []\n",
    "    failed_list = []\n",
    "    transcript_list = transcript_refseq_df['Transcript Base'].to_list()\n",
    "    for i, conservation_df in enumerate(all_transcript_conservation_list):\n",
    "        if conservation_df is None:\n",
    "            failed_list.append(transcript_list[i])\n",
    "        else:\n",
    "            transcript_conservation_list.append(conservation_df)\n",
    "    if len(failed_list) > 0:\n",
    "        warnings.warn('Failed to get conservation scores for ' + str(len(failed_list)) +\n",
    "                      ' transcripts' + ', '.join(failed_list))\n",
    "    transcript_conservation_df = (pd.concat(transcript_conservation_list))\n",
    "    transcript_cons_designs = (transcript_conservation_df\n",
    "                               .merge(transcript_refseq_df, how='inner',\n",
    "                                      on=['Transcript Base', 'genome']))\n",
    "    filtered_transcript_conservation = transcript_cons_designs[\n",
    "        (transcript_cons_designs['translation length'] + 1)*3 == transcript_cons_designs['Target Total Length']].copy()\n",
    "    mismatched_transcripts = transcript_conservation_df['Transcript Base'][\n",
    "        ~transcript_conservation_df['Transcript Base'].isin(filtered_transcript_conservation['Transcript Base'])]\n",
    "    if len(mismatched_transcripts) > 0:\n",
    "        warnings.warn('Filtered: ' + str(len(mismatched_transcripts)) +\n",
    "                      ' transcripts with mismatched length:' + ','.join(mismatched_transcripts))\n",
    "    filtered_transcript_conservation['ranked_conservation'] = (filtered_transcript_conservation.groupby('Transcript Base')\n",
    "                                                               ['conservation']\n",
    "                                                               .rank(pct=True))\n",
    "    return filtered_transcript_conservation"
   ]
  },
  {
   "cell_type": "code",
   "execution_count": null,
   "metadata": {},
   "outputs": [
    {
     "name": "stdout",
     "output_type": "stream",
     "text": [
      "Getting conservation\n"
     ]
    },
    {
     "name": "stderr",
     "output_type": "stream",
     "text": [
      "100%|██████████| 200/200 [03:33<00:00,  1.07s/it]\n"
     ]
    }
   ],
   "source": [
    "conservation_df = build_conservation_df(design_df, n_jobs=max_n_jobs)\n",
    "assert (conservation_df.groupby('Target Transcript')\n",
    "        .apply(lambda df: stats.spearmanr(df['conservation'], df['ranked_conservation'])[0])\n",
    "        > 0.99).all()\n",
    "assert (conservation_df.loc[(conservation_df['Transcript Base'] == 'ENST00000361337') &\n",
    "                            (conservation_df['target position'].between(432*3, 663*3)),\n",
    "                            'ranked_conservation'].mean() >  # pfam\n",
    "        conservation_df.loc[(conservation_df['Transcript Base'] == 'ENST00000361337') &\n",
    "                            (conservation_df['target position'].between(36*3, 199*3)),  # mobidblit\n",
    "                            'ranked_conservation'].mean())"
   ]
  },
  {
   "cell_type": "code",
   "execution_count": null,
   "metadata": {},
   "outputs": [],
   "source": [
    "# export\n",
    "def write_conservation_data(design_df, n_jobs=1,\n",
    "                            overwrite=True, filepath='./data/target_data/',\n",
    "                            cons_file_name='conservation.pq'):\n",
    "    \"\"\"Write conservation scores to parquet files\n",
    "\n",
    "    :param design_df: DataFrame\n",
    "    :param n_jobs: int\n",
    "    :param overwrite: bool, whether to overwrite existing file\n",
    "    :param filepath: str, directory for output sequences\n",
    "    :param cons_file_name: str, name of conservation file\n",
    "    \"\"\"\n",
    "    if os.path.isfile(filepath + cons_file_name) and (not overwrite):\n",
    "        raise ValueError('Conservation data already exits and cannot be overwritten')\n",
    "    else:\n",
    "        conservation_df = build_conservation_df(design_df, n_jobs=n_jobs)\n",
    "        if not os.path.isdir(filepath):\n",
    "            print('Creating new directory ' + filepath)\n",
    "            os.makedirs(filepath)\n",
    "        conservation_df.to_parquet(path=filepath + cons_file_name, engine='pyarrow',\n",
    "                                   index=False)"
   ]
  },
  {
   "cell_type": "code",
   "execution_count": null,
   "metadata": {},
   "outputs": [
    {
     "name": "stdout",
     "output_type": "stream",
     "text": [
      "Getting conservation\n"
     ]
    },
    {
     "name": "stderr",
     "output_type": "stream",
     "text": [
      "100%|██████████| 200/200 [05:16<00:00,  1.58s/it]\n"
     ]
    }
   ],
   "source": [
    "write_conservation_data(design_df, n_jobs=max_n_jobs)\n",
    "assert os.path.isfile('./data/target_data/' + 'conservation.pq')"
   ]
  },
  {
   "cell_type": "code",
   "execution_count": null,
   "metadata": {},
   "outputs": [],
   "source": []
  }
 ],
 "metadata": {
  "kernelspec": {
   "display_name": "Python 3",
   "language": "python",
   "name": "python3"
  }
 },
 "nbformat": 4,
 "nbformat_minor": 0
}
