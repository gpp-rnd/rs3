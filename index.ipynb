{
 "cells": [
  {
   "cell_type": "markdown",
   "metadata": {},
   "source": [
    "# Rule Set 3\n",
    "\n",
    "> Python package to predict the activity of CRISPR sgRNA sequences using Rule Set 3"
   ]
  },
  {
   "cell_type": "markdown",
   "metadata": {},
   "source": [
    "## Install"
   ]
  },
  {
   "cell_type": "markdown",
   "metadata": {},
   "source": [
    "`pip install git+ssh://git@github.com/gpp-rnd/rs3.git`"
   ]
  },
  {
   "cell_type": "markdown",
   "metadata": {},
   "source": [
    "## Quick Start\n",
    "\n",
    "### Sequence based model"
   ]
  },
  {
   "cell_type": "markdown",
   "metadata": {},
   "source": [
    "To calculate Rule Set 3 (sequence) scores, import\n",
    "the `predict_seq` function from the `seq` module."
   ]
  },
  {
   "cell_type": "code",
   "execution_count": null,
   "metadata": {},
   "outputs": [],
   "source": [
    "from rs3.seq import predict_seq"
   ]
  },
  {
   "cell_type": "markdown",
   "metadata": {},
   "source": [
    "You can store the 30mer context sequences you want to predict as a list."
   ]
  },
  {
   "cell_type": "code",
   "execution_count": null,
   "metadata": {},
   "outputs": [],
   "source": [
    "context_seqs = ['GACGAAAGCGACAACGCGTTCATCCGGGCA', 'AGAAAACACTAGCATCCCCACCCGCGGACT']"
   ]
  },
  {
   "cell_type": "markdown",
   "metadata": {},
   "source": [
    "You can specify either\n",
    "[Hsu2013](https://www.nature.com/articles/nbt.2647) or\n",
    "[Chen2013](https://www.sciencedirect.com/science/article/pii/S0092867413015316?via%3Dihub)\n",
    "as the tracrRNA to score with. We generally find any tracrRNA that does not have a T\n",
    "in the fifth position is better predicted with the Chen2013 input."
   ]
  },
  {
   "cell_type": "code",
   "execution_count": null,
   "metadata": {},
   "outputs": [
    {
     "name": "stdout",
     "output_type": "stream",
     "text": [
      "Calculating sequence-based features\n"
     ]
    },
    {
     "name": "stderr",
     "output_type": "stream",
     "text": [
      "100%|██████████| 2/2 [00:00<00:00, 244.20it/s]\n"
     ]
    },
    {
     "data": {
      "text/plain": "array([-0.86673522,  1.09560723])"
     },
     "execution_count": null,
     "metadata": {},
     "output_type": "execute_result"
    }
   ],
   "source": [
    "predict_seq(context_seqs, sequence_tracr='Hsu2013')"
   ]
  },
  {
   "cell_type": "markdown",
   "metadata": {},
   "source": [
    "### Target based model\n",
    "\n",
    "To get target scores, which use features at the endogenous target site to make predictions,\n",
    "you must build or load feature matrices for the amino acid sequences, conservation scores, and protein domains.\n",
    "\n",
    "As an example, we'll calculate target scores for 250 sgRNAs in the GeckoV2 library."
   ]
  },
  {
   "cell_type": "code",
   "execution_count": null,
   "metadata": {},
   "outputs": [],
   "source": [
    "import pandas as pd\n",
    "from rs3.predicttarg import predict_target\n",
    "from rs3.targetfeat import (add_target_columns,\n",
    "                            get_aa_subseq_df,\n",
    "                            get_protein_domain_features,\n",
    "                            get_conservation_features)"
   ]
  },
  {
   "cell_type": "code",
   "execution_count": null,
   "metadata": {},
   "outputs": [
    {
     "data": {
      "text/html": "<div>\n<style scoped>\n    .dataframe tbody tr th:only-of-type {\n        vertical-align: middle;\n    }\n\n    .dataframe tbody tr th {\n        vertical-align: top;\n    }\n\n    .dataframe thead th {\n        text-align: right;\n    }\n</style>\n<table border=\"1\" class=\"dataframe\">\n  <thead>\n    <tr style=\"text-align: right;\">\n      <th></th>\n      <th>Input</th>\n      <th>Quota</th>\n      <th>Target Taxon</th>\n      <th>Target Gene ID</th>\n      <th>Target Gene Symbol</th>\n      <th>Target Transcript</th>\n      <th>Target Reference Coords</th>\n      <th>Target Alias</th>\n      <th>CRISPR Mechanism</th>\n      <th>Target Domain</th>\n      <th>...</th>\n      <th>On-Target Rank Weight</th>\n      <th>Off-Target Rank Weight</th>\n      <th>Combined Rank</th>\n      <th>Preselected As</th>\n      <th>Matching Active Arrayed Oligos</th>\n      <th>Matching Arrayed Constructs</th>\n      <th>Pools Containing Matching Construct</th>\n      <th>Pick Order</th>\n      <th>Picking Round</th>\n      <th>Picking Notes</th>\n    </tr>\n  </thead>\n  <tbody>\n    <tr>\n      <th>0</th>\n      <td>PSMB7</td>\n      <td>2</td>\n      <td>9606</td>\n      <td>ENSG00000136930</td>\n      <td>PSMB7</td>\n      <td>ENST00000259457.8</td>\n      <td>NaN</td>\n      <td>NaN</td>\n      <td>CRISPRko</td>\n      <td>CDS</td>\n      <td>...</td>\n      <td>1.0</td>\n      <td>1.0</td>\n      <td>7</td>\n      <td>GCAGATACAAGAGCAACTGA</td>\n      <td>NaN</td>\n      <td>BRDN0004619103</td>\n      <td>NaN</td>\n      <td>1</td>\n      <td>0</td>\n      <td>Preselected</td>\n    </tr>\n    <tr>\n      <th>1</th>\n      <td>PSMB7</td>\n      <td>2</td>\n      <td>9606</td>\n      <td>ENSG00000136930</td>\n      <td>PSMB7</td>\n      <td>ENST00000259457.8</td>\n      <td>NaN</td>\n      <td>NaN</td>\n      <td>CRISPRko</td>\n      <td>CDS</td>\n      <td>...</td>\n      <td>1.0</td>\n      <td>1.0</td>\n      <td>48</td>\n      <td>AAAACTGGCACGACCATCGC</td>\n      <td>NaN</td>\n      <td>NaN</td>\n      <td>NaN</td>\n      <td>2</td>\n      <td>0</td>\n      <td>Preselected</td>\n    </tr>\n    <tr>\n      <th>2</th>\n      <td>PRC1</td>\n      <td>2</td>\n      <td>9606</td>\n      <td>ENSG00000198901</td>\n      <td>PRC1</td>\n      <td>ENST00000394249.8</td>\n      <td>NaN</td>\n      <td>NaN</td>\n      <td>CRISPRko</td>\n      <td>CDS</td>\n      <td>...</td>\n      <td>1.0</td>\n      <td>1.0</td>\n      <td>7</td>\n      <td>AAAAGATTTGCGCACCCAAG</td>\n      <td>NaN</td>\n      <td>NaN</td>\n      <td>NaN</td>\n      <td>1</td>\n      <td>0</td>\n      <td>Preselected</td>\n    </tr>\n    <tr>\n      <th>3</th>\n      <td>PRC1</td>\n      <td>2</td>\n      <td>9606</td>\n      <td>ENSG00000198901</td>\n      <td>PRC1</td>\n      <td>ENST00000394249.8</td>\n      <td>NaN</td>\n      <td>NaN</td>\n      <td>CRISPRko</td>\n      <td>CDS</td>\n      <td>...</td>\n      <td>1.0</td>\n      <td>1.0</td>\n      <td>8</td>\n      <td>CTTTGACCCAGACATAATGG</td>\n      <td>NaN</td>\n      <td>NaN</td>\n      <td>NaN</td>\n      <td>2</td>\n      <td>0</td>\n      <td>Preselected</td>\n    </tr>\n    <tr>\n      <th>4</th>\n      <td>TOP1</td>\n      <td>2</td>\n      <td>9606</td>\n      <td>ENSG00000198900</td>\n      <td>TOP1</td>\n      <td>ENST00000361337.3</td>\n      <td>NaN</td>\n      <td>NaN</td>\n      <td>CRISPRko</td>\n      <td>CDS</td>\n      <td>...</td>\n      <td>1.0</td>\n      <td>1.0</td>\n      <td>1</td>\n      <td>NaN</td>\n      <td>NaN</td>\n      <td>BRDN0001486452</td>\n      <td>NaN</td>\n      <td>2</td>\n      <td>1</td>\n      <td>NaN</td>\n    </tr>\n  </tbody>\n</table>\n<p>5 rows × 60 columns</p>\n</div>",
      "text/plain": "   Input  Quota  Target Taxon   Target Gene ID Target Gene Symbol  \\\n0  PSMB7      2          9606  ENSG00000136930              PSMB7   \n1  PSMB7      2          9606  ENSG00000136930              PSMB7   \n2   PRC1      2          9606  ENSG00000198901               PRC1   \n3   PRC1      2          9606  ENSG00000198901               PRC1   \n4   TOP1      2          9606  ENSG00000198900               TOP1   \n\n   Target Transcript  Target Reference Coords  Target Alias CRISPR Mechanism  \\\n0  ENST00000259457.8                      NaN           NaN         CRISPRko   \n1  ENST00000259457.8                      NaN           NaN         CRISPRko   \n2  ENST00000394249.8                      NaN           NaN         CRISPRko   \n3  ENST00000394249.8                      NaN           NaN         CRISPRko   \n4  ENST00000361337.3                      NaN           NaN         CRISPRko   \n\n  Target Domain  ... On-Target Rank Weight Off-Target Rank Weight  \\\n0           CDS  ...                   1.0                    1.0   \n1           CDS  ...                   1.0                    1.0   \n2           CDS  ...                   1.0                    1.0   \n3           CDS  ...                   1.0                    1.0   \n4           CDS  ...                   1.0                    1.0   \n\n  Combined Rank        Preselected As  Matching Active Arrayed Oligos  \\\n0             7  GCAGATACAAGAGCAACTGA                             NaN   \n1            48  AAAACTGGCACGACCATCGC                             NaN   \n2             7  AAAAGATTTGCGCACCCAAG                             NaN   \n3             8  CTTTGACCCAGACATAATGG                             NaN   \n4             1                   NaN                             NaN   \n\n   Matching Arrayed Constructs  Pools Containing Matching Construct  \\\n0               BRDN0004619103                                  NaN   \n1                          NaN                                  NaN   \n2                          NaN                                  NaN   \n3                          NaN                                  NaN   \n4               BRDN0001486452                                  NaN   \n\n  Pick Order Picking Round Picking Notes  \n0          1             0   Preselected  \n1          2             0   Preselected  \n2          1             0   Preselected  \n3          2             0   Preselected  \n4          2             1           NaN  \n\n[5 rows x 60 columns]"
     },
     "execution_count": null,
     "metadata": {},
     "output_type": "execute_result"
    }
   ],
   "source": [
    "design_df = pd.read_table('test_data/sgrna-designs.txt')\n",
    "design_df.head()"
   ]
  },
  {
   "cell_type": "markdown",
   "metadata": {},
   "source": [
    "Throughout the analysis we will be using a core set of ID columns to merge the\n",
    "feature matrices. These ID columns should uniquely identify an sgRNA and its target site."
   ]
  },
  {
   "cell_type": "code",
   "execution_count": null,
   "metadata": {},
   "outputs": [],
   "source": [
    "id_cols = ['sgRNA Context Sequence', 'Target Cut Length', 'Target Transcript', 'Orientation']"
   ]
  },
  {
   "cell_type": "markdown",
   "metadata": {},
   "source": [
    "#### Amino acid sequence input\n",
    "\n",
    "To calculate the amino acid sequence matrix, you must first load the complete\n",
    "sequence from ensembl using the `build_transcript_aa_seq_df.` See the documentation\n",
    "for the `predicttarget` module for an example of how to use this function.\n",
    "\n",
    "In this example we will use amino acid sequences that have been\n",
    "precalculated using the `write_transcript_data` function in the\n",
    "`targetdata` module. Check out the documentation for this module for\n",
    "more information on how to use this function.\n",
    "\n",
    "We use pyarrow to read the written transcript data. The stored transcripts are\n",
    "indexed by their Ensembl ID without the version number identifier.\n",
    "To get this shortened version of the Ensembl ID use the `add_target_columns` function\n",
    "from the `targetfeat` module. This function adds the 'Transcript Base' column as well\n",
    "as a column indicating the amino acid index ('AA Index') of the cut site. The 'AA Index'\n",
    "column will be used for merging with the amino acid translations."
   ]
  },
  {
   "cell_type": "code",
   "execution_count": null,
   "metadata": {},
   "outputs": [
    {
     "data": {
      "text/html": "<div>\n<style scoped>\n    .dataframe tbody tr th:only-of-type {\n        vertical-align: middle;\n    }\n\n    .dataframe tbody tr th {\n        vertical-align: top;\n    }\n\n    .dataframe thead th {\n        text-align: right;\n    }\n</style>\n<table border=\"1\" class=\"dataframe\">\n  <thead>\n    <tr style=\"text-align: right;\">\n      <th></th>\n      <th>Input</th>\n      <th>Quota</th>\n      <th>Target Taxon</th>\n      <th>Target Gene ID</th>\n      <th>Target Gene Symbol</th>\n      <th>Target Transcript</th>\n      <th>Target Reference Coords</th>\n      <th>Target Alias</th>\n      <th>CRISPR Mechanism</th>\n      <th>Target Domain</th>\n      <th>...</th>\n      <th>Combined Rank</th>\n      <th>Preselected As</th>\n      <th>Matching Active Arrayed Oligos</th>\n      <th>Matching Arrayed Constructs</th>\n      <th>Pools Containing Matching Construct</th>\n      <th>Pick Order</th>\n      <th>Picking Round</th>\n      <th>Picking Notes</th>\n      <th>AA Index</th>\n      <th>Transcript Base</th>\n    </tr>\n  </thead>\n  <tbody>\n    <tr>\n      <th>0</th>\n      <td>PSMB7</td>\n      <td>2</td>\n      <td>9606</td>\n      <td>ENSG00000136930</td>\n      <td>PSMB7</td>\n      <td>ENST00000259457.8</td>\n      <td>NaN</td>\n      <td>NaN</td>\n      <td>CRISPRko</td>\n      <td>CDS</td>\n      <td>...</td>\n      <td>7</td>\n      <td>GCAGATACAAGAGCAACTGA</td>\n      <td>NaN</td>\n      <td>BRDN0004619103</td>\n      <td>NaN</td>\n      <td>1</td>\n      <td>0</td>\n      <td>Preselected</td>\n      <td>64</td>\n      <td>ENST00000259457</td>\n    </tr>\n    <tr>\n      <th>1</th>\n      <td>PSMB7</td>\n      <td>2</td>\n      <td>9606</td>\n      <td>ENSG00000136930</td>\n      <td>PSMB7</td>\n      <td>ENST00000259457.8</td>\n      <td>NaN</td>\n      <td>NaN</td>\n      <td>CRISPRko</td>\n      <td>CDS</td>\n      <td>...</td>\n      <td>48</td>\n      <td>AAAACTGGCACGACCATCGC</td>\n      <td>NaN</td>\n      <td>NaN</td>\n      <td>NaN</td>\n      <td>2</td>\n      <td>0</td>\n      <td>Preselected</td>\n      <td>46</td>\n      <td>ENST00000259457</td>\n    </tr>\n    <tr>\n      <th>2</th>\n      <td>PRC1</td>\n      <td>2</td>\n      <td>9606</td>\n      <td>ENSG00000198901</td>\n      <td>PRC1</td>\n      <td>ENST00000394249.8</td>\n      <td>NaN</td>\n      <td>NaN</td>\n      <td>CRISPRko</td>\n      <td>CDS</td>\n      <td>...</td>\n      <td>7</td>\n      <td>AAAAGATTTGCGCACCCAAG</td>\n      <td>NaN</td>\n      <td>NaN</td>\n      <td>NaN</td>\n      <td>1</td>\n      <td>0</td>\n      <td>Preselected</td>\n      <td>106</td>\n      <td>ENST00000394249</td>\n    </tr>\n    <tr>\n      <th>3</th>\n      <td>PRC1</td>\n      <td>2</td>\n      <td>9606</td>\n      <td>ENSG00000198901</td>\n      <td>PRC1</td>\n      <td>ENST00000394249.8</td>\n      <td>NaN</td>\n      <td>NaN</td>\n      <td>CRISPRko</td>\n      <td>CDS</td>\n      <td>...</td>\n      <td>8</td>\n      <td>CTTTGACCCAGACATAATGG</td>\n      <td>NaN</td>\n      <td>NaN</td>\n      <td>NaN</td>\n      <td>2</td>\n      <td>0</td>\n      <td>Preselected</td>\n      <td>263</td>\n      <td>ENST00000394249</td>\n    </tr>\n    <tr>\n      <th>4</th>\n      <td>TOP1</td>\n      <td>2</td>\n      <td>9606</td>\n      <td>ENSG00000198900</td>\n      <td>TOP1</td>\n      <td>ENST00000361337.3</td>\n      <td>NaN</td>\n      <td>NaN</td>\n      <td>CRISPRko</td>\n      <td>CDS</td>\n      <td>...</td>\n      <td>1</td>\n      <td>NaN</td>\n      <td>NaN</td>\n      <td>BRDN0001486452</td>\n      <td>NaN</td>\n      <td>2</td>\n      <td>1</td>\n      <td>NaN</td>\n      <td>140</td>\n      <td>ENST00000361337</td>\n    </tr>\n  </tbody>\n</table>\n<p>5 rows × 62 columns</p>\n</div>",
      "text/plain": "   Input  Quota  Target Taxon   Target Gene ID Target Gene Symbol  \\\n0  PSMB7      2          9606  ENSG00000136930              PSMB7   \n1  PSMB7      2          9606  ENSG00000136930              PSMB7   \n2   PRC1      2          9606  ENSG00000198901               PRC1   \n3   PRC1      2          9606  ENSG00000198901               PRC1   \n4   TOP1      2          9606  ENSG00000198900               TOP1   \n\n   Target Transcript  Target Reference Coords  Target Alias CRISPR Mechanism  \\\n0  ENST00000259457.8                      NaN           NaN         CRISPRko   \n1  ENST00000259457.8                      NaN           NaN         CRISPRko   \n2  ENST00000394249.8                      NaN           NaN         CRISPRko   \n3  ENST00000394249.8                      NaN           NaN         CRISPRko   \n4  ENST00000361337.3                      NaN           NaN         CRISPRko   \n\n  Target Domain  ... Combined Rank        Preselected As  \\\n0           CDS  ...             7  GCAGATACAAGAGCAACTGA   \n1           CDS  ...            48  AAAACTGGCACGACCATCGC   \n2           CDS  ...             7  AAAAGATTTGCGCACCCAAG   \n3           CDS  ...             8  CTTTGACCCAGACATAATGG   \n4           CDS  ...             1                   NaN   \n\n  Matching Active Arrayed Oligos  Matching Arrayed Constructs  \\\n0                            NaN               BRDN0004619103   \n1                            NaN                          NaN   \n2                            NaN                          NaN   \n3                            NaN                          NaN   \n4                            NaN               BRDN0001486452   \n\n   Pools Containing Matching Construct  Pick Order  Picking Round  \\\n0                                  NaN           1              0   \n1                                  NaN           2              0   \n2                                  NaN           1              0   \n3                                  NaN           2              0   \n4                                  NaN           2              1   \n\n  Picking Notes AA Index  Transcript Base  \n0   Preselected       64  ENST00000259457  \n1   Preselected       46  ENST00000259457  \n2   Preselected      106  ENST00000394249  \n3   Preselected      263  ENST00000394249  \n4           NaN      140  ENST00000361337  \n\n[5 rows x 62 columns]"
     },
     "execution_count": null,
     "metadata": {},
     "output_type": "execute_result"
    }
   ],
   "source": [
    "design_targ_df = add_target_columns(design_df)\n",
    "design_targ_df.head()"
   ]
  },
  {
   "cell_type": "code",
   "execution_count": null,
   "metadata": {},
   "outputs": [
    {
     "data": {
      "text/plain": "array(['ENST00000259457', 'ENST00000394249', 'ENST00000361337',\n       'ENST00000368328', 'ENST00000610426'], dtype=object)"
     },
     "execution_count": null,
     "metadata": {},
     "output_type": "execute_result"
    }
   ],
   "source": [
    "transcript_bases = design_targ_df['Transcript Base'].unique()\n",
    "transcript_bases[0:5]"
   ]
  },
  {
   "cell_type": "code",
   "execution_count": null,
   "metadata": {},
   "outputs": [
    {
     "data": {
      "text/html": "<div>\n<style scoped>\n    .dataframe tbody tr th:only-of-type {\n        vertical-align: middle;\n    }\n\n    .dataframe tbody tr th {\n        vertical-align: top;\n    }\n\n    .dataframe thead th {\n        text-align: right;\n    }\n</style>\n<table border=\"1\" class=\"dataframe\">\n  <thead>\n    <tr style=\"text-align: right;\">\n      <th></th>\n      <th>Target Transcript</th>\n      <th>Target Total Length</th>\n      <th>Transcript Base</th>\n      <th>version</th>\n      <th>seq</th>\n      <th>molecule</th>\n      <th>desc</th>\n      <th>id</th>\n      <th>AA len</th>\n    </tr>\n  </thead>\n  <tbody>\n    <tr>\n      <th>0</th>\n      <td>ENST00000259457.8</td>\n      <td>834</td>\n      <td>ENST00000259457</td>\n      <td>3</td>\n      <td>MAAVSVYAPPVGGFSFDNCRRNAVLEADFAKRGYKLPKVRKTGTTI...</td>\n      <td>protein</td>\n      <td>None</td>\n      <td>ENSP00000259457</td>\n      <td>277</td>\n    </tr>\n    <tr>\n      <th>1</th>\n      <td>ENST00000394249.8</td>\n      <td>1863</td>\n      <td>ENST00000394249</td>\n      <td>3</td>\n      <td>MRRSEVLAEESIVCLQKALNHLREIWELIGIPEDQRLQRTEVVKKH...</td>\n      <td>protein</td>\n      <td>None</td>\n      <td>ENSP00000377793</td>\n      <td>620</td>\n    </tr>\n    <tr>\n      <th>2</th>\n      <td>ENST00000361337.3</td>\n      <td>2298</td>\n      <td>ENST00000361337</td>\n      <td>2</td>\n      <td>MSGDHLHNDSQIEADFRLNDSHKHKDKHKDREHRHKEHKKEKDREK...</td>\n      <td>protein</td>\n      <td>None</td>\n      <td>ENSP00000354522</td>\n      <td>765</td>\n    </tr>\n    <tr>\n      <th>3</th>\n      <td>ENST00000368328.5</td>\n      <td>267</td>\n      <td>ENST00000368328</td>\n      <td>4</td>\n      <td>MALSTIVSQRKQIKRKAPRGFLKRVFKRKKPQLRLEKSGDLLVHLN...</td>\n      <td>protein</td>\n      <td>None</td>\n      <td>ENSP00000357311</td>\n      <td>88</td>\n    </tr>\n    <tr>\n      <th>4</th>\n      <td>ENST00000610426.5</td>\n      <td>783</td>\n      <td>ENST00000610426</td>\n      <td>1</td>\n      <td>MPQNEYIELHRKRYGYRLDYHEKKRKKESREAHERSKKAKKMIGLK...</td>\n      <td>protein</td>\n      <td>None</td>\n      <td>ENSP00000483484</td>\n      <td>260</td>\n    </tr>\n  </tbody>\n</table>\n</div>",
      "text/plain": "   Target Transcript  Target Total Length  Transcript Base  version  \\\n0  ENST00000259457.8                  834  ENST00000259457        3   \n1  ENST00000394249.8                 1863  ENST00000394249        3   \n2  ENST00000361337.3                 2298  ENST00000361337        2   \n3  ENST00000368328.5                  267  ENST00000368328        4   \n4  ENST00000610426.5                  783  ENST00000610426        1   \n\n                                                 seq molecule  desc  \\\n0  MAAVSVYAPPVGGFSFDNCRRNAVLEADFAKRGYKLPKVRKTGTTI...  protein  None   \n1  MRRSEVLAEESIVCLQKALNHLREIWELIGIPEDQRLQRTEVVKKH...  protein  None   \n2  MSGDHLHNDSQIEADFRLNDSHKHKDKHKDREHRHKEHKKEKDREK...  protein  None   \n3  MALSTIVSQRKQIKRKAPRGFLKRVFKRKKPQLRLEKSGDLLVHLN...  protein  None   \n4  MPQNEYIELHRKRYGYRLDYHEKKRKKESREAHERSKKAKKMIGLK...  protein  None   \n\n                id  AA len  \n0  ENSP00000259457     277  \n1  ENSP00000377793     620  \n2  ENSP00000354522     765  \n3  ENSP00000357311      88  \n4  ENSP00000483484     260  "
     },
     "execution_count": null,
     "metadata": {},
     "output_type": "execute_result"
    }
   ],
   "source": [
    "aa_seq_df = pd.read_parquet('test_data/target_data/aa_seqs.pq', engine='pyarrow',\n",
    "                            filters=[[('Transcript Base', 'in', transcript_bases)]])\n",
    "aa_seq_df.head()"
   ]
  },
  {
   "cell_type": "markdown",
   "metadata": {},
   "source": [
    "From the complete transcript translations, we extract an amino acid subsequence as input to our model.\n",
    "The subsequence is centered around the amino acid encoded by the\n",
    "nucleotide preceding the cut site in the direction of transcription.\n",
    "This is the nucleotide that corresponds to the 'Target Cut Length'\n",
    "in a CRISPick design file. We take 16 amino acids on either side of the cut site for a\n",
    "total sequence length of 33.\n",
    "\n",
    "The `get_aa_subseq_df` from the `targetfeat` module\n",
    "will calculate these subsequences from the complete amino acid sequences."
   ]
  },
  {
   "cell_type": "code",
   "execution_count": null,
   "metadata": {},
   "outputs": [
    {
     "data": {
      "text/html": "<div>\n<style scoped>\n    .dataframe tbody tr th:only-of-type {\n        vertical-align: middle;\n    }\n\n    .dataframe tbody tr th {\n        vertical-align: top;\n    }\n\n    .dataframe thead th {\n        text-align: right;\n    }\n</style>\n<table border=\"1\" class=\"dataframe\">\n  <thead>\n    <tr style=\"text-align: right;\">\n      <th></th>\n      <th>Target Transcript</th>\n      <th>Target Total Length</th>\n      <th>Transcript Base</th>\n      <th>version</th>\n      <th>seq</th>\n      <th>molecule</th>\n      <th>desc</th>\n      <th>id</th>\n      <th>AA len</th>\n      <th>Target Cut Length</th>\n      <th>sgRNA Context Sequence</th>\n      <th>Orientation</th>\n      <th>AA Index</th>\n      <th>extended_seq</th>\n      <th>AA 0-Indexed</th>\n      <th>AA 0-Indexed padded</th>\n      <th>seq_start</th>\n      <th>seq_end</th>\n      <th>AA Subsequence</th>\n    </tr>\n  </thead>\n  <tbody>\n    <tr>\n      <th>0</th>\n      <td>ENST00000259457.8</td>\n      <td>834</td>\n      <td>ENST00000259457</td>\n      <td>3</td>\n      <td>MAAVSVYAPPVGGFSFDNCRRNAVLEADFAKRGYKLPKVRKTGTTI...</td>\n      <td>protein</td>\n      <td>None</td>\n      <td>ENSP00000259457</td>\n      <td>277</td>\n      <td>191</td>\n      <td>TGGAGCAGATACAAGAGCAACTGAAGGGAT</td>\n      <td>sense</td>\n      <td>64</td>\n      <td>-----------------MAAVSVYAPPVGGFSFDNCRRNAVLEADF...</td>\n      <td>63</td>\n      <td>80</td>\n      <td>64</td>\n      <td>96</td>\n      <td>GVVYKDGIVLGADTRATEGMVVADKNCSKIHFI</td>\n    </tr>\n    <tr>\n      <th>1</th>\n      <td>ENST00000259457.8</td>\n      <td>834</td>\n      <td>ENST00000259457</td>\n      <td>3</td>\n      <td>MAAVSVYAPPVGGFSFDNCRRNAVLEADFAKRGYKLPKVRKTGTTI...</td>\n      <td>protein</td>\n      <td>None</td>\n      <td>ENSP00000259457</td>\n      <td>277</td>\n      <td>137</td>\n      <td>CCGGAAAACTGGCACGACCATCGCTGGGGT</td>\n      <td>sense</td>\n      <td>46</td>\n      <td>-----------------MAAVSVYAPPVGGFSFDNCRRNAVLEADF...</td>\n      <td>45</td>\n      <td>62</td>\n      <td>46</td>\n      <td>78</td>\n      <td>AKRGYKLPKVRKTGTTIAGVVYKDGIVLGADTR</td>\n    </tr>\n    <tr>\n      <th>2</th>\n      <td>ENST00000394249.8</td>\n      <td>1863</td>\n      <td>ENST00000394249</td>\n      <td>3</td>\n      <td>MRRSEVLAEESIVCLQKALNHLREIWELIGIPEDQRLQRTEVVKKH...</td>\n      <td>protein</td>\n      <td>None</td>\n      <td>ENSP00000377793</td>\n      <td>620</td>\n      <td>316</td>\n      <td>TAGAAAAAGATTTGCGCACCCAAGTGGAAT</td>\n      <td>sense</td>\n      <td>106</td>\n      <td>-----------------MRRSEVLAEESIVCLQKALNHLREIWELI...</td>\n      <td>105</td>\n      <td>122</td>\n      <td>106</td>\n      <td>138</td>\n      <td>EEGETTILQLEKDLRTQVELMRKQKKERKQELK</td>\n    </tr>\n    <tr>\n      <th>3</th>\n      <td>ENST00000394249.8</td>\n      <td>1863</td>\n      <td>ENST00000394249</td>\n      <td>3</td>\n      <td>MRRSEVLAEESIVCLQKALNHLREIWELIGIPEDQRLQRTEVVKKH...</td>\n      <td>protein</td>\n      <td>None</td>\n      <td>ENSP00000377793</td>\n      <td>620</td>\n      <td>787</td>\n      <td>TGGCCTTTGACCCAGACATAATGGTGGCCA</td>\n      <td>antisense</td>\n      <td>263</td>\n      <td>-----------------MRRSEVLAEESIVCLQKALNHLREIWELI...</td>\n      <td>262</td>\n      <td>279</td>\n      <td>263</td>\n      <td>295</td>\n      <td>WDRLQIPEEEREAVATIMSGSKAKVRKALQLEV</td>\n    </tr>\n    <tr>\n      <th>4</th>\n      <td>ENST00000361337.3</td>\n      <td>2298</td>\n      <td>ENST00000361337</td>\n      <td>2</td>\n      <td>MSGDHLHNDSQIEADFRLNDSHKHKDKHKDREHRHKEHKKEKDREK...</td>\n      <td>protein</td>\n      <td>None</td>\n      <td>ENSP00000354522</td>\n      <td>765</td>\n      <td>420</td>\n      <td>AAATACTCACTCATCCTCATCTCGAGGTCT</td>\n      <td>antisense</td>\n      <td>140</td>\n      <td>-----------------MSGDHLHNDSQIEADFRLNDSHKHKDKHK...</td>\n      <td>139</td>\n      <td>156</td>\n      <td>140</td>\n      <td>172</td>\n      <td>GYFVPPKEDIKPLKRPRDEDDADYKPKKIKTED</td>\n    </tr>\n  </tbody>\n</table>\n</div>",
      "text/plain": "   Target Transcript  Target Total Length  Transcript Base  version  \\\n0  ENST00000259457.8                  834  ENST00000259457        3   \n1  ENST00000259457.8                  834  ENST00000259457        3   \n2  ENST00000394249.8                 1863  ENST00000394249        3   \n3  ENST00000394249.8                 1863  ENST00000394249        3   \n4  ENST00000361337.3                 2298  ENST00000361337        2   \n\n                                                 seq molecule  desc  \\\n0  MAAVSVYAPPVGGFSFDNCRRNAVLEADFAKRGYKLPKVRKTGTTI...  protein  None   \n1  MAAVSVYAPPVGGFSFDNCRRNAVLEADFAKRGYKLPKVRKTGTTI...  protein  None   \n2  MRRSEVLAEESIVCLQKALNHLREIWELIGIPEDQRLQRTEVVKKH...  protein  None   \n3  MRRSEVLAEESIVCLQKALNHLREIWELIGIPEDQRLQRTEVVKKH...  protein  None   \n4  MSGDHLHNDSQIEADFRLNDSHKHKDKHKDREHRHKEHKKEKDREK...  protein  None   \n\n                id  AA len  Target Cut Length          sgRNA Context Sequence  \\\n0  ENSP00000259457     277                191  TGGAGCAGATACAAGAGCAACTGAAGGGAT   \n1  ENSP00000259457     277                137  CCGGAAAACTGGCACGACCATCGCTGGGGT   \n2  ENSP00000377793     620                316  TAGAAAAAGATTTGCGCACCCAAGTGGAAT   \n3  ENSP00000377793     620                787  TGGCCTTTGACCCAGACATAATGGTGGCCA   \n4  ENSP00000354522     765                420  AAATACTCACTCATCCTCATCTCGAGGTCT   \n\n  Orientation  AA Index                                       extended_seq  \\\n0       sense        64  -----------------MAAVSVYAPPVGGFSFDNCRRNAVLEADF...   \n1       sense        46  -----------------MAAVSVYAPPVGGFSFDNCRRNAVLEADF...   \n2       sense       106  -----------------MRRSEVLAEESIVCLQKALNHLREIWELI...   \n3   antisense       263  -----------------MRRSEVLAEESIVCLQKALNHLREIWELI...   \n4   antisense       140  -----------------MSGDHLHNDSQIEADFRLNDSHKHKDKHK...   \n\n   AA 0-Indexed  AA 0-Indexed padded  seq_start  seq_end  \\\n0            63                   80         64       96   \n1            45                   62         46       78   \n2           105                  122        106      138   \n3           262                  279        263      295   \n4           139                  156        140      172   \n\n                      AA Subsequence  \n0  GVVYKDGIVLGADTRATEGMVVADKNCSKIHFI  \n1  AKRGYKLPKVRKTGTTIAGVVYKDGIVLGADTR  \n2  EEGETTILQLEKDLRTQVELMRKQKKERKQELK  \n3  WDRLQIPEEEREAVATIMSGSKAKVRKALQLEV  \n4  GYFVPPKEDIKPLKRPRDEDDADYKPKKIKTED  "
     },
     "execution_count": null,
     "metadata": {},
     "output_type": "execute_result"
    }
   ],
   "source": [
    "aa_subseq_df = get_aa_subseq_df(sg_designs=design_targ_df, aa_seq_df=aa_seq_df, width=16,\n",
    "                                id_cols=id_cols)\n",
    "aa_subseq_df.head()"
   ]
  },
  {
   "cell_type": "markdown",
   "metadata": {},
   "source": [
    "The amino acid subsequence input should have a column 'AA Subsequence' as well\n",
    "as the `id_cols`. If an sgRNA cannot be associated with a translated sequence then it is okay to exclude it\n",
    "from this input."
   ]
  },
  {
   "cell_type": "markdown",
   "metadata": {},
   "source": [
    "#### Lite Scores\n",
    "\n",
    "You now have\n",
    "all the information you need to calculate \"lite\" Target Scores, which are less data intensive,\n",
    "with the `predict_target` function from the\n",
    "`predicttarg` module."
   ]
  },
  {
   "cell_type": "code",
   "execution_count": null,
   "metadata": {},
   "outputs": [
    {
     "name": "stderr",
     "output_type": "stream",
     "text": [
      "/Users/pdeweird/opt/anaconda3/envs/rs3/lib/python3.8/site-packages/sklearn/base.py:310: UserWarning: Trying to unpickle estimator SimpleImputer from version 1.0.dev0 when using version 0.24.2. This might lead to breaking code or invalid results. Use at your own risk.\n",
      "  warnings.warn(\n",
      "/Users/pdeweird/opt/anaconda3/envs/rs3/lib/python3.8/site-packages/sklearn/base.py:310: UserWarning: Trying to unpickle estimator Pipeline from version 1.0.dev0 when using version 0.24.2. This might lead to breaking code or invalid results. Use at your own risk.\n",
      "  warnings.warn(\n"
     ]
    },
    {
     "data": {
      "text/html": "<div>\n<style scoped>\n    .dataframe tbody tr th:only-of-type {\n        vertical-align: middle;\n    }\n\n    .dataframe tbody tr th {\n        vertical-align: top;\n    }\n\n    .dataframe thead th {\n        text-align: right;\n    }\n</style>\n<table border=\"1\" class=\"dataframe\">\n  <thead>\n    <tr style=\"text-align: right;\">\n      <th></th>\n      <th>Input</th>\n      <th>Quota</th>\n      <th>Target Taxon</th>\n      <th>Target Gene ID</th>\n      <th>Target Gene Symbol</th>\n      <th>Target Transcript</th>\n      <th>Target Reference Coords</th>\n      <th>Target Alias</th>\n      <th>CRISPR Mechanism</th>\n      <th>Target Domain</th>\n      <th>...</th>\n      <th>Off-Target Rank Weight</th>\n      <th>Combined Rank</th>\n      <th>Preselected As</th>\n      <th>Matching Active Arrayed Oligos</th>\n      <th>Matching Arrayed Constructs</th>\n      <th>Pools Containing Matching Construct</th>\n      <th>Pick Order</th>\n      <th>Picking Round</th>\n      <th>Picking Notes</th>\n      <th>Target Score Lite</th>\n    </tr>\n  </thead>\n  <tbody>\n    <tr>\n      <th>0</th>\n      <td>PSMB7</td>\n      <td>2</td>\n      <td>9606</td>\n      <td>ENSG00000136930</td>\n      <td>PSMB7</td>\n      <td>ENST00000259457.8</td>\n      <td>NaN</td>\n      <td>NaN</td>\n      <td>CRISPRko</td>\n      <td>CDS</td>\n      <td>...</td>\n      <td>1.0</td>\n      <td>7</td>\n      <td>GCAGATACAAGAGCAACTGA</td>\n      <td>NaN</td>\n      <td>BRDN0004619103</td>\n      <td>NaN</td>\n      <td>1</td>\n      <td>0</td>\n      <td>Preselected</td>\n      <td>0.012467</td>\n    </tr>\n    <tr>\n      <th>1</th>\n      <td>PSMB7</td>\n      <td>2</td>\n      <td>9606</td>\n      <td>ENSG00000136930</td>\n      <td>PSMB7</td>\n      <td>ENST00000259457.8</td>\n      <td>NaN</td>\n      <td>NaN</td>\n      <td>CRISPRko</td>\n      <td>CDS</td>\n      <td>...</td>\n      <td>1.0</td>\n      <td>48</td>\n      <td>AAAACTGGCACGACCATCGC</td>\n      <td>NaN</td>\n      <td>NaN</td>\n      <td>NaN</td>\n      <td>2</td>\n      <td>0</td>\n      <td>Preselected</td>\n      <td>0.048338</td>\n    </tr>\n    <tr>\n      <th>2</th>\n      <td>PRC1</td>\n      <td>2</td>\n      <td>9606</td>\n      <td>ENSG00000198901</td>\n      <td>PRC1</td>\n      <td>ENST00000394249.8</td>\n      <td>NaN</td>\n      <td>NaN</td>\n      <td>CRISPRko</td>\n      <td>CDS</td>\n      <td>...</td>\n      <td>1.0</td>\n      <td>7</td>\n      <td>AAAAGATTTGCGCACCCAAG</td>\n      <td>NaN</td>\n      <td>NaN</td>\n      <td>NaN</td>\n      <td>1</td>\n      <td>0</td>\n      <td>Preselected</td>\n      <td>-0.129234</td>\n    </tr>\n    <tr>\n      <th>3</th>\n      <td>PRC1</td>\n      <td>2</td>\n      <td>9606</td>\n      <td>ENSG00000198901</td>\n      <td>PRC1</td>\n      <td>ENST00000394249.8</td>\n      <td>NaN</td>\n      <td>NaN</td>\n      <td>CRISPRko</td>\n      <td>CDS</td>\n      <td>...</td>\n      <td>1.0</td>\n      <td>8</td>\n      <td>CTTTGACCCAGACATAATGG</td>\n      <td>NaN</td>\n      <td>NaN</td>\n      <td>NaN</td>\n      <td>2</td>\n      <td>0</td>\n      <td>Preselected</td>\n      <td>0.061647</td>\n    </tr>\n    <tr>\n      <th>4</th>\n      <td>TOP1</td>\n      <td>2</td>\n      <td>9606</td>\n      <td>ENSG00000198900</td>\n      <td>TOP1</td>\n      <td>ENST00000361337.3</td>\n      <td>NaN</td>\n      <td>NaN</td>\n      <td>CRISPRko</td>\n      <td>CDS</td>\n      <td>...</td>\n      <td>1.0</td>\n      <td>1</td>\n      <td>NaN</td>\n      <td>NaN</td>\n      <td>BRDN0001486452</td>\n      <td>NaN</td>\n      <td>2</td>\n      <td>1</td>\n      <td>NaN</td>\n      <td>-0.009100</td>\n    </tr>\n  </tbody>\n</table>\n<p>5 rows × 61 columns</p>\n</div>",
      "text/plain": "   Input  Quota  Target Taxon   Target Gene ID Target Gene Symbol  \\\n0  PSMB7      2          9606  ENSG00000136930              PSMB7   \n1  PSMB7      2          9606  ENSG00000136930              PSMB7   \n2   PRC1      2          9606  ENSG00000198901               PRC1   \n3   PRC1      2          9606  ENSG00000198901               PRC1   \n4   TOP1      2          9606  ENSG00000198900               TOP1   \n\n   Target Transcript  Target Reference Coords  Target Alias CRISPR Mechanism  \\\n0  ENST00000259457.8                      NaN           NaN         CRISPRko   \n1  ENST00000259457.8                      NaN           NaN         CRISPRko   \n2  ENST00000394249.8                      NaN           NaN         CRISPRko   \n3  ENST00000394249.8                      NaN           NaN         CRISPRko   \n4  ENST00000361337.3                      NaN           NaN         CRISPRko   \n\n  Target Domain  ... Off-Target Rank Weight Combined Rank  \\\n0           CDS  ...                    1.0             7   \n1           CDS  ...                    1.0            48   \n2           CDS  ...                    1.0             7   \n3           CDS  ...                    1.0             8   \n4           CDS  ...                    1.0             1   \n\n         Preselected As  Matching Active Arrayed Oligos  \\\n0  GCAGATACAAGAGCAACTGA                             NaN   \n1  AAAACTGGCACGACCATCGC                             NaN   \n2  AAAAGATTTGCGCACCCAAG                             NaN   \n3  CTTTGACCCAGACATAATGG                             NaN   \n4                   NaN                             NaN   \n\n   Matching Arrayed Constructs  Pools Containing Matching Construct  \\\n0               BRDN0004619103                                  NaN   \n1                          NaN                                  NaN   \n2                          NaN                                  NaN   \n3                          NaN                                  NaN   \n4               BRDN0001486452                                  NaN   \n\n   Pick Order Picking Round Picking Notes Target Score Lite  \n0           1             0   Preselected          0.012467  \n1           2             0   Preselected          0.048338  \n2           1             0   Preselected         -0.129234  \n3           2             0   Preselected          0.061647  \n4           2             1           NaN         -0.009100  \n\n[5 rows x 61 columns]"
     },
     "execution_count": null,
     "metadata": {},
     "output_type": "execute_result"
    }
   ],
   "source": [
    "lite_predictions = predict_target(design_df=design_df,\n",
    "                                  aa_subseq_df=aa_subseq_df)\n",
    "design_df['Target Score Lite'] = lite_predictions\n",
    "design_df.head()"
   ]
  },
  {
   "cell_type": "markdown",
   "metadata": {},
   "source": [
    "If you would like to calculate full target scores then follow the sections below.\n",
    "\n",
    "#### Protein domain input\n",
    "\n",
    "To calculate full target scores you will also need inputs for protein domains\n",
    "and conservation.\n",
    "\n",
    "The protein domain input should have 16 binary columns for 16 different\n",
    "protein domain sources in addition to the `id_cols`. The protein\n",
    "domain sources are 'Pfam', 'PANTHER', 'HAMAP', 'SuperFamily', 'TIGRfam', 'ncoils', 'Gene3D',\n",
    "'Prosite_patterns', 'Seg', 'SignalP', 'TMHMM', 'MobiDBLite',\n",
    "'PIRSF', 'PRINTS', 'Smart', 'Prosite_profiles'. These columns should be kept in order\n",
    "when inputting for scoring.\n",
    "\n",
    "In this example we will load the protein domain information from a parquet file, which\n",
    "was written using `write_transcript_data` function in the `targetdata` module.\n",
    "You can also query transcript data on the fly, by using the `build_translation_overlap_df`\n",
    "function. See the documentation for the `predicttarg` module for more information on how to do this."
   ]
  },
  {
   "cell_type": "code",
   "execution_count": null,
   "metadata": {},
   "outputs": [
    {
     "data": {
      "text/html": "<div>\n<style scoped>\n    .dataframe tbody tr th:only-of-type {\n        vertical-align: middle;\n    }\n\n    .dataframe tbody tr th {\n        vertical-align: top;\n    }\n\n    .dataframe thead th {\n        text-align: right;\n    }\n</style>\n<table border=\"1\" class=\"dataframe\">\n  <thead>\n    <tr style=\"text-align: right;\">\n      <th></th>\n      <th>type</th>\n      <th>cigar_string</th>\n      <th>id</th>\n      <th>hit_end</th>\n      <th>feature_type</th>\n      <th>description</th>\n      <th>seq_region_name</th>\n      <th>end</th>\n      <th>hit_start</th>\n      <th>translation_id</th>\n      <th>interpro</th>\n      <th>hseqname</th>\n      <th>Transcript Base</th>\n      <th>align_type</th>\n      <th>start</th>\n    </tr>\n  </thead>\n  <tbody>\n    <tr>\n      <th>0</th>\n      <td>Pfam</td>\n      <td></td>\n      <td>PF12465</td>\n      <td>36</td>\n      <td>protein_feature</td>\n      <td>Proteasome beta subunit, C-terminal</td>\n      <td>ENSP00000259457</td>\n      <td>271</td>\n      <td>1</td>\n      <td>976188</td>\n      <td>IPR024689</td>\n      <td>PF12465</td>\n      <td>ENST00000259457</td>\n      <td>None</td>\n      <td>235</td>\n    </tr>\n    <tr>\n      <th>1</th>\n      <td>Pfam</td>\n      <td></td>\n      <td>PF00227</td>\n      <td>190</td>\n      <td>protein_feature</td>\n      <td>Proteasome, subunit alpha/beta</td>\n      <td>ENSP00000259457</td>\n      <td>221</td>\n      <td>2</td>\n      <td>976188</td>\n      <td>IPR001353</td>\n      <td>PF00227</td>\n      <td>ENST00000259457</td>\n      <td>None</td>\n      <td>41</td>\n    </tr>\n    <tr>\n      <th>2</th>\n      <td>PRINTS</td>\n      <td></td>\n      <td>PR00141</td>\n      <td>0</td>\n      <td>protein_feature</td>\n      <td>Peptidase T1A, proteasome beta-subunit</td>\n      <td>ENSP00000259457</td>\n      <td>66</td>\n      <td>0</td>\n      <td>976188</td>\n      <td>IPR000243</td>\n      <td>PR00141</td>\n      <td>ENST00000259457</td>\n      <td>None</td>\n      <td>51</td>\n    </tr>\n    <tr>\n      <th>3</th>\n      <td>PRINTS</td>\n      <td></td>\n      <td>PR00141</td>\n      <td>0</td>\n      <td>protein_feature</td>\n      <td>Peptidase T1A, proteasome beta-subunit</td>\n      <td>ENSP00000259457</td>\n      <td>182</td>\n      <td>0</td>\n      <td>976188</td>\n      <td>IPR000243</td>\n      <td>PR00141</td>\n      <td>ENST00000259457</td>\n      <td>None</td>\n      <td>171</td>\n    </tr>\n    <tr>\n      <th>4</th>\n      <td>PRINTS</td>\n      <td></td>\n      <td>PR00141</td>\n      <td>0</td>\n      <td>protein_feature</td>\n      <td>Peptidase T1A, proteasome beta-subunit</td>\n      <td>ENSP00000259457</td>\n      <td>193</td>\n      <td>0</td>\n      <td>976188</td>\n      <td>IPR000243</td>\n      <td>PR00141</td>\n      <td>ENST00000259457</td>\n      <td>None</td>\n      <td>182</td>\n    </tr>\n  </tbody>\n</table>\n</div>",
      "text/plain": "     type cigar_string       id  hit_end     feature_type  \\\n0    Pfam               PF12465       36  protein_feature   \n1    Pfam               PF00227      190  protein_feature   \n2  PRINTS               PR00141        0  protein_feature   \n3  PRINTS               PR00141        0  protein_feature   \n4  PRINTS               PR00141        0  protein_feature   \n\n                              description  seq_region_name  end  hit_start  \\\n0     Proteasome beta subunit, C-terminal  ENSP00000259457  271          1   \n1          Proteasome, subunit alpha/beta  ENSP00000259457  221          2   \n2  Peptidase T1A, proteasome beta-subunit  ENSP00000259457   66          0   \n3  Peptidase T1A, proteasome beta-subunit  ENSP00000259457  182          0   \n4  Peptidase T1A, proteasome beta-subunit  ENSP00000259457  193          0   \n\n   translation_id   interpro hseqname  Transcript Base align_type  start  \n0          976188  IPR024689  PF12465  ENST00000259457       None    235  \n1          976188  IPR001353  PF00227  ENST00000259457       None     41  \n2          976188  IPR000243  PR00141  ENST00000259457       None     51  \n3          976188  IPR000243  PR00141  ENST00000259457       None    171  \n4          976188  IPR000243  PR00141  ENST00000259457       None    182  "
     },
     "execution_count": null,
     "metadata": {},
     "output_type": "execute_result"
    }
   ],
   "source": [
    "domain_df = pd.read_parquet('test_data/target_data/protein_domains.pq', engine='pyarrow',\n",
    "                            filters=[[('Transcript Base', 'in', transcript_bases)]])\n",
    "domain_df.head()"
   ]
  },
  {
   "cell_type": "markdown",
   "metadata": {},
   "source": [
    "Now to transform the `domain_df` into a wide form for model input, we use the `get_protein_domain_features`\n",
    "function from the `targetfeat` module."
   ]
  },
  {
   "cell_type": "code",
   "execution_count": null,
   "metadata": {},
   "outputs": [
    {
     "data": {
      "text/html": "<div>\n<style scoped>\n    .dataframe tbody tr th:only-of-type {\n        vertical-align: middle;\n    }\n\n    .dataframe tbody tr th {\n        vertical-align: top;\n    }\n\n    .dataframe thead th {\n        text-align: right;\n    }\n</style>\n<table border=\"1\" class=\"dataframe\">\n  <thead>\n    <tr style=\"text-align: right;\">\n      <th></th>\n      <th>sgRNA Context Sequence</th>\n      <th>Target Cut Length</th>\n      <th>Target Transcript</th>\n      <th>Orientation</th>\n      <th>Pfam</th>\n      <th>PANTHER</th>\n      <th>HAMAP</th>\n      <th>SuperFamily</th>\n      <th>TIGRfam</th>\n      <th>ncoils</th>\n      <th>Gene3D</th>\n      <th>Prosite_patterns</th>\n      <th>Seg</th>\n      <th>SignalP</th>\n      <th>TMHMM</th>\n      <th>MobiDBLite</th>\n      <th>PIRSF</th>\n      <th>PRINTS</th>\n      <th>Smart</th>\n      <th>Prosite_profiles</th>\n    </tr>\n  </thead>\n  <tbody>\n    <tr>\n      <th>0</th>\n      <td>AAAAGAATGATGAAAAGACACCACAGGGAG</td>\n      <td>244</td>\n      <td>ENST00000610426.5</td>\n      <td>sense</td>\n      <td>1</td>\n      <td>1</td>\n      <td>0</td>\n      <td>0</td>\n      <td>0</td>\n      <td>0</td>\n      <td>0</td>\n      <td>0</td>\n      <td>0</td>\n      <td>0</td>\n      <td>0</td>\n      <td>0</td>\n      <td>0</td>\n      <td>0</td>\n      <td>0</td>\n      <td>0</td>\n    </tr>\n    <tr>\n      <th>1</th>\n      <td>AAAAGAGCCATGAATCTAAACATCAGGAAT</td>\n      <td>640</td>\n      <td>ENST00000223073.6</td>\n      <td>sense</td>\n      <td>0</td>\n      <td>1</td>\n      <td>0</td>\n      <td>0</td>\n      <td>0</td>\n      <td>1</td>\n      <td>0</td>\n      <td>0</td>\n      <td>1</td>\n      <td>0</td>\n      <td>0</td>\n      <td>1</td>\n      <td>0</td>\n      <td>0</td>\n      <td>0</td>\n      <td>0</td>\n    </tr>\n    <tr>\n      <th>2</th>\n      <td>AAAAGCGCCAAATGGCCCGAGAATTGGGAG</td>\n      <td>709</td>\n      <td>ENST00000331923.9</td>\n      <td>sense</td>\n      <td>0</td>\n      <td>1</td>\n      <td>0</td>\n      <td>0</td>\n      <td>0</td>\n      <td>0</td>\n      <td>0</td>\n      <td>0</td>\n      <td>0</td>\n      <td>0</td>\n      <td>0</td>\n      <td>1</td>\n      <td>0</td>\n      <td>0</td>\n      <td>0</td>\n      <td>0</td>\n    </tr>\n    <tr>\n      <th>3</th>\n      <td>AAACAGAAAAAGTTAAAATCACCAAGGTGT</td>\n      <td>496</td>\n      <td>ENST00000283882.4</td>\n      <td>sense</td>\n      <td>0</td>\n      <td>1</td>\n      <td>0</td>\n      <td>0</td>\n      <td>0</td>\n      <td>0</td>\n      <td>0</td>\n      <td>0</td>\n      <td>0</td>\n      <td>0</td>\n      <td>0</td>\n      <td>0</td>\n      <td>0</td>\n      <td>0</td>\n      <td>0</td>\n      <td>0</td>\n    </tr>\n    <tr>\n      <th>4</th>\n      <td>AAACAGATGGAAGATGCTTACCGGGGGACC</td>\n      <td>132</td>\n      <td>ENST00000393047.8</td>\n      <td>sense</td>\n      <td>0</td>\n      <td>1</td>\n      <td>0</td>\n      <td>0</td>\n      <td>0</td>\n      <td>0</td>\n      <td>0</td>\n      <td>0</td>\n      <td>0</td>\n      <td>0</td>\n      <td>0</td>\n      <td>0</td>\n      <td>0</td>\n      <td>0</td>\n      <td>0</td>\n      <td>0</td>\n    </tr>\n  </tbody>\n</table>\n</div>",
      "text/plain": "           sgRNA Context Sequence  Target Cut Length  Target Transcript  \\\n0  AAAAGAATGATGAAAAGACACCACAGGGAG                244  ENST00000610426.5   \n1  AAAAGAGCCATGAATCTAAACATCAGGAAT                640  ENST00000223073.6   \n2  AAAAGCGCCAAATGGCCCGAGAATTGGGAG                709  ENST00000331923.9   \n3  AAACAGAAAAAGTTAAAATCACCAAGGTGT                496  ENST00000283882.4   \n4  AAACAGATGGAAGATGCTTACCGGGGGACC                132  ENST00000393047.8   \n\n  Orientation  Pfam  PANTHER  HAMAP  SuperFamily  TIGRfam  ncoils  Gene3D  \\\n0       sense     1        1      0            0        0       0       0   \n1       sense     0        1      0            0        0       1       0   \n2       sense     0        1      0            0        0       0       0   \n3       sense     0        1      0            0        0       0       0   \n4       sense     0        1      0            0        0       0       0   \n\n   Prosite_patterns  Seg  SignalP  TMHMM  MobiDBLite  PIRSF  PRINTS  Smart  \\\n0                 0    0        0      0           0      0       0      0   \n1                 0    1        0      0           1      0       0      0   \n2                 0    0        0      0           1      0       0      0   \n3                 0    0        0      0           0      0       0      0   \n4                 0    0        0      0           0      0       0      0   \n\n   Prosite_profiles  \n0                 0  \n1                 0  \n2                 0  \n3                 0  \n4                 0  "
     },
     "execution_count": null,
     "metadata": {},
     "output_type": "execute_result"
    }
   ],
   "source": [
    "domain_feature_df = get_protein_domain_features(design_targ_df, domain_df, id_cols=id_cols)\n",
    "domain_feature_df.head()"
   ]
  },
  {
   "cell_type": "markdown",
   "metadata": {},
   "source": [
    "For input into the `predict_target` function, the `domain_feature_df` should have\n",
    "the `id_cols` as well as columns for each of the 16 protein domain features."
   ]
  },
  {
   "cell_type": "markdown",
   "metadata": {},
   "source": [
    "#### Conservation input\n",
    "\n",
    "Finally, for the full target model you need to calculate conservation features. The conservation features\n",
    "represent conservation across evolutionary time at the sgRNA cut site and are\n",
    "quantified using PhyloP scores. These scores are available for download\n",
    "by the UCSC genome browser for [hg38](https://hgdownload.soe.ucsc.edu/goldenPath/hg38/database/)\n",
    "(phyloP100way), and [mm39](https://hgdownload.soe.ucsc.edu/goldenPath/mm39/database/)\n",
    "(phyloP35way).\n",
    "\n",
    "Within this package we query conservation scores using the UCSC genome browser's\n",
    "[REST API](http://genome.ucsc.edu/goldenPath/help/api.html). To get conservation scores, you can use the `build_conservation_df`\n",
    "function from the `targetdata` module. Here we load conservation scores, which were written\n",
    "to parquet using the `write_conservation_data` function from the `targetdata`\n",
    "module."
   ]
  },
  {
   "cell_type": "code",
   "execution_count": null,
   "metadata": {},
   "outputs": [
    {
     "data": {
      "text/html": "<div>\n<style scoped>\n    .dataframe tbody tr th:only-of-type {\n        vertical-align: middle;\n    }\n\n    .dataframe tbody tr th {\n        vertical-align: top;\n    }\n\n    .dataframe thead th {\n        text-align: right;\n    }\n</style>\n<table border=\"1\" class=\"dataframe\">\n  <thead>\n    <tr style=\"text-align: right;\">\n      <th></th>\n      <th>exon_id</th>\n      <th>genomic position</th>\n      <th>conservation</th>\n      <th>Transcript Base</th>\n      <th>target position</th>\n      <th>chromosome</th>\n      <th>genome</th>\n      <th>translation length</th>\n      <th>Target Transcript</th>\n      <th>Strand of Target</th>\n      <th>Target Total Length</th>\n      <th>ranked_conservation</th>\n    </tr>\n  </thead>\n  <tbody>\n    <tr>\n      <th>0</th>\n      <td>ENSE00001866322</td>\n      <td>124415425.0</td>\n      <td>6.46189</td>\n      <td>ENST00000259457</td>\n      <td>1</td>\n      <td>9</td>\n      <td>hg38</td>\n      <td>277</td>\n      <td>ENST00000259457.8</td>\n      <td>-</td>\n      <td>834</td>\n      <td>0.639089</td>\n    </tr>\n    <tr>\n      <th>1</th>\n      <td>ENSE00001866322</td>\n      <td>124415424.0</td>\n      <td>7.48071</td>\n      <td>ENST00000259457</td>\n      <td>2</td>\n      <td>9</td>\n      <td>hg38</td>\n      <td>277</td>\n      <td>ENST00000259457.8</td>\n      <td>-</td>\n      <td>834</td>\n      <td>0.686451</td>\n    </tr>\n    <tr>\n      <th>2</th>\n      <td>ENSE00001866322</td>\n      <td>124415423.0</td>\n      <td>6.36001</td>\n      <td>ENST00000259457</td>\n      <td>3</td>\n      <td>9</td>\n      <td>hg38</td>\n      <td>277</td>\n      <td>ENST00000259457.8</td>\n      <td>-</td>\n      <td>834</td>\n      <td>0.622902</td>\n    </tr>\n    <tr>\n      <th>3</th>\n      <td>ENSE00001866322</td>\n      <td>124415422.0</td>\n      <td>6.36001</td>\n      <td>ENST00000259457</td>\n      <td>4</td>\n      <td>9</td>\n      <td>hg38</td>\n      <td>277</td>\n      <td>ENST00000259457.8</td>\n      <td>-</td>\n      <td>834</td>\n      <td>0.622902</td>\n    </tr>\n    <tr>\n      <th>4</th>\n      <td>ENSE00001866322</td>\n      <td>124415421.0</td>\n      <td>8.09200</td>\n      <td>ENST00000259457</td>\n      <td>5</td>\n      <td>9</td>\n      <td>hg38</td>\n      <td>277</td>\n      <td>ENST00000259457.8</td>\n      <td>-</td>\n      <td>834</td>\n      <td>0.870504</td>\n    </tr>\n  </tbody>\n</table>\n</div>",
      "text/plain": "           exon_id  genomic position  conservation  Transcript Base  \\\n0  ENSE00001866322       124415425.0       6.46189  ENST00000259457   \n1  ENSE00001866322       124415424.0       7.48071  ENST00000259457   \n2  ENSE00001866322       124415423.0       6.36001  ENST00000259457   \n3  ENSE00001866322       124415422.0       6.36001  ENST00000259457   \n4  ENSE00001866322       124415421.0       8.09200  ENST00000259457   \n\n   target position chromosome genome  translation length  Target Transcript  \\\n0                1          9   hg38                 277  ENST00000259457.8   \n1                2          9   hg38                 277  ENST00000259457.8   \n2                3          9   hg38                 277  ENST00000259457.8   \n3                4          9   hg38                 277  ENST00000259457.8   \n4                5          9   hg38                 277  ENST00000259457.8   \n\n  Strand of Target  Target Total Length  ranked_conservation  \n0                -                  834             0.639089  \n1                -                  834             0.686451  \n2                -                  834             0.622902  \n3                -                  834             0.622902  \n4                -                  834             0.870504  "
     },
     "execution_count": null,
     "metadata": {},
     "output_type": "execute_result"
    }
   ],
   "source": [
    "conservation_df = pd.read_parquet('test_data/target_data/conservation.pq', engine='pyarrow',\n",
    "                                  filters=[[('Transcript Base', 'in', transcript_bases)]])\n",
    "conservation_df.head()"
   ]
  },
  {
   "cell_type": "markdown",
   "metadata": {},
   "source": [
    "We normalize conservation scores to a within-gene percent rank, in the 'ranked_conservation' column,\n",
    "in order to make scores comparable across genes and genomes. Note that a rank of 0 indicates the least conserved\n",
    "nucleotide and a rank of 1 indicates the most conserved.\n",
    "\n",
    "To featurize the conservation scores, we average across a window of 4 and 32 nucleotides\n",
    "centered around the nucleotide preceding the cut site in the direction of transcription. Note that this nucleotide\n",
    "is the 2nd nucleotide in the window of four and the 16th nucleotide in the window\n",
    "of 32.\n",
    "\n",
    "We use the `get_conservation_features` function from the `targetfeat` module to\n",
    "get these features from the `conservation_df`.\n",
    "\n",
    "For the `predict_targ` function, we need the `id_cols` and the columns 'cons_4' and 'cons_32'\n",
    "in the `conservation_feature_df`."
   ]
  },
  {
   "cell_type": "code",
   "execution_count": null,
   "metadata": {},
   "outputs": [
    {
     "data": {
      "text/html": "<div>\n<style scoped>\n    .dataframe tbody tr th:only-of-type {\n        vertical-align: middle;\n    }\n\n    .dataframe tbody tr th {\n        vertical-align: top;\n    }\n\n    .dataframe thead th {\n        text-align: right;\n    }\n</style>\n<table border=\"1\" class=\"dataframe\">\n  <thead>\n    <tr style=\"text-align: right;\">\n      <th></th>\n      <th>sgRNA Context Sequence</th>\n      <th>Target Cut Length</th>\n      <th>Target Transcript</th>\n      <th>Orientation</th>\n      <th>cons_4</th>\n      <th>cons_32</th>\n    </tr>\n  </thead>\n  <tbody>\n    <tr>\n      <th>0</th>\n      <td>AAAAGAATGATGAAAAGACACCACAGGGAG</td>\n      <td>244</td>\n      <td>ENST00000610426.5</td>\n      <td>sense</td>\n      <td>0.218231</td>\n      <td>0.408844</td>\n    </tr>\n    <tr>\n      <th>1</th>\n      <td>AAAAGAGCCATGAATCTAAACATCAGGAAT</td>\n      <td>640</td>\n      <td>ENST00000223073.6</td>\n      <td>sense</td>\n      <td>0.129825</td>\n      <td>0.278180</td>\n    </tr>\n    <tr>\n      <th>2</th>\n      <td>AAAAGCGCCAAATGGCCCGAGAATTGGGAG</td>\n      <td>709</td>\n      <td>ENST00000331923.9</td>\n      <td>sense</td>\n      <td>0.470906</td>\n      <td>0.532305</td>\n    </tr>\n    <tr>\n      <th>3</th>\n      <td>AAACAGAAAAAGTTAAAATCACCAAGGTGT</td>\n      <td>496</td>\n      <td>ENST00000283882.4</td>\n      <td>sense</td>\n      <td>0.580556</td>\n      <td>0.602708</td>\n    </tr>\n    <tr>\n      <th>4</th>\n      <td>AAACAGATGGAAGATGCTTACCGGGGGACC</td>\n      <td>132</td>\n      <td>ENST00000393047.8</td>\n      <td>sense</td>\n      <td>0.283447</td>\n      <td>0.414293</td>\n    </tr>\n    <tr>\n      <th>...</th>\n      <td>...</td>\n      <td>...</td>\n      <td>...</td>\n      <td>...</td>\n      <td>...</td>\n      <td>...</td>\n    </tr>\n    <tr>\n      <th>395</th>\n      <td>TTTGATTGCATTAAGGTTGGACTCTGGATT</td>\n      <td>246</td>\n      <td>ENST00000249269.9</td>\n      <td>sense</td>\n      <td>0.580612</td>\n      <td>0.618707</td>\n    </tr>\n    <tr>\n      <th>396</th>\n      <td>TTTGCCCACAGCTCCAAAGCATCGCGGAGA</td>\n      <td>130</td>\n      <td>ENST00000227618.8</td>\n      <td>sense</td>\n      <td>0.323770</td>\n      <td>0.416368</td>\n    </tr>\n    <tr>\n      <th>397</th>\n      <td>TTTTACAGTGCGATGTATGATGTATGGCTT</td>\n      <td>119</td>\n      <td>ENST00000338366.6</td>\n      <td>sense</td>\n      <td>0.788000</td>\n      <td>0.537417</td>\n    </tr>\n    <tr>\n      <th>398</th>\n      <td>TTTTGGATCTCGTAGTGATTCAAGAGGGAA</td>\n      <td>233</td>\n      <td>ENST00000629496.3</td>\n      <td>sense</td>\n      <td>0.239630</td>\n      <td>0.347615</td>\n    </tr>\n    <tr>\n      <th>399</th>\n      <td>TTTTTGTTACTACAGGTTCGCTGCTGGGAA</td>\n      <td>201</td>\n      <td>ENST00000395840.6</td>\n      <td>sense</td>\n      <td>0.693767</td>\n      <td>0.639044</td>\n    </tr>\n  </tbody>\n</table>\n<p>400 rows × 6 columns</p>\n</div>",
      "text/plain": "             sgRNA Context Sequence  Target Cut Length  Target Transcript  \\\n0    AAAAGAATGATGAAAAGACACCACAGGGAG                244  ENST00000610426.5   \n1    AAAAGAGCCATGAATCTAAACATCAGGAAT                640  ENST00000223073.6   \n2    AAAAGCGCCAAATGGCCCGAGAATTGGGAG                709  ENST00000331923.9   \n3    AAACAGAAAAAGTTAAAATCACCAAGGTGT                496  ENST00000283882.4   \n4    AAACAGATGGAAGATGCTTACCGGGGGACC                132  ENST00000393047.8   \n..                              ...                ...                ...   \n395  TTTGATTGCATTAAGGTTGGACTCTGGATT                246  ENST00000249269.9   \n396  TTTGCCCACAGCTCCAAAGCATCGCGGAGA                130  ENST00000227618.8   \n397  TTTTACAGTGCGATGTATGATGTATGGCTT                119  ENST00000338366.6   \n398  TTTTGGATCTCGTAGTGATTCAAGAGGGAA                233  ENST00000629496.3   \n399  TTTTTGTTACTACAGGTTCGCTGCTGGGAA                201  ENST00000395840.6   \n\n    Orientation    cons_4   cons_32  \n0         sense  0.218231  0.408844  \n1         sense  0.129825  0.278180  \n2         sense  0.470906  0.532305  \n3         sense  0.580556  0.602708  \n4         sense  0.283447  0.414293  \n..          ...       ...       ...  \n395       sense  0.580612  0.618707  \n396       sense  0.323770  0.416368  \n397       sense  0.788000  0.537417  \n398       sense  0.239630  0.347615  \n399       sense  0.693767  0.639044  \n\n[400 rows x 6 columns]"
     },
     "execution_count": null,
     "metadata": {},
     "output_type": "execute_result"
    }
   ],
   "source": [
    "conservation_feature_df = get_conservation_features(design_targ_df, conservation_df,\n",
    "                                                    small_width=2, large_width=16,\n",
    "                                                    conservation_column='ranked_conservation',\n",
    "                                                    id_cols=id_cols)\n",
    "conservation_feature_df"
   ]
  },
  {
   "cell_type": "markdown",
   "metadata": {},
   "source": [
    "#### Full Target Scores\n",
    "\n",
    "In order to calculate Target Scores you must input the feature matrices\n",
    "and `design_df` to the `predict_target` function from the\n",
    "`predicttarg` module."
   ]
  },
  {
   "cell_type": "code",
   "execution_count": null,
   "metadata": {},
   "outputs": [
    {
     "name": "stderr",
     "output_type": "stream",
     "text": [
      "/Users/pdeweird/opt/anaconda3/envs/rs3/lib/python3.8/site-packages/sklearn/base.py:310: UserWarning: Trying to unpickle estimator SimpleImputer from version 1.0.dev0 when using version 0.24.2. This might lead to breaking code or invalid results. Use at your own risk.\n",
      "  warnings.warn(\n",
      "/Users/pdeweird/opt/anaconda3/envs/rs3/lib/python3.8/site-packages/sklearn/base.py:310: UserWarning: Trying to unpickle estimator Pipeline from version 1.0.dev0 when using version 0.24.2. This might lead to breaking code or invalid results. Use at your own risk.\n",
      "  warnings.warn(\n"
     ]
    },
    {
     "data": {
      "text/html": "<div>\n<style scoped>\n    .dataframe tbody tr th:only-of-type {\n        vertical-align: middle;\n    }\n\n    .dataframe tbody tr th {\n        vertical-align: top;\n    }\n\n    .dataframe thead th {\n        text-align: right;\n    }\n</style>\n<table border=\"1\" class=\"dataframe\">\n  <thead>\n    <tr style=\"text-align: right;\">\n      <th></th>\n      <th>Input</th>\n      <th>Quota</th>\n      <th>Target Taxon</th>\n      <th>Target Gene ID</th>\n      <th>Target Gene Symbol</th>\n      <th>Target Transcript</th>\n      <th>Target Reference Coords</th>\n      <th>Target Alias</th>\n      <th>CRISPR Mechanism</th>\n      <th>Target Domain</th>\n      <th>...</th>\n      <th>Combined Rank</th>\n      <th>Preselected As</th>\n      <th>Matching Active Arrayed Oligos</th>\n      <th>Matching Arrayed Constructs</th>\n      <th>Pools Containing Matching Construct</th>\n      <th>Pick Order</th>\n      <th>Picking Round</th>\n      <th>Picking Notes</th>\n      <th>Target Score Lite</th>\n      <th>Target Score</th>\n    </tr>\n  </thead>\n  <tbody>\n    <tr>\n      <th>0</th>\n      <td>PSMB7</td>\n      <td>2</td>\n      <td>9606</td>\n      <td>ENSG00000136930</td>\n      <td>PSMB7</td>\n      <td>ENST00000259457.8</td>\n      <td>NaN</td>\n      <td>NaN</td>\n      <td>CRISPRko</td>\n      <td>CDS</td>\n      <td>...</td>\n      <td>7</td>\n      <td>GCAGATACAAGAGCAACTGA</td>\n      <td>NaN</td>\n      <td>BRDN0004619103</td>\n      <td>NaN</td>\n      <td>1</td>\n      <td>0</td>\n      <td>Preselected</td>\n      <td>0.012467</td>\n      <td>0.152037</td>\n    </tr>\n    <tr>\n      <th>1</th>\n      <td>PSMB7</td>\n      <td>2</td>\n      <td>9606</td>\n      <td>ENSG00000136930</td>\n      <td>PSMB7</td>\n      <td>ENST00000259457.8</td>\n      <td>NaN</td>\n      <td>NaN</td>\n      <td>CRISPRko</td>\n      <td>CDS</td>\n      <td>...</td>\n      <td>48</td>\n      <td>AAAACTGGCACGACCATCGC</td>\n      <td>NaN</td>\n      <td>NaN</td>\n      <td>NaN</td>\n      <td>2</td>\n      <td>0</td>\n      <td>Preselected</td>\n      <td>0.048338</td>\n      <td>0.064880</td>\n    </tr>\n    <tr>\n      <th>2</th>\n      <td>PRC1</td>\n      <td>2</td>\n      <td>9606</td>\n      <td>ENSG00000198901</td>\n      <td>PRC1</td>\n      <td>ENST00000394249.8</td>\n      <td>NaN</td>\n      <td>NaN</td>\n      <td>CRISPRko</td>\n      <td>CDS</td>\n      <td>...</td>\n      <td>7</td>\n      <td>AAAAGATTTGCGCACCCAAG</td>\n      <td>NaN</td>\n      <td>NaN</td>\n      <td>NaN</td>\n      <td>1</td>\n      <td>0</td>\n      <td>Preselected</td>\n      <td>-0.129234</td>\n      <td>-0.063012</td>\n    </tr>\n    <tr>\n      <th>3</th>\n      <td>PRC1</td>\n      <td>2</td>\n      <td>9606</td>\n      <td>ENSG00000198901</td>\n      <td>PRC1</td>\n      <td>ENST00000394249.8</td>\n      <td>NaN</td>\n      <td>NaN</td>\n      <td>CRISPRko</td>\n      <td>CDS</td>\n      <td>...</td>\n      <td>8</td>\n      <td>CTTTGACCCAGACATAATGG</td>\n      <td>NaN</td>\n      <td>NaN</td>\n      <td>NaN</td>\n      <td>2</td>\n      <td>0</td>\n      <td>Preselected</td>\n      <td>0.061647</td>\n      <td>-0.126357</td>\n    </tr>\n    <tr>\n      <th>4</th>\n      <td>TOP1</td>\n      <td>2</td>\n      <td>9606</td>\n      <td>ENSG00000198900</td>\n      <td>TOP1</td>\n      <td>ENST00000361337.3</td>\n      <td>NaN</td>\n      <td>NaN</td>\n      <td>CRISPRko</td>\n      <td>CDS</td>\n      <td>...</td>\n      <td>1</td>\n      <td>NaN</td>\n      <td>NaN</td>\n      <td>BRDN0001486452</td>\n      <td>NaN</td>\n      <td>2</td>\n      <td>1</td>\n      <td>NaN</td>\n      <td>-0.009100</td>\n      <td>-0.234410</td>\n    </tr>\n  </tbody>\n</table>\n<p>5 rows × 62 columns</p>\n</div>",
      "text/plain": "   Input  Quota  Target Taxon   Target Gene ID Target Gene Symbol  \\\n0  PSMB7      2          9606  ENSG00000136930              PSMB7   \n1  PSMB7      2          9606  ENSG00000136930              PSMB7   \n2   PRC1      2          9606  ENSG00000198901               PRC1   \n3   PRC1      2          9606  ENSG00000198901               PRC1   \n4   TOP1      2          9606  ENSG00000198900               TOP1   \n\n   Target Transcript  Target Reference Coords  Target Alias CRISPR Mechanism  \\\n0  ENST00000259457.8                      NaN           NaN         CRISPRko   \n1  ENST00000259457.8                      NaN           NaN         CRISPRko   \n2  ENST00000394249.8                      NaN           NaN         CRISPRko   \n3  ENST00000394249.8                      NaN           NaN         CRISPRko   \n4  ENST00000361337.3                      NaN           NaN         CRISPRko   \n\n  Target Domain  ... Combined Rank        Preselected As  \\\n0           CDS  ...             7  GCAGATACAAGAGCAACTGA   \n1           CDS  ...            48  AAAACTGGCACGACCATCGC   \n2           CDS  ...             7  AAAAGATTTGCGCACCCAAG   \n3           CDS  ...             8  CTTTGACCCAGACATAATGG   \n4           CDS  ...             1                   NaN   \n\n  Matching Active Arrayed Oligos  Matching Arrayed Constructs  \\\n0                            NaN               BRDN0004619103   \n1                            NaN                          NaN   \n2                            NaN                          NaN   \n3                            NaN                          NaN   \n4                            NaN               BRDN0001486452   \n\n   Pools Containing Matching Construct  Pick Order  Picking Round  \\\n0                                  NaN           1              0   \n1                                  NaN           2              0   \n2                                  NaN           1              0   \n3                                  NaN           2              0   \n4                                  NaN           2              1   \n\n  Picking Notes Target Score Lite Target Score  \n0   Preselected          0.012467     0.152037  \n1   Preselected          0.048338     0.064880  \n2   Preselected         -0.129234    -0.063012  \n3   Preselected          0.061647    -0.126357  \n4           NaN         -0.009100    -0.234410  \n\n[5 rows x 62 columns]"
     },
     "execution_count": null,
     "metadata": {},
     "output_type": "execute_result"
    }
   ],
   "source": [
    "target_predictions = predict_target(design_df=design_df,\n",
    "                                    aa_subseq_df=aa_subseq_df,\n",
    "                                    domain_feature_df=domain_feature_df,\n",
    "                                    conservation_feature_df=conservation_feature_df,\n",
    "                                    id_cols=id_cols)\n",
    "design_df['Target Score'] = target_predictions\n",
    "design_df.head()"
   ]
  },
  {
   "cell_type": "markdown",
   "metadata": {},
   "source": [
    "Target Scores can be added directly to the sequence scores for your\n",
    "final Rule Set 3 predictions."
   ]
  },
  {
   "cell_type": "markdown",
   "metadata": {},
   "source": [
    "### Predict Function\n",
    "\n",
    "If you don't want to generate the target matrices themselves, you can\n",
    "use the `predict` function from the `predict` module."
   ]
  },
  {
   "cell_type": "code",
   "execution_count": null,
   "metadata": {},
   "outputs": [],
   "source": [
    "from rs3.predict import predict\n",
    "import matplotlib.pyplot as plt\n",
    "import gpplot\n",
    "import seaborn as sns"
   ]
  },
  {
   "cell_type": "markdown",
   "metadata": {},
   "source": [
    "As an example, we calculate predictions for GeckoV2 sgRNAs. The predict function\n",
    "allows for parallel computation for querying databases (`n_jobs_min`) and\n",
    "featurizing sgRNAs (`n_jobs_max`). We recommend keeping `n_jobs_min` set to 1 or\n",
    "2, as the APIs limit the amount of queries per hour."
   ]
  },
  {
   "cell_type": "code",
   "execution_count": null,
   "metadata": {},
   "outputs": [],
   "source": [
    "design_df = pd.read_table('test_data/sgrna-designs.txt')\n",
    "import multiprocessing\n",
    "max_n_jobs = multiprocessing.cpu_count()"
   ]
  },
  {
   "cell_type": "code",
   "execution_count": null,
   "metadata": {},
   "outputs": [
    {
     "name": "stdout",
     "output_type": "stream",
     "text": [
      "Calculating sequence-based features\n"
     ]
    },
    {
     "name": "stderr",
     "output_type": "stream",
     "text": [
      "100%|██████████| 400/400 [00:03<00:00, 107.39it/s]\n"
     ]
    },
    {
     "name": "stdout",
     "output_type": "stream",
     "text": [
      "Calculating sequence-based features\n"
     ]
    },
    {
     "name": "stderr",
     "output_type": "stream",
     "text": [
      "100%|██████████| 400/400 [00:00<00:00, 2413.62it/s]\n",
      "/Users/pdeweird/opt/anaconda3/envs/rs3/lib/python3.8/site-packages/sklearn/base.py:310: UserWarning: Trying to unpickle estimator SimpleImputer from version 1.0.dev0 when using version 0.24.2. This might lead to breaking code or invalid results. Use at your own risk.\n",
      "  warnings.warn(\n",
      "/Users/pdeweird/opt/anaconda3/envs/rs3/lib/python3.8/site-packages/sklearn/base.py:310: UserWarning: Trying to unpickle estimator Pipeline from version 1.0.dev0 when using version 0.24.2. This might lead to breaking code or invalid results. Use at your own risk.\n",
      "  warnings.warn(\n"
     ]
    },
    {
     "data": {
      "text/html": "<div>\n<style scoped>\n    .dataframe tbody tr th:only-of-type {\n        vertical-align: middle;\n    }\n\n    .dataframe tbody tr th {\n        vertical-align: top;\n    }\n\n    .dataframe thead th {\n        text-align: right;\n    }\n</style>\n<table border=\"1\" class=\"dataframe\">\n  <thead>\n    <tr style=\"text-align: right;\">\n      <th></th>\n      <th>Input</th>\n      <th>Quota</th>\n      <th>Target Taxon</th>\n      <th>Target Gene ID</th>\n      <th>Target Gene Symbol</th>\n      <th>Target Transcript</th>\n      <th>Target Reference Coords</th>\n      <th>Target Alias</th>\n      <th>CRISPR Mechanism</th>\n      <th>Target Domain</th>\n      <th>...</th>\n      <th>Picking Round</th>\n      <th>Picking Notes</th>\n      <th>RS3 Sequence Score (Hsu2013 tracr)</th>\n      <th>RS3 Sequence Score (Chen2013 tracr)</th>\n      <th>AA Index</th>\n      <th>Transcript Base</th>\n      <th>Missing conservation information</th>\n      <th>Target Score</th>\n      <th>RS3 Sequence (Hsu2013 tracr) + Target Score</th>\n      <th>RS3 Sequence (Chen2013 tracr) + Target Score</th>\n    </tr>\n  </thead>\n  <tbody>\n    <tr>\n      <th>0</th>\n      <td>PSMB7</td>\n      <td>2</td>\n      <td>9606</td>\n      <td>ENSG00000136930</td>\n      <td>PSMB7</td>\n      <td>ENST00000259457.8</td>\n      <td>NaN</td>\n      <td>NaN</td>\n      <td>CRISPRko</td>\n      <td>CDS</td>\n      <td>...</td>\n      <td>0</td>\n      <td>Preselected</td>\n      <td>0.750904</td>\n      <td>0.512534</td>\n      <td>64</td>\n      <td>ENST00000259457</td>\n      <td>False</td>\n      <td>0.152037</td>\n      <td>0.902940</td>\n      <td>0.664571</td>\n    </tr>\n    <tr>\n      <th>1</th>\n      <td>PSMB7</td>\n      <td>2</td>\n      <td>9606</td>\n      <td>ENSG00000136930</td>\n      <td>PSMB7</td>\n      <td>ENST00000259457.8</td>\n      <td>NaN</td>\n      <td>NaN</td>\n      <td>CRISPRko</td>\n      <td>CDS</td>\n      <td>...</td>\n      <td>0</td>\n      <td>Preselected</td>\n      <td>-0.218514</td>\n      <td>-0.095684</td>\n      <td>46</td>\n      <td>ENST00000259457</td>\n      <td>False</td>\n      <td>0.064880</td>\n      <td>-0.153634</td>\n      <td>-0.030804</td>\n    </tr>\n    <tr>\n      <th>2</th>\n      <td>PRC1</td>\n      <td>2</td>\n      <td>9606</td>\n      <td>ENSG00000198901</td>\n      <td>PRC1</td>\n      <td>ENST00000394249.8</td>\n      <td>NaN</td>\n      <td>NaN</td>\n      <td>CRISPRko</td>\n      <td>CDS</td>\n      <td>...</td>\n      <td>0</td>\n      <td>Preselected</td>\n      <td>-0.126708</td>\n      <td>-0.307830</td>\n      <td>106</td>\n      <td>ENST00000394249</td>\n      <td>False</td>\n      <td>-0.063012</td>\n      <td>-0.189720</td>\n      <td>-0.370842</td>\n    </tr>\n    <tr>\n      <th>3</th>\n      <td>PRC1</td>\n      <td>2</td>\n      <td>9606</td>\n      <td>ENSG00000198901</td>\n      <td>PRC1</td>\n      <td>ENST00000394249.8</td>\n      <td>NaN</td>\n      <td>NaN</td>\n      <td>CRISPRko</td>\n      <td>CDS</td>\n      <td>...</td>\n      <td>0</td>\n      <td>Preselected</td>\n      <td>0.690050</td>\n      <td>0.390095</td>\n      <td>263</td>\n      <td>ENST00000394249</td>\n      <td>False</td>\n      <td>-0.126357</td>\n      <td>0.563693</td>\n      <td>0.263738</td>\n    </tr>\n    <tr>\n      <th>4</th>\n      <td>TOP1</td>\n      <td>2</td>\n      <td>9606</td>\n      <td>ENSG00000198900</td>\n      <td>TOP1</td>\n      <td>ENST00000361337.3</td>\n      <td>NaN</td>\n      <td>NaN</td>\n      <td>CRISPRko</td>\n      <td>CDS</td>\n      <td>...</td>\n      <td>1</td>\n      <td>NaN</td>\n      <td>0.451508</td>\n      <td>-0.169016</td>\n      <td>140</td>\n      <td>ENST00000361337</td>\n      <td>False</td>\n      <td>-0.234410</td>\n      <td>0.217098</td>\n      <td>-0.403426</td>\n    </tr>\n  </tbody>\n</table>\n<p>5 rows × 68 columns</p>\n</div>",
      "text/plain": "   Input  Quota  Target Taxon   Target Gene ID Target Gene Symbol  \\\n0  PSMB7      2          9606  ENSG00000136930              PSMB7   \n1  PSMB7      2          9606  ENSG00000136930              PSMB7   \n2   PRC1      2          9606  ENSG00000198901               PRC1   \n3   PRC1      2          9606  ENSG00000198901               PRC1   \n4   TOP1      2          9606  ENSG00000198900               TOP1   \n\n   Target Transcript  Target Reference Coords  Target Alias CRISPR Mechanism  \\\n0  ENST00000259457.8                      NaN           NaN         CRISPRko   \n1  ENST00000259457.8                      NaN           NaN         CRISPRko   \n2  ENST00000394249.8                      NaN           NaN         CRISPRko   \n3  ENST00000394249.8                      NaN           NaN         CRISPRko   \n4  ENST00000361337.3                      NaN           NaN         CRISPRko   \n\n  Target Domain  ... Picking Round Picking Notes  \\\n0           CDS  ...             0   Preselected   \n1           CDS  ...             0   Preselected   \n2           CDS  ...             0   Preselected   \n3           CDS  ...             0   Preselected   \n4           CDS  ...             1           NaN   \n\n  RS3 Sequence Score (Hsu2013 tracr)  RS3 Sequence Score (Chen2013 tracr)  \\\n0                           0.750904                             0.512534   \n1                          -0.218514                            -0.095684   \n2                          -0.126708                            -0.307830   \n3                           0.690050                             0.390095   \n4                           0.451508                            -0.169016   \n\n   AA Index  Transcript Base  Missing conservation information Target Score  \\\n0        64  ENST00000259457                             False     0.152037   \n1        46  ENST00000259457                             False     0.064880   \n2       106  ENST00000394249                             False    -0.063012   \n3       263  ENST00000394249                             False    -0.126357   \n4       140  ENST00000361337                             False    -0.234410   \n\n  RS3 Sequence (Hsu2013 tracr) + Target Score  \\\n0                                    0.902940   \n1                                   -0.153634   \n2                                   -0.189720   \n3                                    0.563693   \n4                                    0.217098   \n\n  RS3 Sequence (Chen2013 tracr) + Target Score  \n0                                     0.664571  \n1                                    -0.030804  \n2                                    -0.370842  \n3                                     0.263738  \n4                                    -0.403426  \n\n[5 rows x 68 columns]"
     },
     "execution_count": null,
     "metadata": {},
     "output_type": "execute_result"
    }
   ],
   "source": [
    "scored_designs = predict(design_df, tracr=['Hsu2013', 'Chen2013'], target=True,\n",
    "                         n_jobs_min=2, n_jobs_max=max_n_jobs,\n",
    "                         aa_seq_file='./data/target_data/aa_seqs.pq',\n",
    "                         domain_file='./data/target_data/protein_domains.pq',\n",
    "                         conservatin_file='./data/target_data/conservation.pq',\n",
    "                         lite=False)\n",
    "scored_designs.head()"
   ]
  },
  {
   "cell_type": "markdown",
   "metadata": {},
   "source": [
    "In the above function\n",
    "* `tracr` - tracr to calculate scores for. If a list is supplied instead of a string, scores\n",
    "will be calculated for both tracrs\n",
    "* `target` - boolean indicating whether to calculate target scores\n",
    "* `n_jobs_min`, `n_jobs_max`  - number of cpus to use for parallel computation\n",
    "* `aa_seq_file`, `domain_file`, `conservatin_file` - precalculated parquet files. Optional inputs\n",
    "as these features can also be calulated on the fly\n",
    "* `lite` - boolean indicating whether to calculate lite target scores\n",
    "\n",
    "By listing both tracrRNAs `tracr=['Hsu2013', 'Chen2013']` and setting `target=True`, we calculate\n",
    "5 unique scores: one sequence score for each tracr, the target score, and the sequence scores plus the target score."
   ]
  },
  {
   "cell_type": "markdown",
   "metadata": {},
   "source": [
    "We can compare these predictions against the observed activity from GeckoV2"
   ]
  },
  {
   "cell_type": "code",
   "execution_count": null,
   "metadata": {},
   "outputs": [
    {
     "data": {
      "text/html": "<div>\n<style scoped>\n    .dataframe tbody tr th:only-of-type {\n        vertical-align: middle;\n    }\n\n    .dataframe tbody tr th {\n        vertical-align: top;\n    }\n\n    .dataframe thead th {\n        text-align: right;\n    }\n</style>\n<table border=\"1\" class=\"dataframe\">\n  <thead>\n    <tr style=\"text-align: right;\">\n      <th></th>\n      <th>sgRNA Sequence</th>\n      <th>sgRNA Context Sequence</th>\n      <th>Target Gene Symbol</th>\n      <th>Target Cut %</th>\n      <th>avg_mean_centered_neg_lfc</th>\n    </tr>\n  </thead>\n  <tbody>\n    <tr>\n      <th>0</th>\n      <td>AAAAAACTTACCCCTTTGAC</td>\n      <td>AAAAAAAAAACTTACCCCTTTGACTGGCCA</td>\n      <td>CPSF6</td>\n      <td>22.2</td>\n      <td>-1.139819</td>\n    </tr>\n    <tr>\n      <th>1</th>\n      <td>AAAAACATTATCATTGAGCC</td>\n      <td>TGGCAAAAACATTATCATTGAGCCTGGATT</td>\n      <td>SKA3</td>\n      <td>62.3</td>\n      <td>-0.793055</td>\n    </tr>\n    <tr>\n      <th>2</th>\n      <td>AAAAAGAGATTGTCAAATCA</td>\n      <td>TATGAAAAAGAGATTGTCAAATCAAGGTAG</td>\n      <td>AQR</td>\n      <td>3.8</td>\n      <td>0.946453</td>\n    </tr>\n    <tr>\n      <th>3</th>\n      <td>AAAAAGCATCTCTAGAAATA</td>\n      <td>TTCAAAAAAGCATCTCTAGAAATATGGTCC</td>\n      <td>ZNHIT6</td>\n      <td>61.7</td>\n      <td>-0.429590</td>\n    </tr>\n    <tr>\n      <th>4</th>\n      <td>AAAAAGCGAGATACCCGAAA</td>\n      <td>AAAAAAAAAGCGAGATACCCGAAAAGGCAG</td>\n      <td>ABCF1</td>\n      <td>9.4</td>\n      <td>0.734196</td>\n    </tr>\n  </tbody>\n</table>\n</div>",
      "text/plain": "         sgRNA Sequence          sgRNA Context Sequence Target Gene Symbol  \\\n0  AAAAAACTTACCCCTTTGAC  AAAAAAAAAACTTACCCCTTTGACTGGCCA              CPSF6   \n1  AAAAACATTATCATTGAGCC  TGGCAAAAACATTATCATTGAGCCTGGATT               SKA3   \n2  AAAAAGAGATTGTCAAATCA  TATGAAAAAGAGATTGTCAAATCAAGGTAG                AQR   \n3  AAAAAGCATCTCTAGAAATA  TTCAAAAAAGCATCTCTAGAAATATGGTCC             ZNHIT6   \n4  AAAAAGCGAGATACCCGAAA  AAAAAAAAAGCGAGATACCCGAAAAGGCAG              ABCF1   \n\n   Target Cut %  avg_mean_centered_neg_lfc  \n0          22.2                  -1.139819  \n1          62.3                  -0.793055  \n2           3.8                   0.946453  \n3          61.7                  -0.429590  \n4           9.4                   0.734196  "
     },
     "execution_count": null,
     "metadata": {},
     "output_type": "execute_result"
    }
   ],
   "source": [
    "gecko_activity = pd.read_csv('test_data/Aguirre2016_activity.csv')\n",
    "gecko_activity.head()"
   ]
  },
  {
   "cell_type": "code",
   "execution_count": null,
   "metadata": {},
   "outputs": [
    {
     "data": {
      "text/html": "<div>\n<style scoped>\n    .dataframe tbody tr th:only-of-type {\n        vertical-align: middle;\n    }\n\n    .dataframe tbody tr th {\n        vertical-align: top;\n    }\n\n    .dataframe thead th {\n        text-align: right;\n    }\n</style>\n<table border=\"1\" class=\"dataframe\">\n  <thead>\n    <tr style=\"text-align: right;\">\n      <th></th>\n      <th>sgRNA Sequence</th>\n      <th>sgRNA Context Sequence</th>\n      <th>Target Gene Symbol</th>\n      <th>Target Cut %</th>\n      <th>avg_mean_centered_neg_lfc</th>\n      <th>Input</th>\n      <th>Quota</th>\n      <th>Target Taxon</th>\n      <th>Target Gene ID</th>\n      <th>Target Transcript</th>\n      <th>...</th>\n      <th>Picking Round</th>\n      <th>Picking Notes</th>\n      <th>RS3 Sequence Score (Hsu2013 tracr)</th>\n      <th>RS3 Sequence Score (Chen2013 tracr)</th>\n      <th>AA Index</th>\n      <th>Transcript Base</th>\n      <th>Missing conservation information</th>\n      <th>Target Score</th>\n      <th>RS3 Sequence (Hsu2013 tracr) + Target Score</th>\n      <th>RS3 Sequence (Chen2013 tracr) + Target Score</th>\n    </tr>\n  </thead>\n  <tbody>\n    <tr>\n      <th>0</th>\n      <td>AAAACTGGCACGACCATCGC</td>\n      <td>CCGGAAAACTGGCACGACCATCGCTGGGGT</td>\n      <td>PSMB7</td>\n      <td>16.4</td>\n      <td>-1.052943</td>\n      <td>PSMB7</td>\n      <td>2</td>\n      <td>9606</td>\n      <td>ENSG00000136930</td>\n      <td>ENST00000259457.8</td>\n      <td>...</td>\n      <td>0</td>\n      <td>Preselected</td>\n      <td>-0.218514</td>\n      <td>-0.095684</td>\n      <td>46</td>\n      <td>ENST00000259457</td>\n      <td>False</td>\n      <td>0.064880</td>\n      <td>-0.153634</td>\n      <td>-0.030804</td>\n    </tr>\n    <tr>\n      <th>1</th>\n      <td>AAAAGATTTGCGCACCCAAG</td>\n      <td>TAGAAAAAGATTTGCGCACCCAAGTGGAAT</td>\n      <td>PRC1</td>\n      <td>17.0</td>\n      <td>0.028674</td>\n      <td>PRC1</td>\n      <td>2</td>\n      <td>9606</td>\n      <td>ENSG00000198901</td>\n      <td>ENST00000394249.8</td>\n      <td>...</td>\n      <td>0</td>\n      <td>Preselected</td>\n      <td>-0.126708</td>\n      <td>-0.307830</td>\n      <td>106</td>\n      <td>ENST00000394249</td>\n      <td>False</td>\n      <td>-0.063012</td>\n      <td>-0.189720</td>\n      <td>-0.370842</td>\n    </tr>\n    <tr>\n      <th>2</th>\n      <td>AAAAGTCCAAGCATAGCAAC</td>\n      <td>CGGGAAAAGTCCAAGCATAGCAACAGGTAA</td>\n      <td>TOP1</td>\n      <td>6.5</td>\n      <td>0.195309</td>\n      <td>TOP1</td>\n      <td>2</td>\n      <td>9606</td>\n      <td>ENSG00000198900</td>\n      <td>ENST00000361337.3</td>\n      <td>...</td>\n      <td>0</td>\n      <td>Preselected</td>\n      <td>-0.356580</td>\n      <td>-0.082514</td>\n      <td>50</td>\n      <td>ENST00000361337</td>\n      <td>False</td>\n      <td>-0.354708</td>\n      <td>-0.711288</td>\n      <td>-0.437222</td>\n    </tr>\n    <tr>\n      <th>3</th>\n      <td>AAAGAAGCCTCAACTTCGTC</td>\n      <td>AGCGAAAGAAGCCTCAACTTCGTCTGGAGA</td>\n      <td>CENPW</td>\n      <td>37.5</td>\n      <td>-1.338209</td>\n      <td>CENPW</td>\n      <td>2</td>\n      <td>9606</td>\n      <td>ENSG00000203760</td>\n      <td>ENST00000368328.5</td>\n      <td>...</td>\n      <td>0</td>\n      <td>Preselected</td>\n      <td>-0.663540</td>\n      <td>-0.303324</td>\n      <td>34</td>\n      <td>ENST00000368328</td>\n      <td>False</td>\n      <td>0.129285</td>\n      <td>-0.534255</td>\n      <td>-0.174039</td>\n    </tr>\n    <tr>\n      <th>4</th>\n      <td>AAAGTGTGCTTTGTTGGAGA</td>\n      <td>TACTAAAGTGTGCTTTGTTGGAGATGGCTT</td>\n      <td>NSA2</td>\n      <td>60.0</td>\n      <td>-0.175219</td>\n      <td>NSA2</td>\n      <td>2</td>\n      <td>9606</td>\n      <td>ENSG00000164346</td>\n      <td>ENST00000610426.5</td>\n      <td>...</td>\n      <td>0</td>\n      <td>Preselected</td>\n      <td>-0.413636</td>\n      <td>-0.585179</td>\n      <td>157</td>\n      <td>ENST00000610426</td>\n      <td>False</td>\n      <td>-0.113577</td>\n      <td>-0.527213</td>\n      <td>-0.698756</td>\n    </tr>\n  </tbody>\n</table>\n<p>5 rows × 69 columns</p>\n</div>",
      "text/plain": "         sgRNA Sequence          sgRNA Context Sequence Target Gene Symbol  \\\n0  AAAACTGGCACGACCATCGC  CCGGAAAACTGGCACGACCATCGCTGGGGT              PSMB7   \n1  AAAAGATTTGCGCACCCAAG  TAGAAAAAGATTTGCGCACCCAAGTGGAAT               PRC1   \n2  AAAAGTCCAAGCATAGCAAC  CGGGAAAAGTCCAAGCATAGCAACAGGTAA               TOP1   \n3  AAAGAAGCCTCAACTTCGTC  AGCGAAAGAAGCCTCAACTTCGTCTGGAGA              CENPW   \n4  AAAGTGTGCTTTGTTGGAGA  TACTAAAGTGTGCTTTGTTGGAGATGGCTT               NSA2   \n\n   Target Cut %  avg_mean_centered_neg_lfc  Input  Quota  Target Taxon  \\\n0          16.4                  -1.052943  PSMB7      2          9606   \n1          17.0                   0.028674   PRC1      2          9606   \n2           6.5                   0.195309   TOP1      2          9606   \n3          37.5                  -1.338209  CENPW      2          9606   \n4          60.0                  -0.175219   NSA2      2          9606   \n\n    Target Gene ID  Target Transcript  ...  Picking Round  Picking Notes  \\\n0  ENSG00000136930  ENST00000259457.8  ...              0    Preselected   \n1  ENSG00000198901  ENST00000394249.8  ...              0    Preselected   \n2  ENSG00000198900  ENST00000361337.3  ...              0    Preselected   \n3  ENSG00000203760  ENST00000368328.5  ...              0    Preselected   \n4  ENSG00000164346  ENST00000610426.5  ...              0    Preselected   \n\n  RS3 Sequence Score (Hsu2013 tracr) RS3 Sequence Score (Chen2013 tracr)  \\\n0                          -0.218514                           -0.095684   \n1                          -0.126708                           -0.307830   \n2                          -0.356580                           -0.082514   \n3                          -0.663540                           -0.303324   \n4                          -0.413636                           -0.585179   \n\n  AA Index  Transcript Base Missing conservation information  Target Score  \\\n0       46  ENST00000259457                            False      0.064880   \n1      106  ENST00000394249                            False     -0.063012   \n2       50  ENST00000361337                            False     -0.354708   \n3       34  ENST00000368328                            False      0.129285   \n4      157  ENST00000610426                            False     -0.113577   \n\n   RS3 Sequence (Hsu2013 tracr) + Target Score  \\\n0                                    -0.153634   \n1                                    -0.189720   \n2                                    -0.711288   \n3                                    -0.534255   \n4                                    -0.527213   \n\n   RS3 Sequence (Chen2013 tracr) + Target Score  \n0                                     -0.030804  \n1                                     -0.370842  \n2                                     -0.437222  \n3                                     -0.174039  \n4                                     -0.698756  \n\n[5 rows x 69 columns]"
     },
     "execution_count": null,
     "metadata": {},
     "output_type": "execute_result"
    }
   ],
   "source": [
    "gecko_activity_scores = (gecko_activity.merge(scored_designs,\n",
    "                                              how='inner',\n",
    "                                              on=['sgRNA Sequence', 'sgRNA Context Sequence',\n",
    "                                                  'Target Gene Symbol', 'Target Cut %']))\n",
    "gecko_activity_scores.head()"
   ]
  },
  {
   "cell_type": "markdown",
   "metadata": {},
   "source": [
    "Since GeckoV2 was screened with the tracrRNA from Hsu et al. 2013, we'll use these scores sequence\n",
    "scores a part of our final prediction."
   ]
  },
  {
   "cell_type": "code",
   "execution_count": null,
   "metadata": {},
   "outputs": [
    {
     "data": {
      "image/png": "[encoded data removed]",
      "text/plain": "<Figure size 288x288 with 1 Axes>"
     },
     "metadata": {
      "needs_background": "light"
     },
     "output_type": "display_data"
    }
   ],
   "source": [
    "plt.subplots(figsize=(4,4))\n",
    "gpplot.point_densityplot(gecko_activity_scores, y='avg_mean_centered_neg_lfc',\n",
    "                         x='RS3 Sequence (Hsu2013 tracr) + Target Score')\n",
    "gpplot.add_correlation(gecko_activity_scores, y='avg_mean_centered_neg_lfc',\n",
    "                       x='RS3 Sequence (Hsu2013 tracr) + Target Score')\n",
    "sns.despine()"
   ]
  },
  {
   "cell_type": "code",
   "execution_count": null,
   "metadata": {},
   "outputs": [],
   "source": []
  }
 ],
 "metadata": {
  "kernelspec": {
   "display_name": "Python 3",
   "language": "python",
   "name": "python3"
  }
 },
 "nbformat": 4,
 "nbformat_minor": 4
}
